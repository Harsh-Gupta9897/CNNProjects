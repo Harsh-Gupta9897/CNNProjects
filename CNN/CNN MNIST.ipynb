{
 "cells": [
  {
   "cell_type": "code",
   "execution_count": 1,
   "id": "682f91fe",
   "metadata": {},
   "outputs": [],
   "source": [
    "import torch\n",
    "import torch.optim as optim\n",
    "import torch.nn as nn\n",
    "import torch.nn.functional as F\n",
    "from torch.utils.data import DataLoader2\n",
    "\n",
    "import torchvision\n",
    "from torchvision.datasets import MNIST\n",
    "from torchvision.transforms import transforms\n",
    "\n",
    "\n",
    "import matplotlib.pyplot as plt\n",
    "import seaborn as sns\n",
    "%matplotlib inline\n",
    "\n",
    "\n",
    "from sklearn.metrics import classification_report , confusion_matrix\n"
   ]
  },
  {
   "cell_type": "code",
   "execution_count": 2,
   "id": "9092339b",
   "metadata": {},
   "outputs": [],
   "source": [
    "batch_size = 64"
   ]
  },
  {
   "cell_type": "code",
   "execution_count": 3,
   "id": "f99f561a",
   "metadata": {},
   "outputs": [],
   "source": [
    "train_dataset = MNIST(root='Datasets/',download=True,transform=transforms.ToTensor())\n",
    "test_dataset = MNIST(root='Datasets/',train=False,transform=transforms.ToTensor())"
   ]
  },
  {
   "cell_type": "code",
   "execution_count": 4,
   "id": "7d4bff73",
   "metadata": {},
   "outputs": [],
   "source": [
    "train_loader = DataLoader2(train_dataset,batch_size=batch_size,shuffle=True) \n",
    "test_loader = DataLoader2(test_dataset,batch_size=batch_size,shuffle=True) \n"
   ]
  },
  {
   "cell_type": "code",
   "execution_count": 5,
   "id": "cdb7d175",
   "metadata": {},
   "outputs": [],
   "source": [
    "def accuracy(train_loader,test_loader,model,reshape=True):\n",
    "    model.eval()\n",
    "    r_pred=[]\n",
    "    r=[]\n",
    "    for _,(x,y) in enumerate(train_loader):\n",
    "        if reshape==True:\n",
    "            x = x.reshape(x.shape[0],-1)\n",
    "        scores = model(x)\n",
    "        _, y_pred = scores.max(1)\n",
    "        r = r + list(y.numpy())\n",
    "        r_pred = r_pred + list(y_pred.numpy())\n",
    "    \n",
    "    print(\"\\n\\n########## Train Data Accuracy ######### \\n\\n\")\n",
    "    print(classification_report(r,r_pred))\n",
    "    sns.heatmap(confusion_matrix(r,r_pred))\n",
    "    plt.show()\n",
    "    \n",
    "    \n",
    "    \n",
    "    r_pred=[]\n",
    "    r=[]\n",
    "    for _,(x,y) in enumerate(test_loader):\n",
    "        if reshape==True:\n",
    "            x = x.reshape(x.shape[0],-1)\n",
    "        scores = model(x)\n",
    "        _, y_pred = scores.max(1)\n",
    "        r = r + list(y.numpy())\n",
    "        r_pred = r_pred + list(y_pred.numpy())\n",
    "    \n",
    "    print(\"\\n\\n########## Test Data Accuracy ######### \\n\\n\") \n",
    "    print(classification_report(r,r_pred))\n",
    "    sns.heatmap(confusion_matrix(r,r_pred))\n"
   ]
  },
  {
   "cell_type": "code",
   "execution_count": 6,
   "id": "1c4d66e6",
   "metadata": {},
   "outputs": [],
   "source": [
    "class Network(nn.Module):\n",
    "    def __init__(self,input_size,num_classes):\n",
    "        super(Network,self).__init__()\n",
    "        self.fc1 = nn.Linear(input_size,30)        \n",
    "        self.fc2 = nn.Linear(30,num_classes)\n",
    "    def forward(self,x):\n",
    "        x = F.relu(self.fc1(x))        \n",
    "        x = self.fc2(x)       \n",
    "#         x = self.fc2(x)\n",
    "        return x\n",
    "\n",
    "\n",
    "    "
   ]
  },
  {
   "cell_type": "code",
   "execution_count": 7,
   "id": "afa1f783",
   "metadata": {},
   "outputs": [],
   "source": [
    "### parameter Initialization\n",
    "\n",
    "input_size= 784\n",
    "num_classes= 10\n",
    "lr = 0.001\n",
    "\n",
    "epochs = 3\n",
    "\n",
    "\n",
    "## Model Initialization\n",
    "model = Network(input_size,num_classes)\n",
    "\n",
    "\n",
    "## Loss Function and Optimizer\n",
    "loss_func = nn.CrossEntropyLoss()\n",
    "optimizer = optim.Adam(model.parameters(),lr=0.001,)\n",
    "\n",
    "\n",
    "##### Train The network ##########\n",
    "\n",
    "for epoch in range(epochs):\n",
    "    for batch_id,(x,y) in  enumerate(train_loader):\n",
    "        \n",
    "        x = x.reshape(x.shape[0],-1)\n",
    "        scores = model(x)\n",
    "        loss = loss_func(scores,y)\n",
    "        \n",
    "        # backward prop\n",
    "        optimizer.zero_grad()\n",
    "        loss.backward()\n",
    "        \n",
    "        optimizer.step()\n",
    "\n"
   ]
  },
  {
   "cell_type": "code",
   "execution_count": 8,
   "id": "063698ea",
   "metadata": {},
   "outputs": [
    {
     "name": "stdout",
     "output_type": "stream",
     "text": [
      "\n",
      "\n",
      "########## Train Data Accuracy ######### \n",
      "\n",
      "\n",
      "              precision    recall  f1-score   support\n",
      "\n",
      "           0       0.97      0.98      0.98      5923\n",
      "           1       0.97      0.97      0.97      6742\n",
      "           2       0.94      0.96      0.95      5958\n",
      "           3       0.93      0.94      0.93      6131\n",
      "           4       0.96      0.94      0.95      5842\n",
      "           5       0.95      0.92      0.93      5421\n",
      "           6       0.98      0.96      0.97      5918\n",
      "           7       0.97      0.96      0.96      6265\n",
      "           8       0.93      0.94      0.94      5851\n",
      "           9       0.93      0.95      0.94      5949\n",
      "\n",
      "    accuracy                           0.95     60000\n",
      "   macro avg       0.95      0.95      0.95     60000\n",
      "weighted avg       0.95      0.95      0.95     60000\n",
      "\n"
     ]
    },
    {
     "data": {
      "image/png": "[encoded data removed]",
      "text/plain": [
       "<Figure size 432x288 with 2 Axes>"
      ]
     },
     "metadata": {
      "needs_background": "light"
     },
     "output_type": "display_data"
    },
    {
     "name": "stdout",
     "output_type": "stream",
     "text": [
      "\n",
      "\n",
      "########## Test Data Accuracy ######### \n",
      "\n",
      "\n",
      "              precision    recall  f1-score   support\n",
      "\n",
      "           0       0.96      0.99      0.97       980\n",
      "           1       0.98      0.98      0.98      1135\n",
      "           2       0.95      0.95      0.95      1032\n",
      "           3       0.92      0.95      0.93      1010\n",
      "           4       0.95      0.95      0.95       982\n",
      "           5       0.95      0.90      0.92       892\n",
      "           6       0.97      0.95      0.96       958\n",
      "           7       0.97      0.94      0.95      1028\n",
      "           8       0.93      0.94      0.93       974\n",
      "           9       0.94      0.94      0.94      1009\n",
      "\n",
      "    accuracy                           0.95     10000\n",
      "   macro avg       0.95      0.95      0.95     10000\n",
      "weighted avg       0.95      0.95      0.95     10000\n",
      "\n"
     ]
    },
    {
     "data": {
      "image/png": "[encoded data removed]",
      "text/plain": [
       "<Figure size 432x288 with 2 Axes>"
      ]
     },
     "metadata": {
      "needs_background": "light"
     },
     "output_type": "display_data"
    }
   ],
   "source": [
    "accuracy(train_loader,test_loader,model)"
   ]
  },
  {
   "cell_type": "code",
   "execution_count": 9,
   "id": "bcd709ad",
   "metadata": {},
   "outputs": [],
   "source": [
    "######### CNN Example\n",
    "class CNN(nn.Module):\n",
    "    def __init__(self,in_channels=1,num_classes=10):\n",
    "        super(CNN,self).__init__()\n",
    "        self.conv1 = nn.Conv2d(in_channels,8,kernel_size=(2,2),stride=(1,1),padding=(1,1))\n",
    "        self.conv2 = nn.Conv2d(8,16,kernel_size=(2,2),stride=(1,1),padding=(1,1))\n",
    "        self.maxpool = nn.MaxPool2d(kernel_size=(2,2),stride=(2,2))\n",
    "        self.fc1 = nn.Linear(16*7*7,10)        \n",
    "#         self.fc2 = nn.Linear(20,num_classes)\n",
    "    def forward(self,x):\n",
    "        x = F.relu(self.conv1(x))\n",
    "        x = self.maxpool(x)\n",
    "        x = F.relu(self.conv2(x))\n",
    "        x = self.maxpool(x)\n",
    "        x = x.reshape(x.shape[0],-1)\n",
    "#         print(x.shape)\n",
    "        x = self.fc1(x)     \n",
    "#         x = self.fc2(x)       \n",
    "#         x = self.fc2(x)\n",
    "        return x"
   ]
  },
  {
   "cell_type": "code",
   "execution_count": 10,
   "id": "2bd7cd96",
   "metadata": {},
   "outputs": [],
   "source": [
    "in_channels= 1\n",
    "num_classes= 10\n",
    "lr = 0.001\n",
    "epochs = 3\n",
    "\n",
    "## Model Initialization\n",
    "model_cnn = CNN(in_channels,num_classes)\n",
    "\n",
    "\n",
    "## Loss Function and Optimizer\n",
    "loss_func = nn.CrossEntropyLoss()\n",
    "optimizer = optim.Adam(model_cnn.parameters(),lr=0.001,)\n",
    "\n",
    "\n",
    "##### Train The network ##########\n",
    "\n",
    "for epoch in range(epochs):\n",
    "    for batch_id,(x,y) in  enumerate(train_loader):\n",
    "        \n",
    "#         x = x.reshape(x.shape[0],-1)\n",
    "        scores = model_cnn(x)\n",
    "        loss = loss_func(scores,y)\n",
    "        \n",
    "        # backward prop\n",
    "        optimizer.zero_grad()\n",
    "        loss.backward()\n",
    "        \n",
    "        optimizer.step()\n",
    "\n",
    "\n",
    "\n",
    "        \n"
   ]
  },
  {
   "cell_type": "code",
   "execution_count": 11,
   "id": "8e62b389",
   "metadata": {},
   "outputs": [
    {
     "name": "stdout",
     "output_type": "stream",
     "text": [
      "\n",
      "\n",
      "########## Train Data Accuracy ######### \n",
      "\n",
      "\n",
      "              precision    recall  f1-score   support\n",
      "\n",
      "           0       0.99      0.99      0.99      5923\n",
      "           1       0.98      0.99      0.98      6742\n",
      "           2       0.98      0.96      0.97      5958\n",
      "           3       0.99      0.94      0.97      6131\n",
      "           4       0.98      0.97      0.98      5842\n",
      "           5       0.96      0.98      0.97      5421\n",
      "           6       0.98      0.99      0.99      5918\n",
      "           7       0.96      0.98      0.97      6265\n",
      "           8       0.97      0.96      0.96      5851\n",
      "           9       0.96      0.96      0.96      5949\n",
      "\n",
      "    accuracy                           0.97     60000\n",
      "   macro avg       0.97      0.97      0.97     60000\n",
      "weighted avg       0.97      0.97      0.97     60000\n",
      "\n"
     ]
    },
    {
     "data": {
      "image/png": "[encoded data removed]",
      "text/plain": [
       "<Figure size 432x288 with 2 Axes>"
      ]
     },
     "metadata": {
      "needs_background": "light"
     },
     "output_type": "display_data"
    },
    {
     "name": "stdout",
     "output_type": "stream",
     "text": [
      "\n",
      "\n",
      "########## Test Data Accuracy ######### \n",
      "\n",
      "\n",
      "              precision    recall  f1-score   support\n",
      "\n",
      "           0       0.97      0.99      0.98       980\n",
      "           1       0.99      0.99      0.99      1135\n",
      "           2       0.98      0.96      0.97      1032\n",
      "           3       0.99      0.95      0.97      1010\n",
      "           4       0.98      0.98      0.98       982\n",
      "           5       0.96      0.98      0.97       892\n",
      "           6       0.99      0.98      0.99       958\n",
      "           7       0.95      0.98      0.97      1028\n",
      "           8       0.96      0.96      0.96       974\n",
      "           9       0.96      0.96      0.96      1009\n",
      "\n",
      "    accuracy                           0.97     10000\n",
      "   macro avg       0.97      0.97      0.97     10000\n",
      "weighted avg       0.97      0.97      0.97     10000\n",
      "\n"
     ]
    },
    {
     "data": {
      "image/png": "[encoded data removed]",
      "text/plain": [
       "<Figure size 432x288 with 2 Axes>"
      ]
     },
     "metadata": {
      "needs_background": "light"
     },
     "output_type": "display_data"
    }
   ],
   "source": [
    "accuracy(train_loader,test_loader,model_cnn,reshape=False)"
   ]
  },
  {
   "cell_type": "code",
   "execution_count": null,
   "id": "039d328b",
   "metadata": {},
   "outputs": [],
   "source": []
  },
  {
   "cell_type": "code",
   "execution_count": null,
   "id": "a7958ca2",
   "metadata": {},
   "outputs": [],
   "source": []
  },
  {
   "cell_type": "code",
   "execution_count": 12,
   "id": "1a47a5fa",
   "metadata": {},
   "outputs": [
    {
     "data": {
      "text/plain": [
       "<matplotlib.image.AxesImage at 0x177f4bbe0>"
      ]
     },
     "execution_count": 12,
     "metadata": {},
     "output_type": "execute_result"
    },
    {
     "data": {
      "image/png": "[encoded data removed]",
      "text/plain": [
       "<Figure size 432x288 with 1 Axes>"
      ]
     },
     "metadata": {
      "needs_background": "light"
     },
     "output_type": "display_data"
    }
   ],
   "source": [
    "plt.imshow(train_dataset[1][0][0,:,:],cmap='BrBG_r')\n"
   ]
  },
  {
   "cell_type": "code",
   "execution_count": null,
   "id": "600cdf0a",
   "metadata": {},
   "outputs": [],
   "source": []
  },
  {
   "cell_type": "code",
   "execution_count": null,
   "id": "8c775429",
   "metadata": {},
   "outputs": [],
   "source": []
  },
  {
   "cell_type": "code",
   "execution_count": null,
   "id": "026e2eb9",
   "metadata": {},
   "outputs": [],
   "source": []
  }
 ],
 "metadata": {
  "kernelspec": {
   "display_name": "Python 3 (ipykernel)",
   "language": "python",
   "name": "python3"
  },
  "language_info": {
   "codemirror_mode": {
    "name": "ipython",
    "version": 3
   },
   "file_extension": ".py",
   "mimetype": "text/x-python",
   "name": "python",
   "nbconvert_exporter": "python",
   "pygments_lexer": "ipython3",
   "version": "3.10.6"
  },
  "vscode": {
   "interpreter": {
    "hash": "b0fa6594d8f4cbf19f97940f81e996739fb7646882a419484c72d19e05852a7e"
   }
  }
 },
 "nbformat": 4,
 "nbformat_minor": 5
}
