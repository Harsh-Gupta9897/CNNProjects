{
 "cells": [
  {
   "cell_type": "code",
   "execution_count": 2,
   "id": "1d9f33cc",
   "metadata": {},
   "outputs": [],
   "source": [
    "import torch\n",
    "import torch.optim as optim\n",
    "from torch.optim.lr_scheduler import ReduceLROnPlateau,ExponentialLR\n",
    "import torch.nn as nn\n",
    "import torch.nn.functional as F\n",
    "from torch.utils.data import DataLoader2, Dataset\n",
    "\n",
    "import torchvision\n",
    "from torchvision.datasets import FashionMNIST\n",
    "from torchvision.transforms import transforms\n",
    "\n",
    "\n",
    "import matplotlib.pyplot as plt\n",
    "import seaborn as sns\n",
    "%matplotlib inline\n",
    "\n",
    "\n",
    "from sklearn.metrics import classification_report , confusion_matrix, accuracy_score\n",
    "import albumentations as A\n",
    "from albumentations.pytorch import ToTensorV2\n",
    "import cv2\n",
    "from tqdm import tqdm\n",
    "from pandas.core.common import flatten\n",
    "import copy"
   ]
  },
  {
   "cell_type": "code",
   "execution_count": 56,
   "id": "5887c71c",
   "metadata": {},
   "outputs": [],
   "source": [
    "train_transforms = A.Compose(\n",
    "    [\n",
    "        A.SmallestMaxSize(max_size=350),\n",
    "        A.ShiftScaleRotate(shift_limit=0.05, scale_limit=0.05, rotate_limit=360, p=0.5),\n",
    "        A.RandomCrop(height=256,width=256),\n",
    "        A.RGBShift(r_shift_limit=15, g_shift_limit=15, b_shift_limit=15, p=0.5),\n",
    "        A.RandomBrightnessContrast(p=0.5),\n",
    "        A.MultiplicativeNoise(multiplier=[0.5,2], per_channel=True, p=0.2),\n",
    "        A.Normalize(mean=(0.485, 0.456, 0.406), std=(0.229, 0.224, 0.225)),\n",
    "        A.HueSaturationValue(hue_shift_limit=0.2, sat_shift_limit=0.2, val_shift_limit=0.2, p=0.5),\n",
    "        A.RandomBrightnessContrast(brightness_limit=(-0.1,0.1), contrast_limit=(-0.1, 0.1), p=0.5),\n",
    "        ToTensorV2(),\n",
    "    ]\n",
    ")\n",
    "\n",
    "test_transforms = A.Compose(\n",
    "    [\n",
    "        A.SmallestMaxSize(max_size=350),\n",
    "        A.CenterCrop(height=64, width=64),\n",
    "        A.Normalize(mean=(0.485, 0.456, 0.406), std=(0.229, 0.224, 0.225)),\n",
    "        ToTensorV2(),\n",
    "    ]\n",
    ")"
   ]
  },
  {
   "cell_type": "code",
   "execution_count": 57,
   "id": "31b11024",
   "metadata": {},
   "outputs": [],
   "source": [
    "batch_size = 128"
   ]
  },
  {
   "cell_type": "code",
   "execution_count": 58,
   "id": "1a20934d",
   "metadata": {},
   "outputs": [
    {
     "name": "stdout",
     "output_type": "stream",
     "text": [
      "train_image_path example:  Datasets/Landscape_Classification/Training Data/Coast/Coast-Train (166).jpeg\n",
      "class example:  Forest\n",
      "Valid Image Path example:  Datasets/Landscape_Classification/Validation Data/Forest/Forest-Valid (31).jpeg\n",
      "Train size: 10000\n",
      "Valid size: 1500\n",
      "Test size: 500\n"
     ]
    }
   ],
   "source": [
    "import glob\n",
    "import random\n",
    "train_data_path = 'Datasets/Landscape_Classification/Training Data/' \n",
    "test_data_path = 'Datasets/Landscape_Classification/Testing Data/' \n",
    "valid_data_path = 'Datasets/Landscape_Classification/Validation Data/' \n",
    "\n",
    "train_image_paths = [] #to store image paths in list\n",
    "classes = [] #to store class values\n",
    "\n",
    "#1.\n",
    "# get all the paths from train_data_path and append image paths and class to to respective lists\n",
    "# eg. train path-> 'images/train/26.Pont_du_Gard/4321ee6695c23c7b.jpg'\n",
    "# eg. class -> 26.Pont_du_Gard\n",
    "for data_path in glob.glob(train_data_path + '/*'):\n",
    "    classes.append(data_path.split('/')[-1]) \n",
    "    train_image_paths.append(glob.glob(data_path + '/*'))\n",
    "train_image_paths = list(flatten(train_image_paths))\n",
    "\n",
    "random.shuffle(train_image_paths)\n",
    "\n",
    "print('train_image_path example: ', train_image_paths[0])\n",
    "print('class example: ', classes[0])\n",
    "\n",
    "#### 2 valid data\n",
    "valid_image_paths = []\n",
    "for data_path in glob.glob(valid_data_path + '/*'):\n",
    "    valid_image_paths.append(glob.glob(data_path + '/*'))\n",
    "\n",
    "valid_image_paths = list(flatten(valid_image_paths))\n",
    "random.shuffle(valid_image_paths)\n",
    "\n",
    "print('Valid Image Path example: ', valid_image_paths[0])\n",
    "\n",
    "\n",
    "\n",
    "#3.\n",
    "# create the test_image_paths\n",
    "test_image_paths = []\n",
    "for data_path in glob.glob(test_data_path + '/*'):\n",
    "    test_image_paths.append(glob.glob(data_path + '/*'))\n",
    "\n",
    "test_image_paths = list(flatten(test_image_paths))\n",
    "\n",
    "# print(\"Train size: {}\\nValid size: {}\\nTest size: {}\".format(len(train_image_paths), len(valid_image_paths), len(test_image_paths)))\n",
    "print(\"Train size: {}\\nValid size: {}\\nTest size: {}\".format(len(train_image_paths),len(valid_image_paths),len(test_image_paths)))\n"
   ]
  },
  {
   "cell_type": "code",
   "execution_count": 59,
   "id": "9b567f4c",
   "metadata": {},
   "outputs": [
    {
     "data": {
      "text/plain": [
       "['Datasets/Landscape_Classification/Validation Data/Forest/Forest-Valid (31).jpeg',\n",
       " 'Datasets/Landscape_Classification/Validation Data/Forest/Forest-Valid (139).jpeg',\n",
       " 'Datasets/Landscape_Classification/Validation Data/Forest/Forest-Valid (299).jpeg',\n",
       " 'Datasets/Landscape_Classification/Validation Data/Forest/Forest-Valid (257).jpeg',\n",
       " 'Datasets/Landscape_Classification/Validation Data/Mountain/Mountain-Valid (179).jpeg',\n",
       " 'Datasets/Landscape_Classification/Validation Data/Desert/Desert-Valid (219).jpeg',\n",
       " 'Datasets/Landscape_Classification/Validation Data/Mountain/Mountain-Valid (22).jpeg',\n",
       " 'Datasets/Landscape_Classification/Validation Data/Glacier/Glacier-Valid (179).jpeg',\n",
       " 'Datasets/Landscape_Classification/Validation Data/Desert/Desert-Valid (287).jpeg',\n",
       " 'Datasets/Landscape_Classification/Validation Data/Desert/Desert-Valid (212).jpeg']"
      ]
     },
     "execution_count": 59,
     "metadata": {},
     "output_type": "execute_result"
    }
   ],
   "source": [
    "valid_image_paths[:10]"
   ]
  },
  {
   "cell_type": "code",
   "execution_count": 60,
   "id": "c0fd1bfc",
   "metadata": {},
   "outputs": [
    {
     "data": {
      "text/plain": [
       "{'Forest': 0, 'Coast': 1, 'Glacier': 2, 'Mountain': 3, 'Desert': 4}"
      ]
     },
     "execution_count": 60,
     "metadata": {},
     "output_type": "execute_result"
    }
   ],
   "source": [
    "idx_to_class = {i:j for i, j in enumerate(classes)}\n",
    "class_to_idx = {value:key for key,value in idx_to_class.items()}\n",
    "class_to_idx"
   ]
  },
  {
   "cell_type": "code",
   "execution_count": 105,
   "id": "132a8029",
   "metadata": {},
   "outputs": [],
   "source": [
    "class DatasetFetch(Dataset):\n",
    "    def __init__(self, image_paths, transform=False):\n",
    "        self.image_paths = image_paths\n",
    "        self.transform = transform\n",
    "        \n",
    "    def __len__(self):\n",
    "        return len(self.image_paths)\n",
    "\n",
    "    def __getitem__(self, idx):\n",
    "        image_filepath = self.image_paths[idx]\n",
    "        image = cv2.imread(image_filepath)\n",
    "#         image = cv2.cvtColor(image, cv2.COLOR_BGR2RGB)\n",
    "        \n",
    "        label = image_filepath.split('/')[-2]\n",
    "        label = class_to_idx[label]\n",
    "        if self.transform :\n",
    "            image = self.transform(image=image)[\"image\"]     \n",
    "            Trans = torchvision.transforms.Resize((64,64))\n",
    "            image = Trans(image)\n",
    "            \n",
    "        else:   \n",
    "            image = torch.tensor(image)\n",
    "            image = image.permute(2,0,1)\n",
    "            Trans = torchvision.transforms.Resize((64,64))\n",
    "            image = Trans(image)\n",
    "\n",
    "        return image, label\n",
    "    \n",
    "#######################################################\n",
    "#                  Create Dataset\n",
    "#######################################################\n",
    "\n",
    "train_dataset = DatasetFetch(train_image_paths)\n",
    "# valid_dataset = XRayDataset(valid_image_paths,test_transforms) #test transforms are applied\n",
    "test_dataset = DatasetFetch(test_image_paths)\n",
    "valid_dataset = DatasetFetch(valid_image_paths)"
   ]
  },
  {
   "cell_type": "code",
   "execution_count": 106,
   "id": "7bceb89f",
   "metadata": {},
   "outputs": [
    {
     "name": "stdout",
     "output_type": "stream",
     "text": [
      "torch.Size([3, 64, 64])\n"
     ]
    },
    {
     "data": {
      "text/plain": [
       "['Forest', 'Coast', 'Glacier', 'Mountain', 'Desert']"
      ]
     },
     "execution_count": 106,
     "metadata": {},
     "output_type": "execute_result"
    },
    {
     "data": {
      "image/png": "[encoded data removed]",
      "text/plain": [
       "<Figure size 432x288 with 1 Axes>"
      ]
     },
     "metadata": {
      "needs_background": "light"
     },
     "output_type": "display_data"
    }
   ],
   "source": [
    "# img = plt.imread('tr.jpeg')\n",
    "# ar = img.reshape(28,28)\n",
    "# torch.tensor(img)\n",
    "x = valid_dataset[25][0]\n",
    "print(x.shape)\n",
    "x= x.permute(1,2,0)\n",
    "\n",
    "plt.imshow(x)\n",
    "# train_dataset[0][0].numpy().shape\n",
    "classes"
   ]
  },
  {
   "cell_type": "code",
   "execution_count": 107,
   "id": "bc1f80ee",
   "metadata": {},
   "outputs": [],
   "source": [
    "def plot_loss(loss):\n",
    "        '''\n",
    "        Plots the loss curve\n",
    "        '''\n",
    "        fig = plt.figure(figsize=(10,10))\n",
    "        plt.plot(loss)\n",
    "        plt.xlabel(\"Iteration\")\n",
    "        plt.ylabel(\"logloss\")\n",
    "        plt.title(\"Loss curve for training\")\n",
    "        plt.show() "
   ]
  },
  {
   "cell_type": "code",
   "execution_count": 108,
   "id": "e91c605f",
   "metadata": {},
   "outputs": [],
   "source": [
    "train_loader = DataLoader2(train_dataset,batch_size=batch_size,shuffle=True) \n",
    "test_loader = DataLoader2(test_dataset,batch_size=batch_size,shuffle=True) \n",
    "valid_loader = DataLoader2(valid_dataset,batch_size=batch_size,shuffle=True) \n"
   ]
  },
  {
   "cell_type": "code",
   "execution_count": 109,
   "id": "857b0d64",
   "metadata": {},
   "outputs": [],
   "source": [
    "def accuracy(train_loader,test_loader,valid_loader=None,model=None,reshape=True):\n",
    "    train_acc_score, test_acc_score,valid_acc_score = 0.0,0.0,0.0\n",
    "    model.eval()\n",
    "    r_pred=[]\n",
    "    r=[]\n",
    "    for _,(x,y) in enumerate(train_loader):\n",
    "        if reshape==True:\n",
    "            x = x.reshape(x.shape[0],-1)\n",
    "        scores = model(x)\n",
    "        _, y_pred = scores.max(1)\n",
    "        r = r + list(y.numpy())\n",
    "        r_pred = r_pred + list(y_pred.numpy())\n",
    "    \n",
    "    print(\"\\n\\n########## Train Data Accuracy ######### \\n\\n\")\n",
    "    print(classification_report(r,r_pred))\n",
    "    train_acc_score = accuracy_score(r,r_pred)\n",
    "    sns.heatmap(confusion_matrix(r,r_pred))\n",
    "    plt.show()\n",
    "    \n",
    "    \n",
    "    \n",
    "    r_pred=[]\n",
    "    r=[]\n",
    "    for _,(x,y) in enumerate(test_loader):\n",
    "        if reshape==True:\n",
    "            x = x.reshape(x.shape[0],-1)\n",
    "        scores = model(x)\n",
    "        _, y_pred = scores.max(1)\n",
    "        r = r + list(y.numpy())\n",
    "        r_pred = r_pred + list(y_pred.numpy())\n",
    "    \n",
    "    print(\"\\n\\n########## Test Data Accuracy ######### \\n\\n\") \n",
    "    print(classification_report(r,r_pred))\n",
    "    test_acc_score = accuracy_score(r,r_pred)\n",
    "    \n",
    "    sns.heatmap(confusion_matrix(r,r_pred))\n",
    "    \n",
    "    if valid_loader is not None:\n",
    "        r_pred=[]\n",
    "        r=[]\n",
    "        for _,(x,y) in enumerate(valid_loader):\n",
    "            if reshape==True:\n",
    "                x = x.reshape(x.shape[0],-1)\n",
    "            scores = model(x)\n",
    "            _, y_pred = scores.max(1)\n",
    "            r = r + list(y.numpy())\n",
    "            r_pred = r_pred + list(y_pred.numpy())\n",
    "    \n",
    "        print(\"\\n\\n########## Valid Data Accuracy ######### \\n\\n\") \n",
    "        print(classification_report(r,r_pred))\n",
    "        valid_acc_score = accuracy_score(r,r_pred)\n",
    "        sns.heatmap(confusion_matrix(r,r_pred))\n",
    "        \n",
    "    return train_acc_score, test_acc_score,valid_acc_score \n"
   ]
  },
  {
   "cell_type": "code",
   "execution_count": 110,
   "id": "76d0c76b",
   "metadata": {},
   "outputs": [],
   "source": [
    "######### CNN Example\n",
    "class CNN(nn.Module):\n",
    "    def __init__(self,in_channels=1,num_classes=10):\n",
    "        super(CNN,self).__init__()\n",
    "        self.conv1 = nn.Conv2d(in_channels,16,kernel_size=(2,2),stride=(1,1),padding=(1,1))\n",
    "        self.conv2 = nn.Conv2d(16,8,kernel_size=(2,2),stride=(1,1),padding=(1,1))\n",
    "        self.conv3 = nn.Conv2d(8,8,kernel_size=(3,3),stride=(1,1),padding=(1,1))\n",
    "        self.maxpool = nn.MaxPool2d(kernel_size=(2,2),stride=(2,2))\n",
    "        self.fc1 = nn.Linear(8*16*16,32)        \n",
    "        self.fc2 = nn.Linear(32,10)        \n",
    "        self.fc3 = nn.Linear(10,num_classes)        \n",
    "#         self.fc2 = nn.Linear(20,num_classes)pri\n",
    "    def forward(self,x):\n",
    "        x = x.type(dtype=torch.float32)\n",
    "        x = F.relu(self.conv1(x))\n",
    "        x = self.maxpool(x)\n",
    "        x = F.relu(self.conv2(x))\n",
    "        x = F.relu(self.conv3(x))\n",
    "        x = self.maxpool(x)\n",
    "#         print(x.shape)\n",
    "\n",
    "        x = x.reshape(x.shape[0],-1)\n",
    "#         print(x.shape)\n",
    "        \n",
    "        x = F.relu(self.fc1(x))     \n",
    "        x = F.relu(self.fc2(x))     \n",
    "        x = self.fc3(x)   \n",
    "#         x = self.fc2(x)       \n",
    "#         x = self.fc2(x)\n",
    "        return x"
   ]
  },
  {
   "cell_type": "code",
   "execution_count": 111,
   "id": "a719c591",
   "metadata": {},
   "outputs": [],
   "source": [
    "# x = torch.rand((128,3,64,64))\n",
    "# model_cnn = CNN(in_channels,num_classes)\n",
    "# scores = model_cnn(x)"
   ]
  },
  {
   "cell_type": "code",
   "execution_count": null,
   "id": "db8eb441",
   "metadata": {},
   "outputs": [],
   "source": [
    "\n"
   ]
  },
  {
   "cell_type": "code",
   "execution_count": 112,
   "id": "5a6d7f78",
   "metadata": {},
   "outputs": [
    {
     "name": "stderr",
     "output_type": "stream",
     "text": [
      "79it [00:14,  5.55it/s]\n",
      "12it [00:01,  8.59it/s]\n",
      "/opt/homebrew/lib/python3.10/site-packages/torch/optim/lr_scheduler.py:163: UserWarning: The epoch parameter in `scheduler.step()` was not necessary and is being deprecated where possible. Please use `scheduler.step()` to step the scheduler. During the deprecation, if epoch is different from None, the closed form is used instead of the new chainable form, where available. Please open an issue if you are unable to replicate your use case: https://github.com/pytorch/pytorch/issues/new/choose.\n",
      "  warnings.warn(EPOCH_DEPRECATION_WARNING, UserWarning)\n"
     ]
    },
    {
     "name": "stdout",
     "output_type": "stream",
     "text": [
      "Epoch 1\t             Training Loss: 1.5710940949524506\t             Validation Loss:1.4616944988568623\t             LR:0.01\n"
     ]
    },
    {
     "name": "stderr",
     "output_type": "stream",
     "text": [
      "79it [00:12,  6.27it/s]\n",
      "12it [00:01,  9.04it/s]\n"
     ]
    },
    {
     "name": "stdout",
     "output_type": "stream",
     "text": [
      "Epoch 2\t             Training Loss: 1.2449428703211531\t             Validation Loss:1.1587197184562683\t             LR:0.01\n"
     ]
    },
    {
     "name": "stderr",
     "output_type": "stream",
     "text": [
      "79it [00:12,  6.09it/s]\n",
      "12it [00:01, 10.59it/s]\n"
     ]
    },
    {
     "name": "stdout",
     "output_type": "stream",
     "text": [
      "Epoch 3\t             Training Loss: 1.053732689422897\t             Validation Loss:1.1052278280258179\t             LR:0.01\n"
     ]
    },
    {
     "name": "stderr",
     "output_type": "stream",
     "text": [
      "79it [00:12,  6.24it/s]\n",
      "12it [00:01, 10.57it/s]\n"
     ]
    },
    {
     "name": "stdout",
     "output_type": "stream",
     "text": [
      "Epoch 4\t             Training Loss: 0.924205170402044\t             Validation Loss:1.132834941148758\t             LR:0.01\n"
     ]
    },
    {
     "name": "stderr",
     "output_type": "stream",
     "text": [
      "79it [00:13,  5.90it/s]\n",
      "12it [00:01,  8.69it/s]\n"
     ]
    },
    {
     "name": "stdout",
     "output_type": "stream",
     "text": [
      "Epoch 5\t             Training Loss: 0.8787142166608497\t             Validation Loss:1.074368730187416\t             LR:0.01\n"
     ]
    },
    {
     "name": "stderr",
     "output_type": "stream",
     "text": [
      "79it [00:13,  5.73it/s]\n",
      "12it [00:01,  8.67it/s]\n"
     ]
    },
    {
     "name": "stdout",
     "output_type": "stream",
     "text": [
      "Epoch 6\t             Training Loss: 0.8583959680569323\t             Validation Loss:1.1275529116392136\t             LR:0.01\n"
     ]
    },
    {
     "name": "stderr",
     "output_type": "stream",
     "text": [
      "79it [00:15,  5.23it/s]\n",
      "12it [00:01,  8.54it/s]\n"
     ]
    },
    {
     "name": "stdout",
     "output_type": "stream",
     "text": [
      "Epoch 7\t             Training Loss: 0.8634202352053002\t             Validation Loss:1.011364261309306\t             LR:0.01\n"
     ]
    },
    {
     "name": "stderr",
     "output_type": "stream",
     "text": [
      "79it [00:13,  5.88it/s]\n",
      "12it [00:01,  8.68it/s]\n"
     ]
    },
    {
     "name": "stdout",
     "output_type": "stream",
     "text": [
      "Epoch 8\t             Training Loss: 0.7553896058963824\t             Validation Loss:0.9192958623170853\t             LR:0.002621440000000001\n"
     ]
    },
    {
     "name": "stderr",
     "output_type": "stream",
     "text": [
      "79it [00:13,  6.01it/s]\n",
      "12it [00:01,  8.68it/s]\n"
     ]
    },
    {
     "name": "stdout",
     "output_type": "stream",
     "text": [
      "Epoch 9\t             Training Loss: 0.7035293258443663\t             Validation Loss:0.9518062025308609\t             LR:0.002621440000000001\n"
     ]
    },
    {
     "name": "stderr",
     "output_type": "stream",
     "text": [
      "79it [00:13,  5.84it/s]\n",
      "12it [00:01,  8.69it/s]\n"
     ]
    },
    {
     "name": "stdout",
     "output_type": "stream",
     "text": [
      "Epoch 10\t             Training Loss: 0.6808301183996321\t             Validation Loss:0.9398134350776672\t             LR:0.002621440000000001\n"
     ]
    },
    {
     "name": "stderr",
     "output_type": "stream",
     "text": [
      "79it [00:13,  5.86it/s]\n",
      "12it [00:01,  8.58it/s]\n"
     ]
    },
    {
     "name": "stdout",
     "output_type": "stream",
     "text": [
      "Epoch 11\t             Training Loss: 0.6673037805889226\t             Validation Loss:0.9951024254163107\t             LR:0.002621440000000001\n"
     ]
    },
    {
     "name": "stderr",
     "output_type": "stream",
     "text": [
      "79it [00:13,  5.86it/s]\n",
      "12it [00:01,  8.51it/s]\n"
     ]
    },
    {
     "name": "stdout",
     "output_type": "stream",
     "text": [
      "Epoch 12\t             Training Loss: 0.631398116485982\t             Validation Loss:0.9812838584184647\t             LR:0.002621440000000001\n"
     ]
    },
    {
     "name": "stderr",
     "output_type": "stream",
     "text": [
      "79it [00:13,  5.87it/s]\n",
      "12it [00:01,  8.66it/s]\n"
     ]
    },
    {
     "name": "stdout",
     "output_type": "stream",
     "text": [
      "Epoch 13\t             Training Loss: 0.5977650820454464\t             Validation Loss:0.9996863603591919\t             LR:0.002621440000000001\n"
     ]
    },
    {
     "name": "stderr",
     "output_type": "stream",
     "text": [
      "79it [00:13,  5.88it/s]\n",
      "12it [00:01,  8.57it/s]\n"
     ]
    },
    {
     "name": "stdout",
     "output_type": "stream",
     "text": [
      "Epoch 14\t             Training Loss: 0.5111019034174424\t             Validation Loss:1.0817491014798482\t             LR:0.0006871947673600004\n"
     ]
    },
    {
     "name": "stderr",
     "output_type": "stream",
     "text": [
      "79it [00:13,  5.91it/s]\n",
      "12it [00:01,  8.69it/s]\n"
     ]
    },
    {
     "name": "stdout",
     "output_type": "stream",
     "text": [
      "Epoch 15\t             Training Loss: 0.48185909209372124\t             Validation Loss:1.0910570720831554\t             LR:0.0006871947673600004\n"
     ]
    },
    {
     "name": "stderr",
     "output_type": "stream",
     "text": [
      "79it [00:13,  5.78it/s]\n",
      "12it [00:01,  8.65it/s]\n"
     ]
    },
    {
     "name": "stdout",
     "output_type": "stream",
     "text": [
      "Epoch 16\t             Training Loss: 0.461571722845488\t             Validation Loss:1.1350923031568527\t             LR:0.0006871947673600004\n"
     ]
    },
    {
     "name": "stderr",
     "output_type": "stream",
     "text": [
      "79it [00:13,  5.86it/s]\n",
      "12it [00:01,  8.55it/s]\n"
     ]
    },
    {
     "name": "stdout",
     "output_type": "stream",
     "text": [
      "Epoch 17\t             Training Loss: 0.4460443039483662\t             Validation Loss:1.1736077070236206\t             LR:0.0006871947673600004\n"
     ]
    },
    {
     "name": "stderr",
     "output_type": "stream",
     "text": [
      "79it [00:13,  5.84it/s]\n",
      "12it [00:01,  8.66it/s]\n"
     ]
    },
    {
     "name": "stdout",
     "output_type": "stream",
     "text": [
      "Epoch 18\t             Training Loss: 0.423300293804724\t             Validation Loss:1.208416720231374\t             LR:0.0006871947673600004\n"
     ]
    },
    {
     "name": "stderr",
     "output_type": "stream",
     "text": [
      "79it [00:13,  5.69it/s]\n",
      "12it [00:01,  8.10it/s]\n"
     ]
    },
    {
     "name": "stdout",
     "output_type": "stream",
     "text": [
      "Epoch 19\t             Training Loss: 0.40197972217692607\t             Validation Loss:1.2466464539368947\t             LR:0.0006871947673600004\n"
     ]
    },
    {
     "name": "stderr",
     "output_type": "stream",
     "text": [
      "79it [00:14,  5.30it/s]\n",
      "12it [00:01,  8.57it/s]\n"
     ]
    },
    {
     "name": "stdout",
     "output_type": "stream",
     "text": [
      "Epoch 20\t             Training Loss: 0.3678131782555882\t             Validation Loss:1.2773071080446243\t             LR:0.00018014398509482002\n"
     ]
    },
    {
     "name": "stderr",
     "output_type": "stream",
     "text": [
      "79it [00:13,  5.66it/s]\n",
      "12it [00:01, 10.15it/s]\n"
     ]
    },
    {
     "name": "stdout",
     "output_type": "stream",
     "text": [
      "Epoch 21\t             Training Loss: 0.3592948887167098\t             Validation Loss:1.309350699186325\t             LR:0.00018014398509482002\n"
     ]
    },
    {
     "name": "stderr",
     "output_type": "stream",
     "text": [
      "79it [00:12,  6.38it/s]\n",
      "12it [00:01, 10.34it/s]\n"
     ]
    },
    {
     "name": "stdout",
     "output_type": "stream",
     "text": [
      "Epoch 22\t             Training Loss: 0.3541533828158922\t             Validation Loss:1.3105889062086742\t             LR:0.00018014398509482002\n"
     ]
    },
    {
     "name": "stderr",
     "output_type": "stream",
     "text": [
      "79it [00:12,  6.37it/s]\n",
      "12it [00:01, 10.35it/s]\n"
     ]
    },
    {
     "name": "stdout",
     "output_type": "stream",
     "text": [
      "Epoch 23\t             Training Loss: 0.3465098936723757\t             Validation Loss:1.3310969471931458\t             LR:0.00018014398509482002\n"
     ]
    },
    {
     "name": "stderr",
     "output_type": "stream",
     "text": [
      "79it [00:12,  6.38it/s]\n",
      "12it [00:01, 10.32it/s]\n"
     ]
    },
    {
     "name": "stdout",
     "output_type": "stream",
     "text": [
      "Epoch 24\t             Training Loss: 0.33981240701071824\t             Validation Loss:1.347380707661311\t             LR:0.00018014398509482002\n"
     ]
    },
    {
     "name": "stderr",
     "output_type": "stream",
     "text": [
      "79it [00:12,  6.37it/s]\n",
      "12it [00:01, 10.33it/s]\n"
     ]
    },
    {
     "name": "stdout",
     "output_type": "stream",
     "text": [
      "Epoch 25\t             Training Loss: 0.33421326117425026\t             Validation Loss:1.3659931421279907\t             LR:0.00018014398509482002\n"
     ]
    },
    {
     "name": "stderr",
     "output_type": "stream",
     "text": [
      "79it [00:12,  6.34it/s]\n",
      "12it [00:01, 10.30it/s]\n"
     ]
    },
    {
     "name": "stdout",
     "output_type": "stream",
     "text": [
      "Epoch 26\t             Training Loss: 0.3303385763605939\t             Validation Loss:1.3732089499632518\t             LR:4.722366482869652e-05\n"
     ]
    },
    {
     "name": "stderr",
     "output_type": "stream",
     "text": [
      "79it [00:12,  6.37it/s]\n",
      "12it [00:01, 10.30it/s]\n"
     ]
    },
    {
     "name": "stdout",
     "output_type": "stream",
     "text": [
      "Epoch 27\t             Training Loss: 0.323674811026718\t             Validation Loss:1.3686639765898387\t             LR:4.722366482869652e-05\n"
     ]
    },
    {
     "name": "stderr",
     "output_type": "stream",
     "text": [
      "79it [00:12,  6.15it/s]\n",
      "12it [00:01,  7.99it/s]\n"
     ]
    },
    {
     "name": "stdout",
     "output_type": "stream",
     "text": [
      "Epoch 28\t             Training Loss: 0.3222853911073902\t             Validation Loss:1.3931919535001118\t             LR:4.722366482869652e-05\n"
     ]
    },
    {
     "name": "stderr",
     "output_type": "stream",
     "text": [
      "79it [00:13,  5.73it/s]\n",
      "12it [00:01, 10.36it/s]\n"
     ]
    },
    {
     "name": "stdout",
     "output_type": "stream",
     "text": [
      "Epoch 29\t             Training Loss: 0.3215746872032745\t             Validation Loss:1.4040311723947525\t             LR:4.722366482869652e-05\n"
     ]
    },
    {
     "name": "stderr",
     "output_type": "stream",
     "text": [
      "79it [00:12,  6.39it/s]\n",
      "12it [00:01, 10.34it/s]\n"
     ]
    },
    {
     "name": "stdout",
     "output_type": "stream",
     "text": [
      "Epoch 30\t             Training Loss: 0.3199066749856442\t             Validation Loss:1.3935937384764354\t             LR:4.722366482869652e-05\n"
     ]
    },
    {
     "name": "stderr",
     "output_type": "stream",
     "text": [
      "79it [00:12,  6.12it/s]\n",
      "12it [00:01, 10.31it/s]\n"
     ]
    },
    {
     "name": "stdout",
     "output_type": "stream",
     "text": [
      "Epoch 31\t             Training Loss: 0.32386302136922185\t             Validation Loss:1.40211221575737\t             LR:4.722366482869652e-05\n"
     ]
    },
    {
     "name": "stderr",
     "output_type": "stream",
     "text": [
      "79it [00:12,  6.37it/s]\n",
      "12it [00:01, 10.28it/s]\n"
     ]
    },
    {
     "name": "stdout",
     "output_type": "stream",
     "text": [
      "Epoch 32\t             Training Loss: 0.31759622504439533\t             Validation Loss:1.3931984106699626\t             LR:1.2379400392853824e-05\n"
     ]
    },
    {
     "name": "stderr",
     "output_type": "stream",
     "text": [
      "79it [00:12,  6.13it/s]\n",
      "12it [00:01, 10.35it/s]\n"
     ]
    },
    {
     "name": "stdout",
     "output_type": "stream",
     "text": [
      "Epoch 33\t             Training Loss: 0.31522406996050967\t             Validation Loss:1.3944204449653625\t             LR:1.2379400392853824e-05\n"
     ]
    },
    {
     "name": "stderr",
     "output_type": "stream",
     "text": [
      "79it [00:12,  6.35it/s]\n",
      "12it [00:01, 10.38it/s]\n"
     ]
    },
    {
     "name": "stdout",
     "output_type": "stream",
     "text": [
      "Epoch 34\t             Training Loss: 0.3146383854784543\t             Validation Loss:1.4002191821734111\t             LR:1.2379400392853824e-05\n"
     ]
    },
    {
     "name": "stderr",
     "output_type": "stream",
     "text": [
      "79it [00:13,  5.96it/s]\n",
      "12it [00:01,  9.43it/s]\n"
     ]
    },
    {
     "name": "stdout",
     "output_type": "stream",
     "text": [
      "Epoch 35\t             Training Loss: 0.3136943906922884\t             Validation Loss:1.3946338295936584\t             LR:1.2379400392853824e-05\n"
     ]
    },
    {
     "name": "stderr",
     "output_type": "stream",
     "text": [
      "79it [00:13,  6.01it/s]\n",
      "12it [00:01,  8.48it/s]\n"
     ]
    },
    {
     "name": "stdout",
     "output_type": "stream",
     "text": [
      "Epoch 36\t             Training Loss: 0.3122825451855418\t             Validation Loss:1.4022431472937267\t             LR:1.2379400392853824e-05\n"
     ]
    },
    {
     "name": "stderr",
     "output_type": "stream",
     "text": [
      "79it [00:14,  5.59it/s]\n",
      "12it [00:01, 10.21it/s]\n"
     ]
    },
    {
     "name": "stdout",
     "output_type": "stream",
     "text": [
      "Epoch 37\t             Training Loss: 0.31493754873547375\t             Validation Loss:1.4124334057172139\t             LR:1.2379400392853824e-05\n"
     ]
    },
    {
     "name": "stderr",
     "output_type": "stream",
     "text": [
      "79it [00:13,  5.77it/s]\n",
      "12it [00:01,  8.90it/s]\n"
     ]
    },
    {
     "name": "stdout",
     "output_type": "stream",
     "text": [
      "Epoch 38\t             Training Loss: 0.314207773985742\t             Validation Loss:1.4030481576919556\t             LR:3.2451855365842735e-06\n"
     ]
    },
    {
     "name": "stderr",
     "output_type": "stream",
     "text": [
      "79it [00:13,  6.03it/s]\n",
      "12it [00:01,  8.66it/s]\n"
     ]
    },
    {
     "name": "stdout",
     "output_type": "stream",
     "text": [
      "Epoch 39\t             Training Loss: 0.31496119084237495\t             Validation Loss:1.4030358791351318\t             LR:3.2451855365842735e-06\n"
     ]
    },
    {
     "name": "stderr",
     "output_type": "stream",
     "text": [
      "79it [00:13,  5.99it/s]\n",
      "12it [00:01,  8.84it/s]\n"
     ]
    },
    {
     "name": "stdout",
     "output_type": "stream",
     "text": [
      "Epoch 40\t             Training Loss: 0.31247861626782\t             Validation Loss:1.407605618238449\t             LR:3.2451855365842735e-06\n"
     ]
    },
    {
     "name": "stderr",
     "output_type": "stream",
     "text": [
      "79it [00:13,  6.02it/s]\n",
      "12it [00:01,  8.67it/s]\n"
     ]
    },
    {
     "name": "stdout",
     "output_type": "stream",
     "text": [
      "Epoch 41\t             Training Loss: 0.31335990206350256\t             Validation Loss:1.4041782915592194\t             LR:3.2451855365842735e-06\n"
     ]
    },
    {
     "name": "stderr",
     "output_type": "stream",
     "text": [
      "79it [00:13,  5.94it/s]\n",
      "12it [00:01,  8.70it/s]\n"
     ]
    },
    {
     "name": "stdout",
     "output_type": "stream",
     "text": [
      "Epoch 42\t             Training Loss: 0.3115857615123821\t             Validation Loss:1.4177115956942241\t             LR:3.2451855365842735e-06\n"
     ]
    },
    {
     "name": "stderr",
     "output_type": "stream",
     "text": [
      "79it [00:13,  5.78it/s]\n",
      "12it [00:01,  8.60it/s]\n"
     ]
    },
    {
     "name": "stdout",
     "output_type": "stream",
     "text": [
      "Epoch 43\t             Training Loss: 0.31664170758633675\t             Validation Loss:1.4103772640228271\t             LR:3.2451855365842735e-06\n"
     ]
    },
    {
     "name": "stderr",
     "output_type": "stream",
     "text": [
      "79it [00:13,  5.77it/s]\n",
      "12it [00:01,  8.64it/s]\n"
     ]
    },
    {
     "name": "stdout",
     "output_type": "stream",
     "text": [
      "Epoch 44\t             Training Loss: 0.3145397460158867\t             Validation Loss:1.412406971057256\t             LR:8.507059173023481e-07\n"
     ]
    },
    {
     "name": "stderr",
     "output_type": "stream",
     "text": [
      "79it [00:13,  5.86it/s]\n",
      "12it [00:01,  8.67it/s]\n"
     ]
    },
    {
     "name": "stdout",
     "output_type": "stream",
     "text": [
      "Epoch 45\t             Training Loss: 0.3129831471397907\t             Validation Loss:1.3964711676041286\t             LR:8.507059173023481e-07\n"
     ]
    },
    {
     "name": "stderr",
     "output_type": "stream",
     "text": [
      "79it [00:13,  5.86it/s]\n",
      "12it [00:01,  8.65it/s]\n"
     ]
    },
    {
     "name": "stdout",
     "output_type": "stream",
     "text": [
      "Epoch 46\t             Training Loss: 0.31287936639936664\t             Validation Loss:1.4022547503312428\t             LR:8.507059173023481e-07\n"
     ]
    },
    {
     "name": "stderr",
     "output_type": "stream",
     "text": [
      "79it [00:13,  5.77it/s]\n",
      "12it [00:01,  8.66it/s]\n"
     ]
    },
    {
     "name": "stdout",
     "output_type": "stream",
     "text": [
      "Epoch 47\t             Training Loss: 0.3134703649372994\t             Validation Loss:1.410387545824051\t             LR:8.507059173023481e-07\n"
     ]
    },
    {
     "name": "stderr",
     "output_type": "stream",
     "text": [
      "79it [00:13,  5.77it/s]\n",
      "12it [00:01,  8.58it/s]\n"
     ]
    },
    {
     "name": "stdout",
     "output_type": "stream",
     "text": [
      "Epoch 48\t             Training Loss: 0.3168393575315234\t             Validation Loss:1.424793263276418\t             LR:8.507059173023481e-07\n"
     ]
    },
    {
     "name": "stderr",
     "output_type": "stream",
     "text": [
      "79it [00:13,  5.70it/s]\n",
      "12it [00:01,  8.60it/s]\n"
     ]
    },
    {
     "name": "stdout",
     "output_type": "stream",
     "text": [
      "Epoch 49\t             Training Loss: 0.3129938365537909\t             Validation Loss:1.4044977227846782\t             LR:8.507059173023481e-07\n"
     ]
    },
    {
     "name": "stderr",
     "output_type": "stream",
     "text": [
      "79it [00:13,  5.76it/s]\n",
      "12it [00:01,  8.68it/s]"
     ]
    },
    {
     "name": "stdout",
     "output_type": "stream",
     "text": [
      "Epoch 50\t             Training Loss: 0.31152905580363693\t             Validation Loss:1.4110785921414692\t             LR:2.2300745198530684e-07\n"
     ]
    },
    {
     "name": "stderr",
     "output_type": "stream",
     "text": [
      "\n"
     ]
    }
   ],
   "source": [
    "in_channels= 3\n",
    "num_classes= 5\n",
    "lr = 0.01\n",
    "epochs = 50\n",
    "\n",
    "## Model Initialization\n",
    "model_cnn = CNN(in_channels,num_classes)\n",
    "\n",
    "\n",
    "## Loss Function and Optimizer\n",
    "loss_func = nn.CrossEntropyLoss()\n",
    "optimizer = optim.Adam(model_cnn.parameters(),lr=lr,weight_decay=0.001)\n",
    "# scheduler = ReduceLROnPlateau(optimizer, 'min', patience = 5)\n",
    "scheduler = ExponentialLR(optimizer, gamma=0.8)\n",
    "\n",
    "##### Train The network ##########\n",
    "# train_loss = []\n",
    "models=[]\n",
    "for epoch in range(epochs):\n",
    "    \n",
    "    ##train\n",
    "    train_loss, valid_loss = 0.0, 0.0\n",
    "    model_cnn.train()\n",
    "    for batch_id,(x,y) in  tqdm(enumerate(train_loader)):\n",
    "        \n",
    "#         x = x.reshape(x.shape[0],-1)\n",
    "        scores = model_cnn(x)\n",
    "        loss = loss_func(scores,y)\n",
    "        \n",
    "        # backward prop\n",
    "        optimizer.zero_grad()\n",
    "        loss.backward()\n",
    "        \n",
    "        optimizer.step()\n",
    "        train_loss += loss.item()\n",
    "    \n",
    "    ## validation\n",
    "    model_cnn.eval()\n",
    "    for batch_id,(x,y) in  tqdm(enumerate(valid_loader)):\n",
    "  \n",
    "        scores = model_cnn(x)\n",
    "        loss = loss_func(scores, y)\n",
    "  \n",
    "        valid_loss += loss.item() \n",
    "    d = {'valid_loss': valid_loss/len(valid_loader) ,'model': copy.deepcopy(model_cnn),'train_loss': train_loss/len(train_loader)}\n",
    "    models.append(d)\n",
    "    curr_lr = optimizer.param_groups[0]['lr']\n",
    "    print(f'Epoch {epoch+1}\\t \\\n",
    "            Training Loss: {train_loss/len(train_loader)}\\t \\\n",
    "            Validation Loss:{valid_loss/len(valid_loader)}\\t \\\n",
    "            LR:{curr_lr}')\n",
    "    if(epoch%6==0):\n",
    "        scheduler.step(epoch)\n",
    "    \n",
    "    \n",
    "    \n",
    "    \n",
    "#     print('epoch {}/{}  loss={} '.format(epochs, epoch+1,loss))\n",
    "# plot_loss(train_loss)\n",
    "    \n",
    "\n",
    "\n",
    "        \n"
   ]
  },
  {
   "cell_type": "code",
   "execution_count": 113,
   "id": "c9a33443",
   "metadata": {},
   "outputs": [
    {
     "name": "stdout",
     "output_type": "stream",
     "text": [
      "############# epoch 1 ############\n",
      "\n",
      "\n",
      "########## Train Data Accuracy ######### \n",
      "\n",
      "\n",
      "              precision    recall  f1-score   support\n",
      "\n",
      "           0       0.38      0.15      0.21      2000\n",
      "           1       0.23      0.09      0.13      2000\n",
      "           2       0.28      0.97      0.44      2000\n",
      "           3       0.24      0.04      0.07      2000\n",
      "           4       0.77      0.48      0.60      2000\n",
      "\n",
      "    accuracy                           0.35     10000\n",
      "   macro avg       0.38      0.35      0.29     10000\n",
      "weighted avg       0.38      0.35      0.29     10000\n",
      "\n"
     ]
    },
    {
     "data": {
      "image/png": "[encoded data removed]",
      "text/plain": [
       "<Figure size 432x288 with 2 Axes>"
      ]
     },
     "metadata": {
      "needs_background": "light"
     },
     "output_type": "display_data"
    },
    {
     "name": "stdout",
     "output_type": "stream",
     "text": [
      "\n",
      "\n",
      "########## Test Data Accuracy ######### \n",
      "\n",
      "\n",
      "              precision    recall  f1-score   support\n",
      "\n",
      "           0       0.56      0.18      0.27       100\n",
      "           1       0.22      0.08      0.12       100\n",
      "           2       0.29      0.98      0.45       100\n",
      "           3       0.09      0.02      0.03       100\n",
      "           4       0.87      0.61      0.72       100\n",
      "\n",
      "    accuracy                           0.37       500\n",
      "   macro avg       0.41      0.37      0.32       500\n",
      "weighted avg       0.41      0.37      0.32       500\n",
      "\n",
      "\n",
      "\n",
      "########## Valid Data Accuracy ######### \n",
      "\n",
      "\n",
      "              precision    recall  f1-score   support\n",
      "\n",
      "           0       0.38      0.16      0.22       300\n",
      "           1       0.26      0.08      0.12       300\n",
      "           2       0.28      0.97      0.43       300\n",
      "           3       0.10      0.02      0.04       300\n",
      "           4       0.83      0.42      0.56       300\n",
      "\n",
      "    accuracy                           0.33      1500\n",
      "   macro avg       0.37      0.33      0.28      1500\n",
      "weighted avg       0.37      0.33      0.28      1500\n",
      "\n",
      "############# epoch 2 ############\n",
      "\n",
      "\n",
      "########## Train Data Accuracy ######### \n",
      "\n",
      "\n",
      "              precision    recall  f1-score   support\n",
      "\n",
      "           0       0.74      0.73      0.74      2000\n",
      "           1       0.38      0.25      0.30      2000\n",
      "           2       0.50      0.91      0.65      2000\n",
      "           3       0.47      0.32      0.38      2000\n",
      "           4       0.76      0.65      0.70      2000\n",
      "\n",
      "    accuracy                           0.57     10000\n",
      "   macro avg       0.57      0.57      0.55     10000\n",
      "weighted avg       0.57      0.57      0.55     10000\n",
      "\n"
     ]
    },
    {
     "data": {
      "image/png": "[encoded data removed]",
      "text/plain": [
       "<Figure size 432x288 with 4 Axes>"
      ]
     },
     "metadata": {
      "needs_background": "light"
     },
     "output_type": "display_data"
    },
    {
     "name": "stdout",
     "output_type": "stream",
     "text": [
      "\n",
      "\n",
      "########## Test Data Accuracy ######### \n",
      "\n",
      "\n",
      "              precision    recall  f1-score   support\n",
      "\n",
      "           0       0.82      0.76      0.79       100\n",
      "           1       0.45      0.27      0.34       100\n",
      "           2       0.45      0.94      0.61       100\n",
      "           3       0.37      0.17      0.23       100\n",
      "           4       0.83      0.78      0.80       100\n",
      "\n",
      "    accuracy                           0.58       500\n",
      "   macro avg       0.58      0.58      0.55       500\n",
      "weighted avg       0.58      0.58      0.55       500\n",
      "\n",
      "\n",
      "\n",
      "########## Valid Data Accuracy ######### \n",
      "\n",
      "\n",
      "              precision    recall  f1-score   support\n",
      "\n",
      "           0       0.75      0.74      0.74       300\n",
      "           1       0.39      0.23      0.29       300\n",
      "           2       0.43      0.84      0.57       300\n",
      "           3       0.36      0.24      0.29       300\n",
      "           4       0.80      0.63      0.70       300\n",
      "\n",
      "    accuracy                           0.54      1500\n",
      "   macro avg       0.55      0.54      0.52      1500\n",
      "weighted avg       0.55      0.54      0.52      1500\n",
      "\n",
      "############# epoch 3 ############\n",
      "\n",
      "\n",
      "########## Train Data Accuracy ######### \n",
      "\n",
      "\n",
      "              precision    recall  f1-score   support\n",
      "\n",
      "           0       0.77      0.73      0.75      2000\n",
      "           1       0.42      0.48      0.45      2000\n",
      "           2       0.76      0.64      0.69      2000\n",
      "           3       0.55      0.27      0.37      2000\n",
      "           4       0.57      0.90      0.70      2000\n",
      "\n",
      "    accuracy                           0.60     10000\n",
      "   macro avg       0.61      0.60      0.59     10000\n",
      "weighted avg       0.61      0.60      0.59     10000\n",
      "\n"
     ]
    },
    {
     "data": {
      "image/png": "[encoded data removed]",
      "text/plain": [
       "<Figure size 432x288 with 4 Axes>"
      ]
     },
     "metadata": {
      "needs_background": "light"
     },
     "output_type": "display_data"
    },
    {
     "name": "stdout",
     "output_type": "stream",
     "text": [
      "\n",
      "\n",
      "########## Test Data Accuracy ######### \n",
      "\n",
      "\n",
      "              precision    recall  f1-score   support\n",
      "\n",
      "           0       0.86      0.81      0.84       100\n",
      "           1       0.45      0.55      0.49       100\n",
      "           2       0.69      0.68      0.69       100\n",
      "           3       0.47      0.17      0.25       100\n",
      "           4       0.66      0.98      0.79       100\n",
      "\n",
      "    accuracy                           0.64       500\n",
      "   macro avg       0.63      0.64      0.61       500\n",
      "weighted avg       0.63      0.64      0.61       500\n",
      "\n",
      "\n",
      "\n",
      "########## Valid Data Accuracy ######### \n",
      "\n",
      "\n",
      "              precision    recall  f1-score   support\n",
      "\n",
      "           0       0.81      0.73      0.77       300\n",
      "           1       0.33      0.45      0.38       300\n",
      "           2       0.64      0.50      0.56       300\n",
      "           3       0.36      0.16      0.22       300\n",
      "           4       0.59      0.90      0.71       300\n",
      "\n",
      "    accuracy                           0.55      1500\n",
      "   macro avg       0.55      0.55      0.53      1500\n",
      "weighted avg       0.55      0.55      0.53      1500\n",
      "\n",
      "############# epoch 4 ############\n",
      "\n",
      "\n",
      "########## Train Data Accuracy ######### \n",
      "\n",
      "\n",
      "              precision    recall  f1-score   support\n",
      "\n",
      "           0       0.48      0.93      0.63      2000\n",
      "           1       0.53      0.39      0.45      2000\n",
      "           2       0.83      0.63      0.72      2000\n",
      "           3       0.53      0.22      0.31      2000\n",
      "           4       0.68      0.78      0.73      2000\n",
      "\n",
      "    accuracy                           0.59     10000\n",
      "   macro avg       0.61      0.59      0.57     10000\n",
      "weighted avg       0.61      0.59      0.57     10000\n",
      "\n"
     ]
    },
    {
     "data": {
      "image/png": "[encoded data removed]",
      "text/plain": [
       "<Figure size 432x288 with 4 Axes>"
      ]
     },
     "metadata": {
      "needs_background": "light"
     },
     "output_type": "display_data"
    },
    {
     "name": "stdout",
     "output_type": "stream",
     "text": [
      "\n",
      "\n",
      "########## Test Data Accuracy ######### \n",
      "\n",
      "\n",
      "              precision    recall  f1-score   support\n",
      "\n",
      "           0       0.49      0.91      0.64       100\n",
      "           1       0.58      0.45      0.51       100\n",
      "           2       0.72      0.66      0.69       100\n",
      "           3       0.39      0.11      0.17       100\n",
      "           4       0.76      0.90      0.83       100\n",
      "\n",
      "    accuracy                           0.61       500\n",
      "   macro avg       0.59      0.61      0.57       500\n",
      "weighted avg       0.59      0.61      0.57       500\n",
      "\n",
      "\n",
      "\n",
      "########## Valid Data Accuracy ######### \n",
      "\n",
      "\n",
      "              precision    recall  f1-score   support\n",
      "\n",
      "           0       0.45      0.90      0.60       300\n",
      "           1       0.45      0.42      0.43       300\n",
      "           2       0.71      0.52      0.60       300\n",
      "           3       0.50      0.20      0.28       300\n",
      "           4       0.66      0.62      0.64       300\n",
      "\n",
      "    accuracy                           0.53      1500\n",
      "   macro avg       0.56      0.53      0.51      1500\n",
      "weighted avg       0.56      0.53      0.51      1500\n",
      "\n",
      "############# epoch 5 ############\n",
      "\n",
      "\n",
      "########## Train Data Accuracy ######### \n",
      "\n",
      "\n",
      "              precision    recall  f1-score   support\n",
      "\n",
      "           0       0.83      0.74      0.78      2000\n",
      "           1       0.59      0.55      0.57      2000\n",
      "           2       0.60      0.95      0.73      2000\n",
      "           3       0.61      0.32      0.42      2000\n",
      "           4       0.75      0.81      0.78      2000\n",
      "\n",
      "    accuracy                           0.67     10000\n",
      "   macro avg       0.68      0.67      0.66     10000\n",
      "weighted avg       0.68      0.67      0.66     10000\n",
      "\n"
     ]
    },
    {
     "data": {
      "image/png": "[encoded data removed]",
      "text/plain": [
       "<Figure size 432x288 with 4 Axes>"
      ]
     },
     "metadata": {
      "needs_background": "light"
     },
     "output_type": "display_data"
    },
    {
     "name": "stdout",
     "output_type": "stream",
     "text": [
      "\n",
      "\n",
      "########## Test Data Accuracy ######### \n",
      "\n",
      "\n",
      "              precision    recall  f1-score   support\n",
      "\n",
      "           0       0.90      0.77      0.83       100\n",
      "           1       0.66      0.52      0.58       100\n",
      "           2       0.52      0.94      0.67       100\n",
      "           3       0.45      0.17      0.25       100\n",
      "           4       0.80      0.92      0.86       100\n",
      "\n",
      "    accuracy                           0.66       500\n",
      "   macro avg       0.66      0.66      0.64       500\n",
      "weighted avg       0.66      0.66      0.64       500\n",
      "\n",
      "\n",
      "\n",
      "########## Valid Data Accuracy ######### \n",
      "\n",
      "\n",
      "              precision    recall  f1-score   support\n",
      "\n",
      "           0       0.82      0.75      0.78       300\n",
      "           1       0.51      0.49      0.50       300\n",
      "           2       0.51      0.87      0.65       300\n",
      "           3       0.35      0.17      0.23       300\n",
      "           4       0.75      0.71      0.73       300\n",
      "\n",
      "    accuracy                           0.60      1500\n",
      "   macro avg       0.59      0.60      0.58      1500\n",
      "weighted avg       0.59      0.60      0.58      1500\n",
      "\n",
      "############# epoch 6 ############\n",
      "\n",
      "\n",
      "########## Train Data Accuracy ######### \n",
      "\n",
      "\n",
      "              precision    recall  f1-score   support\n",
      "\n",
      "           0       0.90      0.64      0.75      2000\n",
      "           1       0.48      0.68      0.56      2000\n",
      "           2       0.65      0.90      0.76      2000\n",
      "           3       0.56      0.32      0.41      2000\n",
      "           4       0.80      0.72      0.76      2000\n",
      "\n",
      "    accuracy                           0.65     10000\n",
      "   macro avg       0.68      0.65      0.65     10000\n",
      "weighted avg       0.68      0.65      0.65     10000\n",
      "\n"
     ]
    },
    {
     "data": {
      "image/png": "[encoded data removed]",
      "text/plain": [
       "<Figure size 432x288 with 4 Axes>"
      ]
     },
     "metadata": {
      "needs_background": "light"
     },
     "output_type": "display_data"
    },
    {
     "name": "stdout",
     "output_type": "stream",
     "text": [
      "\n",
      "\n",
      "########## Test Data Accuracy ######### \n",
      "\n",
      "\n",
      "              precision    recall  f1-score   support\n",
      "\n",
      "           0       0.95      0.69      0.80       100\n",
      "           1       0.51      0.66      0.57       100\n",
      "           2       0.58      0.91      0.71       100\n",
      "           3       0.39      0.16      0.23       100\n",
      "           4       0.81      0.81      0.81       100\n",
      "\n",
      "    accuracy                           0.65       500\n",
      "   macro avg       0.65      0.65      0.62       500\n",
      "weighted avg       0.65      0.65      0.62       500\n",
      "\n",
      "\n",
      "\n",
      "########## Valid Data Accuracy ######### \n",
      "\n",
      "\n",
      "              precision    recall  f1-score   support\n",
      "\n",
      "           0       0.93      0.63      0.75       300\n",
      "           1       0.42      0.62      0.51       300\n",
      "           2       0.54      0.85      0.66       300\n",
      "           3       0.30      0.13      0.18       300\n",
      "           4       0.83      0.70      0.76       300\n",
      "\n",
      "    accuracy                           0.59      1500\n",
      "   macro avg       0.60      0.59      0.57      1500\n",
      "weighted avg       0.60      0.59      0.57      1500\n",
      "\n",
      "############# epoch 7 ############\n",
      "\n",
      "\n",
      "########## Train Data Accuracy ######### \n",
      "\n",
      "\n",
      "              precision    recall  f1-score   support\n",
      "\n",
      "           0       0.70      0.86      0.77      2000\n",
      "           1       0.79      0.38      0.51      2000\n",
      "           2       0.65      0.91      0.76      2000\n",
      "           3       0.50      0.44      0.47      2000\n",
      "           4       0.80      0.81      0.80      2000\n",
      "\n",
      "    accuracy                           0.68     10000\n",
      "   macro avg       0.69      0.68      0.66     10000\n",
      "weighted avg       0.69      0.68      0.66     10000\n",
      "\n"
     ]
    },
    {
     "data": {
      "image/png": "[encoded data removed]",
      "text/plain": [
       "<Figure size 432x288 with 4 Axes>"
      ]
     },
     "metadata": {
      "needs_background": "light"
     },
     "output_type": "display_data"
    },
    {
     "name": "stdout",
     "output_type": "stream",
     "text": [
      "\n",
      "\n",
      "########## Test Data Accuracy ######### \n",
      "\n",
      "\n",
      "              precision    recall  f1-score   support\n",
      "\n",
      "           0       0.76      0.85      0.80       100\n",
      "           1       0.72      0.29      0.41       100\n",
      "           2       0.52      0.89      0.65       100\n",
      "           3       0.38      0.27      0.31       100\n",
      "           4       0.85      0.88      0.86       100\n",
      "\n",
      "    accuracy                           0.64       500\n",
      "   macro avg       0.64      0.64      0.61       500\n",
      "weighted avg       0.64      0.64      0.61       500\n",
      "\n",
      "\n",
      "\n",
      "########## Valid Data Accuracy ######### \n",
      "\n",
      "\n",
      "              precision    recall  f1-score   support\n",
      "\n",
      "           0       0.71      0.84      0.77       300\n",
      "           1       0.68      0.35      0.46       300\n",
      "           2       0.54      0.79      0.64       300\n",
      "           3       0.41      0.38      0.39       300\n",
      "           4       0.82      0.74      0.78       300\n",
      "\n",
      "    accuracy                           0.62      1500\n",
      "   macro avg       0.63      0.62      0.61      1500\n",
      "weighted avg       0.63      0.62      0.61      1500\n",
      "\n",
      "############# epoch 8 ############\n",
      "\n",
      "\n",
      "########## Train Data Accuracy ######### \n",
      "\n",
      "\n",
      "              precision    recall  f1-score   support\n",
      "\n",
      "           0       0.83      0.83      0.83      2000\n",
      "           1       0.72      0.57      0.64      2000\n",
      "           2       0.78      0.85      0.82      2000\n",
      "           3       0.57      0.56      0.57      2000\n",
      "           4       0.78      0.87      0.82      2000\n",
      "\n",
      "    accuracy                           0.74     10000\n",
      "   macro avg       0.73      0.74      0.73     10000\n",
      "weighted avg       0.73      0.74      0.73     10000\n",
      "\n"
     ]
    },
    {
     "data": {
      "image/png": "[encoded data removed]",
      "text/plain": [
       "<Figure size 432x288 with 4 Axes>"
      ]
     },
     "metadata": {
      "needs_background": "light"
     },
     "output_type": "display_data"
    },
    {
     "name": "stdout",
     "output_type": "stream",
     "text": [
      "\n",
      "\n",
      "########## Test Data Accuracy ######### \n",
      "\n",
      "\n",
      "              precision    recall  f1-score   support\n",
      "\n",
      "           0       0.84      0.83      0.83       100\n",
      "           1       0.63      0.50      0.56       100\n",
      "           2       0.66      0.86      0.75       100\n",
      "           3       0.40      0.31      0.35       100\n",
      "           4       0.79      0.91      0.85       100\n",
      "\n",
      "    accuracy                           0.68       500\n",
      "   macro avg       0.67      0.68      0.67       500\n",
      "weighted avg       0.67      0.68      0.67       500\n",
      "\n",
      "\n",
      "\n",
      "########## Valid Data Accuracy ######### \n",
      "\n",
      "\n",
      "              precision    recall  f1-score   support\n",
      "\n",
      "           0       0.83      0.79      0.81       300\n",
      "           1       0.54      0.49      0.51       300\n",
      "           2       0.63      0.75      0.68       300\n",
      "           3       0.41      0.37      0.39       300\n",
      "           4       0.76      0.81      0.79       300\n",
      "\n",
      "    accuracy                           0.64      1500\n",
      "   macro avg       0.63      0.64      0.64      1500\n",
      "weighted avg       0.63      0.64      0.64      1500\n",
      "\n",
      "############# epoch 9 ############\n",
      "\n",
      "\n",
      "########## Train Data Accuracy ######### \n",
      "\n",
      "\n",
      "              precision    recall  f1-score   support\n",
      "\n",
      "           0       0.82      0.86      0.84      2000\n",
      "           1       0.65      0.71      0.68      2000\n",
      "           2       0.77      0.89      0.82      2000\n",
      "           3       0.65      0.47      0.54      2000\n",
      "           4       0.84      0.82      0.83      2000\n",
      "\n",
      "    accuracy                           0.75     10000\n",
      "   macro avg       0.74      0.75      0.74     10000\n",
      "weighted avg       0.74      0.75      0.74     10000\n",
      "\n"
     ]
    },
    {
     "data": {
      "image/png": "[encoded data removed]",
      "text/plain": [
       "<Figure size 432x288 with 4 Axes>"
      ]
     },
     "metadata": {
      "needs_background": "light"
     },
     "output_type": "display_data"
    },
    {
     "name": "stdout",
     "output_type": "stream",
     "text": [
      "\n",
      "\n",
      "########## Test Data Accuracy ######### \n",
      "\n",
      "\n",
      "              precision    recall  f1-score   support\n",
      "\n",
      "           0       0.84      0.84      0.84       100\n",
      "           1       0.63      0.69      0.66       100\n",
      "           2       0.66      0.90      0.76       100\n",
      "           3       0.42      0.22      0.29       100\n",
      "           4       0.82      0.84      0.83       100\n",
      "\n",
      "    accuracy                           0.70       500\n",
      "   macro avg       0.68      0.70      0.68       500\n",
      "weighted avg       0.68      0.70      0.68       500\n",
      "\n",
      "\n",
      "\n",
      "########## Valid Data Accuracy ######### \n",
      "\n",
      "\n",
      "              precision    recall  f1-score   support\n",
      "\n",
      "           0       0.80      0.79      0.80       300\n",
      "           1       0.51      0.60      0.55       300\n",
      "           2       0.62      0.76      0.69       300\n",
      "           3       0.43      0.30      0.36       300\n",
      "           4       0.81      0.74      0.78       300\n",
      "\n",
      "    accuracy                           0.64      1500\n",
      "   macro avg       0.64      0.64      0.63      1500\n",
      "weighted avg       0.64      0.64      0.63      1500\n",
      "\n",
      "############# epoch 10 ############\n",
      "\n",
      "\n",
      "########## Train Data Accuracy ######### \n",
      "\n",
      "\n",
      "              precision    recall  f1-score   support\n",
      "\n",
      "           0       0.84      0.86      0.85      2000\n",
      "           1       0.69      0.65      0.67      2000\n",
      "           2       0.82      0.83      0.83      2000\n",
      "           3       0.62      0.55      0.58      2000\n",
      "           4       0.77      0.89      0.82      2000\n",
      "\n",
      "    accuracy                           0.75     10000\n",
      "   macro avg       0.75      0.75      0.75     10000\n",
      "weighted avg       0.75      0.75      0.75     10000\n",
      "\n"
     ]
    },
    {
     "data": {
      "image/png": "[encoded data removed]",
      "text/plain": [
       "<Figure size 432x288 with 4 Axes>"
      ]
     },
     "metadata": {
      "needs_background": "light"
     },
     "output_type": "display_data"
    },
    {
     "name": "stdout",
     "output_type": "stream",
     "text": [
      "\n",
      "\n",
      "########## Test Data Accuracy ######### \n",
      "\n",
      "\n",
      "              precision    recall  f1-score   support\n",
      "\n",
      "           0       0.85      0.82      0.83       100\n",
      "           1       0.63      0.59      0.61       100\n",
      "           2       0.71      0.85      0.78       100\n",
      "           3       0.46      0.33      0.39       100\n",
      "           4       0.78      0.93      0.85       100\n",
      "\n",
      "    accuracy                           0.70       500\n",
      "   macro avg       0.69      0.70      0.69       500\n",
      "weighted avg       0.69      0.70      0.69       500\n",
      "\n",
      "\n",
      "\n",
      "########## Valid Data Accuracy ######### \n",
      "\n",
      "\n",
      "              precision    recall  f1-score   support\n",
      "\n",
      "           0       0.84      0.79      0.81       300\n",
      "           1       0.52      0.54      0.53       300\n",
      "           2       0.65      0.71      0.68       300\n",
      "           3       0.46      0.36      0.40       300\n",
      "           4       0.74      0.84      0.79       300\n",
      "\n",
      "    accuracy                           0.65      1500\n",
      "   macro avg       0.64      0.65      0.64      1500\n",
      "weighted avg       0.64      0.65      0.64      1500\n",
      "\n",
      "############# epoch 11 ############\n",
      "\n",
      "\n",
      "########## Train Data Accuracy ######### \n",
      "\n",
      "\n",
      "              precision    recall  f1-score   support\n",
      "\n",
      "           0       0.73      0.93      0.82      2000\n",
      "           1       0.72      0.67      0.69      2000\n",
      "           2       0.79      0.88      0.83      2000\n",
      "           3       0.65      0.49      0.56      2000\n",
      "           4       0.87      0.80      0.83      2000\n",
      "\n",
      "    accuracy                           0.75     10000\n",
      "   macro avg       0.75      0.75      0.75     10000\n",
      "weighted avg       0.75      0.75      0.75     10000\n",
      "\n"
     ]
    },
    {
     "data": {
      "image/png": "[encoded data removed]",
      "text/plain": [
       "<Figure size 432x288 with 4 Axes>"
      ]
     },
     "metadata": {
      "needs_background": "light"
     },
     "output_type": "display_data"
    },
    {
     "name": "stdout",
     "output_type": "stream",
     "text": [
      "\n",
      "\n",
      "########## Test Data Accuracy ######### \n",
      "\n",
      "\n",
      "              precision    recall  f1-score   support\n",
      "\n",
      "           0       0.72      0.89      0.79       100\n",
      "           1       0.66      0.61      0.64       100\n",
      "           2       0.66      0.90      0.76       100\n",
      "           3       0.40      0.22      0.28       100\n",
      "           4       0.87      0.81      0.84       100\n",
      "\n",
      "    accuracy                           0.69       500\n",
      "   macro avg       0.66      0.69      0.66       500\n",
      "weighted avg       0.66      0.69      0.66       500\n",
      "\n",
      "\n",
      "\n",
      "########## Valid Data Accuracy ######### \n",
      "\n",
      "\n",
      "              precision    recall  f1-score   support\n",
      "\n",
      "           0       0.72      0.87      0.79       300\n",
      "           1       0.53      0.54      0.53       300\n",
      "           2       0.63      0.75      0.68       300\n",
      "           3       0.47      0.35      0.40       300\n",
      "           4       0.85      0.70      0.77       300\n",
      "\n",
      "    accuracy                           0.64      1500\n",
      "   macro avg       0.64      0.64      0.63      1500\n",
      "weighted avg       0.64      0.64      0.63      1500\n",
      "\n",
      "############# epoch 12 ############\n",
      "\n",
      "\n",
      "########## Train Data Accuracy ######### \n",
      "\n",
      "\n",
      "              precision    recall  f1-score   support\n",
      "\n",
      "           0       0.89      0.87      0.88      2000\n",
      "           1       0.73      0.74      0.73      2000\n",
      "           2       0.81      0.90      0.85      2000\n",
      "           3       0.68      0.60      0.64      2000\n",
      "           4       0.85      0.86      0.86      2000\n",
      "\n",
      "    accuracy                           0.79     10000\n",
      "   macro avg       0.79      0.79      0.79     10000\n",
      "weighted avg       0.79      0.79      0.79     10000\n",
      "\n"
     ]
    },
    {
     "data": {
      "image/png": "[encoded data removed]",
      "text/plain": [
       "<Figure size 432x288 with 4 Axes>"
      ]
     },
     "metadata": {
      "needs_background": "light"
     },
     "output_type": "display_data"
    },
    {
     "name": "stdout",
     "output_type": "stream",
     "text": [
      "\n",
      "\n",
      "########## Test Data Accuracy ######### \n",
      "\n",
      "\n",
      "              precision    recall  f1-score   support\n",
      "\n",
      "           0       0.85      0.83      0.84       100\n",
      "           1       0.64      0.58      0.61       100\n",
      "           2       0.67      0.90      0.77       100\n",
      "           3       0.47      0.34      0.40       100\n",
      "           4       0.83      0.86      0.84       100\n",
      "\n",
      "    accuracy                           0.70       500\n",
      "   macro avg       0.69      0.70      0.69       500\n",
      "weighted avg       0.69      0.70      0.69       500\n",
      "\n",
      "\n",
      "\n",
      "########## Valid Data Accuracy ######### \n",
      "\n",
      "\n",
      "              precision    recall  f1-score   support\n",
      "\n",
      "           0       0.84      0.78      0.81       300\n",
      "           1       0.52      0.55      0.53       300\n",
      "           2       0.63      0.76      0.68       300\n",
      "           3       0.44      0.37      0.40       300\n",
      "           4       0.80      0.75      0.78       300\n",
      "\n",
      "    accuracy                           0.64      1500\n",
      "   macro avg       0.64      0.64      0.64      1500\n",
      "weighted avg       0.64      0.64      0.64      1500\n",
      "\n",
      "############# epoch 13 ############\n",
      "\n",
      "\n",
      "########## Train Data Accuracy ######### \n",
      "\n",
      "\n",
      "              precision    recall  f1-score   support\n",
      "\n",
      "           0       0.90      0.89      0.89      2000\n",
      "           1       0.81      0.68      0.74      2000\n",
      "           2       0.79      0.91      0.85      2000\n",
      "           3       0.70      0.64      0.67      2000\n",
      "           4       0.81      0.90      0.85      2000\n",
      "\n",
      "    accuracy                           0.80     10000\n",
      "   macro avg       0.80      0.80      0.80     10000\n",
      "weighted avg       0.80      0.80      0.80     10000\n",
      "\n"
     ]
    },
    {
     "data": {
      "image/png": "[encoded data removed]",
      "text/plain": [
       "<Figure size 432x288 with 4 Axes>"
      ]
     },
     "metadata": {
      "needs_background": "light"
     },
     "output_type": "display_data"
    },
    {
     "name": "stdout",
     "output_type": "stream",
     "text": [
      "\n",
      "\n",
      "########## Test Data Accuracy ######### \n",
      "\n",
      "\n",
      "              precision    recall  f1-score   support\n",
      "\n",
      "           0       0.85      0.84      0.84       100\n",
      "           1       0.69      0.50      0.58       100\n",
      "           2       0.67      0.92      0.78       100\n",
      "           3       0.55      0.39      0.46       100\n",
      "           4       0.74      0.89      0.81       100\n",
      "\n",
      "    accuracy                           0.71       500\n",
      "   macro avg       0.70      0.71      0.69       500\n",
      "weighted avg       0.70      0.71      0.69       500\n",
      "\n",
      "\n",
      "\n",
      "########## Valid Data Accuracy ######### \n",
      "\n",
      "\n",
      "              precision    recall  f1-score   support\n",
      "\n",
      "           0       0.83      0.80      0.82       300\n",
      "           1       0.55      0.50      0.52       300\n",
      "           2       0.61      0.75      0.67       300\n",
      "           3       0.46      0.37      0.41       300\n",
      "           4       0.76      0.83      0.79       300\n",
      "\n",
      "    accuracy                           0.65      1500\n",
      "   macro avg       0.64      0.65      0.64      1500\n",
      "weighted avg       0.64      0.65      0.64      1500\n",
      "\n",
      "############# epoch 14 ############\n",
      "\n",
      "\n",
      "########## Train Data Accuracy ######### \n",
      "\n",
      "\n",
      "              precision    recall  f1-score   support\n",
      "\n",
      "           0       0.90      0.92      0.91      2000\n",
      "           1       0.76      0.79      0.78      2000\n",
      "           2       0.86      0.85      0.85      2000\n",
      "           3       0.70      0.70      0.70      2000\n",
      "           4       0.90      0.85      0.87      2000\n",
      "\n",
      "    accuracy                           0.82     10000\n",
      "   macro avg       0.82      0.82      0.82     10000\n",
      "weighted avg       0.82      0.82      0.82     10000\n",
      "\n"
     ]
    },
    {
     "data": {
      "image/png": "[encoded data removed]",
      "text/plain": [
       "<Figure size 432x288 with 4 Axes>"
      ]
     },
     "metadata": {
      "needs_background": "light"
     },
     "output_type": "display_data"
    },
    {
     "name": "stdout",
     "output_type": "stream",
     "text": [
      "\n",
      "\n",
      "########## Test Data Accuracy ######### \n",
      "\n",
      "\n",
      "              precision    recall  f1-score   support\n",
      "\n",
      "           0       0.80      0.83      0.81       100\n",
      "           1       0.66      0.61      0.64       100\n",
      "           2       0.68      0.84      0.75       100\n",
      "           3       0.45      0.39      0.42       100\n",
      "           4       0.84      0.80      0.82       100\n",
      "\n",
      "    accuracy                           0.69       500\n",
      "   macro avg       0.69      0.69      0.69       500\n",
      "weighted avg       0.69      0.69      0.69       500\n",
      "\n",
      "\n",
      "\n",
      "########## Valid Data Accuracy ######### \n",
      "\n",
      "\n",
      "              precision    recall  f1-score   support\n",
      "\n",
      "           0       0.78      0.79      0.79       300\n",
      "           1       0.48      0.55      0.52       300\n",
      "           2       0.69      0.68      0.68       300\n",
      "           3       0.42      0.41      0.42       300\n",
      "           4       0.82      0.72      0.77       300\n",
      "\n",
      "    accuracy                           0.63      1500\n",
      "   macro avg       0.64      0.63      0.63      1500\n",
      "weighted avg       0.64      0.63      0.63      1500\n",
      "\n",
      "############# epoch 15 ############\n",
      "\n",
      "\n",
      "########## Train Data Accuracy ######### \n",
      "\n",
      "\n",
      "              precision    recall  f1-score   support\n",
      "\n",
      "           0       0.93      0.91      0.92      2000\n",
      "           1       0.82      0.78      0.80      2000\n",
      "           2       0.82      0.93      0.87      2000\n",
      "           3       0.78      0.68      0.73      2000\n",
      "           4       0.87      0.90      0.88      2000\n",
      "\n",
      "    accuracy                           0.84     10000\n",
      "   macro avg       0.84      0.84      0.84     10000\n",
      "weighted avg       0.84      0.84      0.84     10000\n",
      "\n"
     ]
    },
    {
     "data": {
      "image/png": "[encoded data removed]",
      "text/plain": [
       "<Figure size 432x288 with 4 Axes>"
      ]
     },
     "metadata": {
      "needs_background": "light"
     },
     "output_type": "display_data"
    },
    {
     "name": "stdout",
     "output_type": "stream",
     "text": [
      "\n",
      "\n",
      "########## Test Data Accuracy ######### \n",
      "\n",
      "\n",
      "              precision    recall  f1-score   support\n",
      "\n",
      "           0       0.84      0.83      0.83       100\n",
      "           1       0.71      0.55      0.62       100\n",
      "           2       0.68      0.92      0.78       100\n",
      "           3       0.48      0.38      0.42       100\n",
      "           4       0.79      0.85      0.82       100\n",
      "\n",
      "    accuracy                           0.71       500\n",
      "   macro avg       0.70      0.71      0.69       500\n",
      "weighted avg       0.70      0.71      0.69       500\n",
      "\n",
      "\n",
      "\n",
      "########## Valid Data Accuracy ######### \n",
      "\n",
      "\n",
      "              precision    recall  f1-score   support\n",
      "\n",
      "           0       0.81      0.78      0.79       300\n",
      "           1       0.52      0.53      0.52       300\n",
      "           2       0.64      0.77      0.69       300\n",
      "           3       0.44      0.37      0.40       300\n",
      "           4       0.79      0.78      0.78       300\n",
      "\n",
      "    accuracy                           0.64      1500\n",
      "   macro avg       0.64      0.64      0.64      1500\n",
      "weighted avg       0.64      0.64      0.64      1500\n",
      "\n",
      "############# epoch 16 ############\n",
      "\n",
      "\n",
      "########## Train Data Accuracy ######### \n",
      "\n",
      "\n",
      "              precision    recall  f1-score   support\n",
      "\n",
      "           0       0.93      0.92      0.93      2000\n",
      "           1       0.77      0.84      0.81      2000\n",
      "           2       0.84      0.92      0.88      2000\n",
      "           3       0.82      0.66      0.73      2000\n",
      "           4       0.88      0.91      0.89      2000\n",
      "\n",
      "    accuracy                           0.85     10000\n",
      "   macro avg       0.85      0.85      0.85     10000\n",
      "weighted avg       0.85      0.85      0.85     10000\n",
      "\n"
     ]
    },
    {
     "data": {
      "image/png": "[encoded data removed]",
      "text/plain": [
       "<Figure size 432x288 with 4 Axes>"
      ]
     },
     "metadata": {
      "needs_background": "light"
     },
     "output_type": "display_data"
    },
    {
     "name": "stdout",
     "output_type": "stream",
     "text": [
      "\n",
      "\n",
      "########## Test Data Accuracy ######### \n",
      "\n",
      "\n",
      "              precision    recall  f1-score   support\n",
      "\n",
      "           0       0.84      0.81      0.82       100\n",
      "           1       0.68      0.63      0.65       100\n",
      "           2       0.70      0.92      0.80       100\n",
      "           3       0.52      0.38      0.44       100\n",
      "           4       0.81      0.86      0.83       100\n",
      "\n",
      "    accuracy                           0.72       500\n",
      "   macro avg       0.71      0.72      0.71       500\n",
      "weighted avg       0.71      0.72      0.71       500\n",
      "\n",
      "\n",
      "\n",
      "########## Valid Data Accuracy ######### \n",
      "\n",
      "\n",
      "              precision    recall  f1-score   support\n",
      "\n",
      "           0       0.81      0.78      0.79       300\n",
      "           1       0.49      0.60      0.54       300\n",
      "           2       0.65      0.74      0.69       300\n",
      "           3       0.44      0.32      0.37       300\n",
      "           4       0.79      0.76      0.77       300\n",
      "\n",
      "    accuracy                           0.64      1500\n",
      "   macro avg       0.64      0.64      0.63      1500\n",
      "weighted avg       0.64      0.64      0.63      1500\n",
      "\n",
      "############# epoch 17 ############\n",
      "\n",
      "\n",
      "########## Train Data Accuracy ######### \n",
      "\n",
      "\n",
      "              precision    recall  f1-score   support\n",
      "\n",
      "           0       0.94      0.93      0.93      2000\n",
      "           1       0.77      0.85      0.81      2000\n",
      "           2       0.87      0.89      0.88      2000\n",
      "           3       0.80      0.69      0.75      2000\n",
      "           4       0.89      0.90      0.89      2000\n",
      "\n",
      "    accuracy                           0.85     10000\n",
      "   macro avg       0.85      0.85      0.85     10000\n",
      "weighted avg       0.85      0.85      0.85     10000\n",
      "\n"
     ]
    },
    {
     "data": {
      "image/png": "[encoded data removed]",
      "text/plain": [
       "<Figure size 432x288 with 4 Axes>"
      ]
     },
     "metadata": {
      "needs_background": "light"
     },
     "output_type": "display_data"
    },
    {
     "name": "stdout",
     "output_type": "stream",
     "text": [
      "\n",
      "\n",
      "########## Test Data Accuracy ######### \n",
      "\n",
      "\n",
      "              precision    recall  f1-score   support\n",
      "\n",
      "           0       0.81      0.83      0.82       100\n",
      "           1       0.64      0.61      0.62       100\n",
      "           2       0.70      0.85      0.77       100\n",
      "           3       0.49      0.39      0.44       100\n",
      "           4       0.82      0.84      0.83       100\n",
      "\n",
      "    accuracy                           0.70       500\n",
      "   macro avg       0.69      0.70      0.70       500\n",
      "weighted avg       0.69      0.70      0.70       500\n",
      "\n",
      "\n",
      "\n",
      "########## Valid Data Accuracy ######### \n",
      "\n",
      "\n",
      "              precision    recall  f1-score   support\n",
      "\n",
      "           0       0.79      0.79      0.79       300\n",
      "           1       0.50      0.60      0.54       300\n",
      "           2       0.67      0.72      0.69       300\n",
      "           3       0.43      0.34      0.38       300\n",
      "           4       0.80      0.74      0.77       300\n",
      "\n",
      "    accuracy                           0.64      1500\n",
      "   macro avg       0.64      0.64      0.63      1500\n",
      "weighted avg       0.64      0.64      0.63      1500\n",
      "\n",
      "############# epoch 18 ############\n",
      "\n",
      "\n",
      "########## Train Data Accuracy ######### \n",
      "\n",
      "\n",
      "              precision    recall  f1-score   support\n",
      "\n",
      "           0       0.92      0.95      0.93      2000\n",
      "           1       0.82      0.84      0.83      2000\n",
      "           2       0.87      0.91      0.89      2000\n",
      "           3       0.82      0.71      0.76      2000\n",
      "           4       0.88      0.91      0.90      2000\n",
      "\n",
      "    accuracy                           0.86     10000\n",
      "   macro avg       0.86      0.86      0.86     10000\n",
      "weighted avg       0.86      0.86      0.86     10000\n",
      "\n"
     ]
    },
    {
     "data": {
      "image/png": "[encoded data removed]",
      "text/plain": [
       "<Figure size 432x288 with 4 Axes>"
      ]
     },
     "metadata": {
      "needs_background": "light"
     },
     "output_type": "display_data"
    },
    {
     "name": "stdout",
     "output_type": "stream",
     "text": [
      "\n",
      "\n",
      "########## Test Data Accuracy ######### \n",
      "\n",
      "\n",
      "              precision    recall  f1-score   support\n",
      "\n",
      "           0       0.78      0.83      0.81       100\n",
      "           1       0.68      0.57      0.62       100\n",
      "           2       0.69      0.87      0.77       100\n",
      "           3       0.51      0.40      0.45       100\n",
      "           4       0.81      0.85      0.83       100\n",
      "\n",
      "    accuracy                           0.70       500\n",
      "   macro avg       0.69      0.70      0.69       500\n",
      "weighted avg       0.69      0.70      0.69       500\n",
      "\n",
      "\n",
      "\n",
      "########## Valid Data Accuracy ######### \n",
      "\n",
      "\n",
      "              precision    recall  f1-score   support\n",
      "\n",
      "           0       0.77      0.80      0.79       300\n",
      "           1       0.50      0.55      0.52       300\n",
      "           2       0.67      0.71      0.69       300\n",
      "           3       0.44      0.36      0.39       300\n",
      "           4       0.76      0.75      0.76       300\n",
      "\n",
      "    accuracy                           0.63      1500\n",
      "   macro avg       0.63      0.63      0.63      1500\n",
      "weighted avg       0.63      0.63      0.63      1500\n",
      "\n",
      "############# epoch 19 ############\n",
      "\n",
      "\n",
      "########## Train Data Accuracy ######### \n",
      "\n",
      "\n",
      "              precision    recall  f1-score   support\n",
      "\n",
      "           0       0.95      0.94      0.95      2000\n",
      "           1       0.85      0.83      0.84      2000\n",
      "           2       0.86      0.93      0.89      2000\n",
      "           3       0.81      0.77      0.79      2000\n",
      "           4       0.91      0.91      0.91      2000\n",
      "\n",
      "    accuracy                           0.88     10000\n",
      "   macro avg       0.88      0.88      0.88     10000\n",
      "weighted avg       0.88      0.88      0.88     10000\n",
      "\n"
     ]
    },
    {
     "data": {
      "image/png": "[encoded data removed]",
      "text/plain": [
       "<Figure size 432x288 with 4 Axes>"
      ]
     },
     "metadata": {
      "needs_background": "light"
     },
     "output_type": "display_data"
    },
    {
     "name": "stdout",
     "output_type": "stream",
     "text": [
      "\n",
      "\n",
      "########## Test Data Accuracy ######### \n",
      "\n",
      "\n",
      "              precision    recall  f1-score   support\n",
      "\n",
      "           0       0.80      0.81      0.81       100\n",
      "           1       0.69      0.54      0.61       100\n",
      "           2       0.69      0.90      0.78       100\n",
      "           3       0.48      0.44      0.46       100\n",
      "           4       0.82      0.81      0.81       100\n",
      "\n",
      "    accuracy                           0.70       500\n",
      "   macro avg       0.70      0.70      0.69       500\n",
      "weighted avg       0.70      0.70      0.69       500\n",
      "\n",
      "\n",
      "\n",
      "########## Valid Data Accuracy ######### \n",
      "\n",
      "\n",
      "              precision    recall  f1-score   support\n",
      "\n",
      "           0       0.80      0.79      0.79       300\n",
      "           1       0.51      0.53      0.52       300\n",
      "           2       0.64      0.72      0.68       300\n",
      "           3       0.42      0.39      0.41       300\n",
      "           4       0.79      0.73      0.76       300\n",
      "\n",
      "    accuracy                           0.63      1500\n",
      "   macro avg       0.63      0.63      0.63      1500\n",
      "weighted avg       0.63      0.63      0.63      1500\n",
      "\n",
      "############# epoch 20 ############\n",
      "\n",
      "\n",
      "########## Train Data Accuracy ######### \n",
      "\n",
      "\n",
      "              precision    recall  f1-score   support\n",
      "\n",
      "           0       0.95      0.95      0.95      2000\n",
      "           1       0.85      0.85      0.85      2000\n",
      "           2       0.86      0.93      0.90      2000\n",
      "           3       0.84      0.75      0.79      2000\n",
      "           4       0.90      0.93      0.91      2000\n",
      "\n",
      "    accuracy                           0.88     10000\n",
      "   macro avg       0.88      0.88      0.88     10000\n",
      "weighted avg       0.88      0.88      0.88     10000\n",
      "\n"
     ]
    },
    {
     "data": {
      "image/png": "[encoded data removed]",
      "text/plain": [
       "<Figure size 432x288 with 4 Axes>"
      ]
     },
     "metadata": {
      "needs_background": "light"
     },
     "output_type": "display_data"
    },
    {
     "name": "stdout",
     "output_type": "stream",
     "text": [
      "\n",
      "\n",
      "########## Test Data Accuracy ######### \n",
      "\n",
      "\n",
      "              precision    recall  f1-score   support\n",
      "\n",
      "           0       0.81      0.82      0.82       100\n",
      "           1       0.67      0.56      0.61       100\n",
      "           2       0.68      0.90      0.78       100\n",
      "           3       0.51      0.41      0.45       100\n",
      "           4       0.82      0.84      0.83       100\n",
      "\n",
      "    accuracy                           0.71       500\n",
      "   macro avg       0.70      0.71      0.70       500\n",
      "weighted avg       0.70      0.71      0.70       500\n",
      "\n",
      "\n",
      "\n",
      "########## Valid Data Accuracy ######### \n",
      "\n",
      "\n",
      "              precision    recall  f1-score   support\n",
      "\n",
      "           0       0.81      0.79      0.80       300\n",
      "           1       0.49      0.54      0.51       300\n",
      "           2       0.65      0.73      0.69       300\n",
      "           3       0.42      0.36      0.39       300\n",
      "           4       0.78      0.75      0.76       300\n",
      "\n",
      "    accuracy                           0.63      1500\n",
      "   macro avg       0.63      0.63      0.63      1500\n",
      "weighted avg       0.63      0.63      0.63      1500\n",
      "\n",
      "############# epoch 21 ############\n",
      "\n",
      "\n",
      "########## Train Data Accuracy ######### \n",
      "\n",
      "\n",
      "              precision    recall  f1-score   support\n",
      "\n",
      "           0       0.95      0.95      0.95      2000\n",
      "           1       0.85      0.85      0.85      2000\n",
      "           2       0.86      0.94      0.90      2000\n",
      "           3       0.84      0.75      0.79      2000\n",
      "           4       0.91      0.92      0.91      2000\n",
      "\n",
      "    accuracy                           0.88     10000\n",
      "   macro avg       0.88      0.88      0.88     10000\n",
      "weighted avg       0.88      0.88      0.88     10000\n",
      "\n"
     ]
    },
    {
     "data": {
      "image/png": "[encoded data removed]",
      "text/plain": [
       "<Figure size 432x288 with 4 Axes>"
      ]
     },
     "metadata": {
      "needs_background": "light"
     },
     "output_type": "display_data"
    },
    {
     "name": "stdout",
     "output_type": "stream",
     "text": [
      "\n",
      "\n",
      "########## Test Data Accuracy ######### \n",
      "\n",
      "\n",
      "              precision    recall  f1-score   support\n",
      "\n",
      "           0       0.80      0.81      0.81       100\n",
      "           1       0.69      0.57      0.62       100\n",
      "           2       0.68      0.90      0.78       100\n",
      "           3       0.51      0.42      0.46       100\n",
      "           4       0.81      0.83      0.82       100\n",
      "\n",
      "    accuracy                           0.71       500\n",
      "   macro avg       0.70      0.71      0.70       500\n",
      "weighted avg       0.70      0.71      0.70       500\n",
      "\n",
      "\n",
      "\n",
      "########## Valid Data Accuracy ######### \n",
      "\n",
      "\n",
      "              precision    recall  f1-score   support\n",
      "\n",
      "           0       0.80      0.79      0.79       300\n",
      "           1       0.49      0.53      0.51       300\n",
      "           2       0.65      0.74      0.69       300\n",
      "           3       0.42      0.37      0.39       300\n",
      "           4       0.79      0.73      0.76       300\n",
      "\n",
      "    accuracy                           0.63      1500\n",
      "   macro avg       0.63      0.63      0.63      1500\n",
      "weighted avg       0.63      0.63      0.63      1500\n",
      "\n",
      "############# epoch 22 ############\n",
      "\n",
      "\n",
      "########## Train Data Accuracy ######### \n",
      "\n",
      "\n",
      "              precision    recall  f1-score   support\n",
      "\n",
      "           0       0.96      0.95      0.96      2000\n",
      "           1       0.85      0.86      0.85      2000\n",
      "           2       0.86      0.95      0.90      2000\n",
      "           3       0.85      0.75      0.80      2000\n",
      "           4       0.91      0.93      0.92      2000\n",
      "\n",
      "    accuracy                           0.89     10000\n",
      "   macro avg       0.89      0.89      0.88     10000\n",
      "weighted avg       0.89      0.89      0.88     10000\n",
      "\n"
     ]
    },
    {
     "data": {
      "image/png": "[encoded data removed]",
      "text/plain": [
       "<Figure size 432x288 with 4 Axes>"
      ]
     },
     "metadata": {
      "needs_background": "light"
     },
     "output_type": "display_data"
    },
    {
     "name": "stdout",
     "output_type": "stream",
     "text": [
      "\n",
      "\n",
      "########## Test Data Accuracy ######### \n",
      "\n",
      "\n",
      "              precision    recall  f1-score   support\n",
      "\n",
      "           0       0.81      0.82      0.82       100\n",
      "           1       0.70      0.57      0.63       100\n",
      "           2       0.68      0.90      0.78       100\n",
      "           3       0.53      0.43      0.48       100\n",
      "           4       0.81      0.84      0.82       100\n",
      "\n",
      "    accuracy                           0.71       500\n",
      "   macro avg       0.71      0.71      0.70       500\n",
      "weighted avg       0.71      0.71      0.70       500\n",
      "\n",
      "\n",
      "\n",
      "########## Valid Data Accuracy ######### \n",
      "\n",
      "\n",
      "              precision    recall  f1-score   support\n",
      "\n",
      "           0       0.80      0.79      0.80       300\n",
      "           1       0.50      0.54      0.52       300\n",
      "           2       0.65      0.74      0.69       300\n",
      "           3       0.43      0.37      0.40       300\n",
      "           4       0.79      0.73      0.76       300\n",
      "\n",
      "    accuracy                           0.63      1500\n",
      "   macro avg       0.63      0.63      0.63      1500\n",
      "weighted avg       0.63      0.63      0.63      1500\n",
      "\n",
      "############# epoch 23 ############\n",
      "\n",
      "\n",
      "########## Train Data Accuracy ######### \n",
      "\n",
      "\n",
      "              precision    recall  f1-score   support\n",
      "\n",
      "           0       0.96      0.95      0.96      2000\n",
      "           1       0.86      0.85      0.86      2000\n",
      "           2       0.88      0.93      0.90      2000\n",
      "           3       0.84      0.78      0.81      2000\n",
      "           4       0.90      0.93      0.92      2000\n",
      "\n",
      "    accuracy                           0.89     10000\n",
      "   macro avg       0.89      0.89      0.89     10000\n",
      "weighted avg       0.89      0.89      0.89     10000\n",
      "\n"
     ]
    },
    {
     "data": {
      "image/png": "[encoded data removed]",
      "text/plain": [
       "<Figure size 432x288 with 4 Axes>"
      ]
     },
     "metadata": {
      "needs_background": "light"
     },
     "output_type": "display_data"
    },
    {
     "name": "stdout",
     "output_type": "stream",
     "text": [
      "\n",
      "\n",
      "########## Test Data Accuracy ######### \n",
      "\n",
      "\n",
      "              precision    recall  f1-score   support\n",
      "\n",
      "           0       0.81      0.82      0.82       100\n",
      "           1       0.69      0.57      0.62       100\n",
      "           2       0.69      0.87      0.77       100\n",
      "           3       0.52      0.45      0.48       100\n",
      "           4       0.82      0.84      0.83       100\n",
      "\n",
      "    accuracy                           0.71       500\n",
      "   macro avg       0.70      0.71      0.70       500\n",
      "weighted avg       0.70      0.71      0.70       500\n",
      "\n",
      "\n",
      "\n",
      "########## Valid Data Accuracy ######### \n",
      "\n",
      "\n",
      "              precision    recall  f1-score   support\n",
      "\n",
      "           0       0.80      0.79      0.79       300\n",
      "           1       0.50      0.53      0.51       300\n",
      "           2       0.65      0.71      0.68       300\n",
      "           3       0.42      0.38      0.40       300\n",
      "           4       0.79      0.75      0.77       300\n",
      "\n",
      "    accuracy                           0.63      1500\n",
      "   macro avg       0.63      0.63      0.63      1500\n",
      "weighted avg       0.63      0.63      0.63      1500\n",
      "\n",
      "############# epoch 24 ############\n",
      "\n",
      "\n",
      "########## Train Data Accuracy ######### \n",
      "\n",
      "\n",
      "              precision    recall  f1-score   support\n",
      "\n",
      "           0       0.96      0.95      0.96      2000\n",
      "           1       0.86      0.86      0.86      2000\n",
      "           2       0.88      0.94      0.91      2000\n",
      "           3       0.84      0.78      0.81      2000\n",
      "           4       0.91      0.93      0.92      2000\n",
      "\n",
      "    accuracy                           0.89     10000\n",
      "   macro avg       0.89      0.89      0.89     10000\n",
      "weighted avg       0.89      0.89      0.89     10000\n",
      "\n"
     ]
    },
    {
     "data": {
      "image/png": "[encoded data removed]",
      "text/plain": [
       "<Figure size 432x288 with 4 Axes>"
      ]
     },
     "metadata": {
      "needs_background": "light"
     },
     "output_type": "display_data"
    },
    {
     "name": "stdout",
     "output_type": "stream",
     "text": [
      "\n",
      "\n",
      "########## Test Data Accuracy ######### \n",
      "\n",
      "\n",
      "              precision    recall  f1-score   support\n",
      "\n",
      "           0       0.81      0.82      0.82       100\n",
      "           1       0.69      0.56      0.62       100\n",
      "           2       0.68      0.88      0.77       100\n",
      "           3       0.49      0.43      0.46       100\n",
      "           4       0.82      0.84      0.83       100\n",
      "\n",
      "    accuracy                           0.71       500\n",
      "   macro avg       0.70      0.71      0.70       500\n",
      "weighted avg       0.70      0.71      0.70       500\n",
      "\n",
      "\n",
      "\n",
      "########## Valid Data Accuracy ######### \n",
      "\n",
      "\n",
      "              precision    recall  f1-score   support\n",
      "\n",
      "           0       0.79      0.79      0.79       300\n",
      "           1       0.49      0.53      0.51       300\n",
      "           2       0.66      0.71      0.68       300\n",
      "           3       0.41      0.38      0.39       300\n",
      "           4       0.79      0.73      0.76       300\n",
      "\n",
      "    accuracy                           0.63      1500\n",
      "   macro avg       0.63      0.63      0.63      1500\n",
      "weighted avg       0.63      0.63      0.63      1500\n",
      "\n",
      "############# epoch 25 ############\n",
      "\n",
      "\n",
      "########## Train Data Accuracy ######### \n",
      "\n",
      "\n",
      "              precision    recall  f1-score   support\n",
      "\n",
      "           0       0.96      0.96      0.96      2000\n",
      "           1       0.86      0.86      0.86      2000\n",
      "           2       0.87      0.94      0.90      2000\n",
      "           3       0.86      0.77      0.81      2000\n",
      "           4       0.92      0.93      0.92      2000\n",
      "\n",
      "    accuracy                           0.89     10000\n",
      "   macro avg       0.89      0.89      0.89     10000\n",
      "weighted avg       0.89      0.89      0.89     10000\n",
      "\n"
     ]
    },
    {
     "data": {
      "image/png": "[encoded data removed]",
      "text/plain": [
       "<Figure size 432x288 with 4 Axes>"
      ]
     },
     "metadata": {
      "needs_background": "light"
     },
     "output_type": "display_data"
    },
    {
     "name": "stdout",
     "output_type": "stream",
     "text": [
      "\n",
      "\n",
      "########## Test Data Accuracy ######### \n",
      "\n",
      "\n",
      "              precision    recall  f1-score   support\n",
      "\n",
      "           0       0.80      0.80      0.80       100\n",
      "           1       0.70      0.58      0.63       100\n",
      "           2       0.68      0.90      0.78       100\n",
      "           3       0.51      0.42      0.46       100\n",
      "           4       0.81      0.83      0.82       100\n",
      "\n",
      "    accuracy                           0.71       500\n",
      "   macro avg       0.70      0.71      0.70       500\n",
      "weighted avg       0.70      0.71      0.70       500\n",
      "\n",
      "\n",
      "\n",
      "########## Valid Data Accuracy ######### \n",
      "\n",
      "\n",
      "              precision    recall  f1-score   support\n",
      "\n",
      "           0       0.80      0.80      0.80       300\n",
      "           1       0.49      0.55      0.52       300\n",
      "           2       0.65      0.73      0.69       300\n",
      "           3       0.43      0.37      0.40       300\n",
      "           4       0.79      0.73      0.76       300\n",
      "\n",
      "    accuracy                           0.64      1500\n",
      "   macro avg       0.63      0.64      0.63      1500\n",
      "weighted avg       0.63      0.64      0.63      1500\n",
      "\n",
      "############# epoch 26 ############\n",
      "\n",
      "\n",
      "########## Train Data Accuracy ######### \n",
      "\n",
      "\n",
      "              precision    recall  f1-score   support\n",
      "\n",
      "           0       0.96      0.96      0.96      2000\n",
      "           1       0.87      0.86      0.87      2000\n",
      "           2       0.88      0.94      0.91      2000\n",
      "           3       0.85      0.79      0.82      2000\n",
      "           4       0.91      0.93      0.92      2000\n",
      "\n",
      "    accuracy                           0.90     10000\n",
      "   macro avg       0.90      0.90      0.89     10000\n",
      "weighted avg       0.90      0.90      0.89     10000\n",
      "\n"
     ]
    },
    {
     "data": {
      "image/png": "[encoded data removed]",
      "text/plain": [
       "<Figure size 432x288 with 4 Axes>"
      ]
     },
     "metadata": {
      "needs_background": "light"
     },
     "output_type": "display_data"
    },
    {
     "name": "stdout",
     "output_type": "stream",
     "text": [
      "\n",
      "\n",
      "########## Test Data Accuracy ######### \n",
      "\n",
      "\n",
      "              precision    recall  f1-score   support\n",
      "\n",
      "           0       0.79      0.80      0.80       100\n",
      "           1       0.71      0.56      0.63       100\n",
      "           2       0.68      0.88      0.77       100\n",
      "           3       0.49      0.43      0.46       100\n",
      "           4       0.81      0.83      0.82       100\n",
      "\n",
      "    accuracy                           0.70       500\n",
      "   macro avg       0.70      0.70      0.69       500\n",
      "weighted avg       0.70      0.70      0.69       500\n",
      "\n",
      "\n",
      "\n",
      "########## Valid Data Accuracy ######### \n",
      "\n",
      "\n",
      "              precision    recall  f1-score   support\n",
      "\n",
      "           0       0.80      0.79      0.79       300\n",
      "           1       0.48      0.53      0.51       300\n",
      "           2       0.65      0.71      0.68       300\n",
      "           3       0.41      0.37      0.39       300\n",
      "           4       0.78      0.72      0.75       300\n",
      "\n",
      "    accuracy                           0.63      1500\n",
      "   macro avg       0.63      0.63      0.62      1500\n",
      "weighted avg       0.63      0.63      0.62      1500\n",
      "\n",
      "############# epoch 27 ############\n",
      "\n",
      "\n",
      "########## Train Data Accuracy ######### \n",
      "\n",
      "\n",
      "              precision    recall  f1-score   support\n",
      "\n",
      "           0       0.96      0.96      0.96      2000\n",
      "           1       0.87      0.86      0.87      2000\n",
      "           2       0.88      0.94      0.91      2000\n",
      "           3       0.85      0.79      0.82      2000\n",
      "           4       0.91      0.93      0.92      2000\n",
      "\n",
      "    accuracy                           0.90     10000\n",
      "   macro avg       0.90      0.90      0.90     10000\n",
      "weighted avg       0.90      0.90      0.90     10000\n",
      "\n"
     ]
    },
    {
     "data": {
      "image/png": "[encoded data removed]",
      "text/plain": [
       "<Figure size 432x288 with 4 Axes>"
      ]
     },
     "metadata": {
      "needs_background": "light"
     },
     "output_type": "display_data"
    },
    {
     "name": "stdout",
     "output_type": "stream",
     "text": [
      "\n",
      "\n",
      "########## Test Data Accuracy ######### \n",
      "\n",
      "\n",
      "              precision    recall  f1-score   support\n",
      "\n",
      "           0       0.80      0.80      0.80       100\n",
      "           1       0.71      0.56      0.63       100\n",
      "           2       0.68      0.89      0.77       100\n",
      "           3       0.49      0.43      0.46       100\n",
      "           4       0.81      0.83      0.82       100\n",
      "\n",
      "    accuracy                           0.70       500\n",
      "   macro avg       0.70      0.70      0.69       500\n",
      "weighted avg       0.70      0.70      0.69       500\n",
      "\n",
      "\n",
      "\n",
      "########## Valid Data Accuracy ######### \n",
      "\n",
      "\n",
      "              precision    recall  f1-score   support\n",
      "\n",
      "           0       0.80      0.79      0.79       300\n",
      "           1       0.49      0.53      0.51       300\n",
      "           2       0.65      0.71      0.68       300\n",
      "           3       0.41      0.38      0.39       300\n",
      "           4       0.78      0.72      0.75       300\n",
      "\n",
      "    accuracy                           0.62      1500\n",
      "   macro avg       0.63      0.62      0.62      1500\n",
      "weighted avg       0.63      0.62      0.62      1500\n",
      "\n",
      "############# epoch 28 ############\n",
      "\n",
      "\n",
      "########## Train Data Accuracy ######### \n",
      "\n",
      "\n",
      "              precision    recall  f1-score   support\n",
      "\n",
      "           0       0.96      0.96      0.96      2000\n",
      "           1       0.87      0.86      0.87      2000\n",
      "           2       0.88      0.94      0.91      2000\n",
      "           3       0.85      0.79      0.82      2000\n",
      "           4       0.91      0.93      0.92      2000\n",
      "\n",
      "    accuracy                           0.90     10000\n",
      "   macro avg       0.90      0.90      0.90     10000\n",
      "weighted avg       0.90      0.90      0.90     10000\n",
      "\n"
     ]
    },
    {
     "data": {
      "image/png": "[encoded data removed]",
      "text/plain": [
       "<Figure size 432x288 with 4 Axes>"
      ]
     },
     "metadata": {
      "needs_background": "light"
     },
     "output_type": "display_data"
    },
    {
     "name": "stdout",
     "output_type": "stream",
     "text": [
      "\n",
      "\n",
      "########## Test Data Accuracy ######### \n",
      "\n",
      "\n",
      "              precision    recall  f1-score   support\n",
      "\n",
      "           0       0.79      0.81      0.80       100\n",
      "           1       0.71      0.57      0.63       100\n",
      "           2       0.68      0.88      0.77       100\n",
      "           3       0.51      0.43      0.46       100\n",
      "           4       0.81      0.83      0.82       100\n",
      "\n",
      "    accuracy                           0.70       500\n",
      "   macro avg       0.70      0.70      0.70       500\n",
      "weighted avg       0.70      0.70      0.70       500\n",
      "\n",
      "\n",
      "\n",
      "########## Valid Data Accuracy ######### \n",
      "\n",
      "\n",
      "              precision    recall  f1-score   support\n",
      "\n",
      "           0       0.80      0.79      0.79       300\n",
      "           1       0.49      0.53      0.51       300\n",
      "           2       0.65      0.71      0.68       300\n",
      "           3       0.42      0.38      0.40       300\n",
      "           4       0.78      0.73      0.75       300\n",
      "\n",
      "    accuracy                           0.63      1500\n",
      "   macro avg       0.63      0.63      0.63      1500\n",
      "weighted avg       0.63      0.63      0.63      1500\n",
      "\n",
      "############# epoch 29 ############\n",
      "\n",
      "\n",
      "########## Train Data Accuracy ######### \n",
      "\n",
      "\n",
      "              precision    recall  f1-score   support\n",
      "\n",
      "           0       0.96      0.96      0.96      2000\n",
      "           1       0.86      0.87      0.86      2000\n",
      "           2       0.88      0.94      0.91      2000\n",
      "           3       0.86      0.78      0.82      2000\n",
      "           4       0.92      0.93      0.92      2000\n",
      "\n",
      "    accuracy                           0.90     10000\n",
      "   macro avg       0.90      0.90      0.89     10000\n",
      "weighted avg       0.90      0.90      0.89     10000\n",
      "\n"
     ]
    },
    {
     "data": {
      "image/png": "[encoded data removed]",
      "text/plain": [
       "<Figure size 432x288 with 4 Axes>"
      ]
     },
     "metadata": {
      "needs_background": "light"
     },
     "output_type": "display_data"
    },
    {
     "name": "stdout",
     "output_type": "stream",
     "text": [
      "\n",
      "\n",
      "########## Test Data Accuracy ######### \n",
      "\n",
      "\n",
      "              precision    recall  f1-score   support\n",
      "\n",
      "           0       0.80      0.80      0.80       100\n",
      "           1       0.70      0.58      0.63       100\n",
      "           2       0.68      0.89      0.77       100\n",
      "           3       0.50      0.42      0.46       100\n",
      "           4       0.81      0.83      0.82       100\n",
      "\n",
      "    accuracy                           0.70       500\n",
      "   macro avg       0.70      0.70      0.70       500\n",
      "weighted avg       0.70      0.70      0.70       500\n",
      "\n",
      "\n",
      "\n",
      "########## Valid Data Accuracy ######### \n",
      "\n",
      "\n",
      "              precision    recall  f1-score   support\n",
      "\n",
      "           0       0.80      0.79      0.79       300\n",
      "           1       0.48      0.53      0.51       300\n",
      "           2       0.65      0.71      0.68       300\n",
      "           3       0.42      0.38      0.40       300\n",
      "           4       0.79      0.72      0.75       300\n",
      "\n",
      "    accuracy                           0.63      1500\n",
      "   macro avg       0.63      0.63      0.63      1500\n",
      "weighted avg       0.63      0.63      0.63      1500\n",
      "\n",
      "############# epoch 30 ############\n",
      "\n",
      "\n",
      "########## Train Data Accuracy ######### \n",
      "\n",
      "\n",
      "              precision    recall  f1-score   support\n",
      "\n",
      "           0       0.96      0.96      0.96      2000\n",
      "           1       0.87      0.87      0.87      2000\n",
      "           2       0.88      0.94      0.91      2000\n",
      "           3       0.86      0.78      0.82      2000\n",
      "           4       0.92      0.93      0.92      2000\n",
      "\n",
      "    accuracy                           0.90     10000\n",
      "   macro avg       0.90      0.90      0.90     10000\n",
      "weighted avg       0.90      0.90      0.90     10000\n",
      "\n"
     ]
    },
    {
     "data": {
      "image/png": "[encoded data removed]",
      "text/plain": [
       "<Figure size 432x288 with 4 Axes>"
      ]
     },
     "metadata": {
      "needs_background": "light"
     },
     "output_type": "display_data"
    },
    {
     "name": "stdout",
     "output_type": "stream",
     "text": [
      "\n",
      "\n",
      "########## Test Data Accuracy ######### \n",
      "\n",
      "\n",
      "              precision    recall  f1-score   support\n",
      "\n",
      "           0       0.80      0.80      0.80       100\n",
      "           1       0.70      0.58      0.63       100\n",
      "           2       0.68      0.89      0.77       100\n",
      "           3       0.49      0.41      0.45       100\n",
      "           4       0.81      0.83      0.82       100\n",
      "\n",
      "    accuracy                           0.70       500\n",
      "   macro avg       0.70      0.70      0.69       500\n",
      "weighted avg       0.70      0.70      0.69       500\n",
      "\n",
      "\n",
      "\n",
      "########## Valid Data Accuracy ######### \n",
      "\n",
      "\n",
      "              precision    recall  f1-score   support\n",
      "\n",
      "           0       0.80      0.79      0.79       300\n",
      "           1       0.49      0.53      0.51       300\n",
      "           2       0.65      0.72      0.68       300\n",
      "           3       0.42      0.37      0.39       300\n",
      "           4       0.78      0.72      0.75       300\n",
      "\n",
      "    accuracy                           0.63      1500\n",
      "   macro avg       0.63      0.63      0.63      1500\n",
      "weighted avg       0.63      0.63      0.63      1500\n",
      "\n",
      "############# epoch 31 ############\n",
      "\n",
      "\n",
      "########## Train Data Accuracy ######### \n",
      "\n",
      "\n",
      "              precision    recall  f1-score   support\n",
      "\n",
      "           0       0.96      0.96      0.96      2000\n",
      "           1       0.87      0.86      0.87      2000\n",
      "           2       0.88      0.94      0.91      2000\n",
      "           3       0.85      0.79      0.82      2000\n",
      "           4       0.92      0.93      0.92      2000\n",
      "\n",
      "    accuracy                           0.90     10000\n",
      "   macro avg       0.90      0.90      0.90     10000\n",
      "weighted avg       0.90      0.90      0.90     10000\n",
      "\n"
     ]
    },
    {
     "data": {
      "image/png": "[encoded data removed]",
      "text/plain": [
       "<Figure size 432x288 with 4 Axes>"
      ]
     },
     "metadata": {
      "needs_background": "light"
     },
     "output_type": "display_data"
    },
    {
     "name": "stdout",
     "output_type": "stream",
     "text": [
      "\n",
      "\n",
      "########## Test Data Accuracy ######### \n",
      "\n",
      "\n",
      "              precision    recall  f1-score   support\n",
      "\n",
      "           0       0.79      0.80      0.80       100\n",
      "           1       0.71      0.56      0.63       100\n",
      "           2       0.68      0.88      0.77       100\n",
      "           3       0.49      0.43      0.46       100\n",
      "           4       0.81      0.83      0.82       100\n",
      "\n",
      "    accuracy                           0.70       500\n",
      "   macro avg       0.70      0.70      0.69       500\n",
      "weighted avg       0.70      0.70      0.69       500\n",
      "\n",
      "\n",
      "\n",
      "########## Valid Data Accuracy ######### \n",
      "\n",
      "\n",
      "              precision    recall  f1-score   support\n",
      "\n",
      "           0       0.80      0.79      0.79       300\n",
      "           1       0.48      0.52      0.50       300\n",
      "           2       0.66      0.71      0.69       300\n",
      "           3       0.41      0.38      0.39       300\n",
      "           4       0.79      0.72      0.75       300\n",
      "\n",
      "    accuracy                           0.63      1500\n",
      "   macro avg       0.63      0.63      0.63      1500\n",
      "weighted avg       0.63      0.63      0.63      1500\n",
      "\n",
      "############# epoch 32 ############\n",
      "\n",
      "\n",
      "########## Train Data Accuracy ######### \n",
      "\n",
      "\n",
      "              precision    recall  f1-score   support\n",
      "\n",
      "           0       0.96      0.96      0.96      2000\n",
      "           1       0.87      0.87      0.87      2000\n",
      "           2       0.88      0.94      0.91      2000\n",
      "           3       0.85      0.79      0.82      2000\n",
      "           4       0.92      0.93      0.92      2000\n",
      "\n",
      "    accuracy                           0.90     10000\n",
      "   macro avg       0.90      0.90      0.90     10000\n",
      "weighted avg       0.90      0.90      0.90     10000\n",
      "\n"
     ]
    },
    {
     "data": {
      "image/png": "[encoded data removed]",
      "text/plain": [
       "<Figure size 432x288 with 4 Axes>"
      ]
     },
     "metadata": {
      "needs_background": "light"
     },
     "output_type": "display_data"
    },
    {
     "name": "stdout",
     "output_type": "stream",
     "text": [
      "\n",
      "\n",
      "########## Test Data Accuracy ######### \n",
      "\n",
      "\n",
      "              precision    recall  f1-score   support\n",
      "\n",
      "           0       0.79      0.80      0.80       100\n",
      "           1       0.70      0.57      0.63       100\n",
      "           2       0.68      0.88      0.77       100\n",
      "           3       0.51      0.43      0.46       100\n",
      "           4       0.81      0.83      0.82       100\n",
      "\n",
      "    accuracy                           0.70       500\n",
      "   macro avg       0.70      0.70      0.69       500\n",
      "weighted avg       0.70      0.70      0.69       500\n",
      "\n",
      "\n",
      "\n",
      "########## Valid Data Accuracy ######### \n",
      "\n",
      "\n",
      "              precision    recall  f1-score   support\n",
      "\n",
      "           0       0.80      0.79      0.79       300\n",
      "           1       0.49      0.53      0.51       300\n",
      "           2       0.65      0.71      0.68       300\n",
      "           3       0.41      0.38      0.40       300\n",
      "           4       0.78      0.72      0.75       300\n",
      "\n",
      "    accuracy                           0.63      1500\n",
      "   macro avg       0.63      0.63      0.63      1500\n",
      "weighted avg       0.63      0.63      0.63      1500\n",
      "\n",
      "############# epoch 33 ############\n",
      "\n",
      "\n",
      "########## Train Data Accuracy ######### \n",
      "\n",
      "\n",
      "              precision    recall  f1-score   support\n",
      "\n",
      "           0       0.96      0.96      0.96      2000\n",
      "           1       0.87      0.87      0.87      2000\n",
      "           2       0.88      0.94      0.91      2000\n",
      "           3       0.86      0.79      0.82      2000\n",
      "           4       0.91      0.93      0.92      2000\n",
      "\n",
      "    accuracy                           0.90     10000\n",
      "   macro avg       0.90      0.90      0.90     10000\n",
      "weighted avg       0.90      0.90      0.90     10000\n",
      "\n"
     ]
    },
    {
     "data": {
      "image/png": "[encoded data removed]",
      "text/plain": [
       "<Figure size 432x288 with 4 Axes>"
      ]
     },
     "metadata": {
      "needs_background": "light"
     },
     "output_type": "display_data"
    },
    {
     "name": "stdout",
     "output_type": "stream",
     "text": [
      "\n",
      "\n",
      "########## Test Data Accuracy ######### \n",
      "\n",
      "\n",
      "              precision    recall  f1-score   support\n",
      "\n",
      "           0       0.79      0.80      0.80       100\n",
      "           1       0.70      0.57      0.63       100\n",
      "           2       0.68      0.88      0.77       100\n",
      "           3       0.51      0.43      0.46       100\n",
      "           4       0.81      0.83      0.82       100\n",
      "\n",
      "    accuracy                           0.70       500\n",
      "   macro avg       0.70      0.70      0.69       500\n",
      "weighted avg       0.70      0.70      0.69       500\n",
      "\n",
      "\n",
      "\n",
      "########## Valid Data Accuracy ######### \n",
      "\n",
      "\n",
      "              precision    recall  f1-score   support\n",
      "\n",
      "           0       0.80      0.79      0.79       300\n",
      "           1       0.49      0.53      0.51       300\n",
      "           2       0.65      0.71      0.68       300\n",
      "           3       0.41      0.38      0.39       300\n",
      "           4       0.78      0.72      0.75       300\n",
      "\n",
      "    accuracy                           0.62      1500\n",
      "   macro avg       0.63      0.62      0.62      1500\n",
      "weighted avg       0.63      0.62      0.62      1500\n",
      "\n",
      "############# epoch 34 ############\n",
      "\n",
      "\n",
      "########## Train Data Accuracy ######### \n",
      "\n",
      "\n",
      "              precision    recall  f1-score   support\n",
      "\n",
      "           0       0.96      0.96      0.96      2000\n",
      "           1       0.87      0.86      0.87      2000\n",
      "           2       0.88      0.94      0.91      2000\n",
      "           3       0.86      0.79      0.82      2000\n",
      "           4       0.92      0.93      0.92      2000\n",
      "\n",
      "    accuracy                           0.90     10000\n",
      "   macro avg       0.90      0.90      0.90     10000\n",
      "weighted avg       0.90      0.90      0.90     10000\n",
      "\n"
     ]
    },
    {
     "data": {
      "image/png": "[encoded data removed]",
      "text/plain": [
       "<Figure size 432x288 with 4 Axes>"
      ]
     },
     "metadata": {
      "needs_background": "light"
     },
     "output_type": "display_data"
    },
    {
     "name": "stdout",
     "output_type": "stream",
     "text": [
      "\n",
      "\n",
      "########## Test Data Accuracy ######### \n",
      "\n",
      "\n",
      "              precision    recall  f1-score   support\n",
      "\n",
      "           0       0.79      0.80      0.80       100\n",
      "           1       0.70      0.57      0.63       100\n",
      "           2       0.68      0.88      0.77       100\n",
      "           3       0.51      0.43      0.46       100\n",
      "           4       0.81      0.83      0.82       100\n",
      "\n",
      "    accuracy                           0.70       500\n",
      "   macro avg       0.70      0.70      0.69       500\n",
      "weighted avg       0.70      0.70      0.69       500\n",
      "\n",
      "\n",
      "\n",
      "########## Valid Data Accuracy ######### \n",
      "\n",
      "\n",
      "              precision    recall  f1-score   support\n",
      "\n",
      "           0       0.80      0.79      0.80       300\n",
      "           1       0.49      0.53      0.51       300\n",
      "           2       0.66      0.71      0.68       300\n",
      "           3       0.41      0.38      0.40       300\n",
      "           4       0.78      0.72      0.75       300\n",
      "\n",
      "    accuracy                           0.63      1500\n",
      "   macro avg       0.63      0.63      0.63      1500\n",
      "weighted avg       0.63      0.63      0.63      1500\n",
      "\n",
      "############# epoch 35 ############\n",
      "\n",
      "\n",
      "########## Train Data Accuracy ######### \n",
      "\n",
      "\n",
      "              precision    recall  f1-score   support\n",
      "\n",
      "           0       0.96      0.96      0.96      2000\n",
      "           1       0.87      0.86      0.87      2000\n",
      "           2       0.88      0.94      0.91      2000\n",
      "           3       0.86      0.80      0.82      2000\n",
      "           4       0.91      0.93      0.92      2000\n",
      "\n",
      "    accuracy                           0.90     10000\n",
      "   macro avg       0.90      0.90      0.90     10000\n",
      "weighted avg       0.90      0.90      0.90     10000\n",
      "\n"
     ]
    },
    {
     "data": {
      "image/png": "[encoded data removed]",
      "text/plain": [
       "<Figure size 432x288 with 4 Axes>"
      ]
     },
     "metadata": {
      "needs_background": "light"
     },
     "output_type": "display_data"
    },
    {
     "name": "stdout",
     "output_type": "stream",
     "text": [
      "\n",
      "\n",
      "########## Test Data Accuracy ######### \n",
      "\n",
      "\n",
      "              precision    recall  f1-score   support\n",
      "\n",
      "           0       0.79      0.80      0.80       100\n",
      "           1       0.71      0.57      0.63       100\n",
      "           2       0.68      0.88      0.77       100\n",
      "           3       0.50      0.43      0.46       100\n",
      "           4       0.81      0.83      0.82       100\n",
      "\n",
      "    accuracy                           0.70       500\n",
      "   macro avg       0.70      0.70      0.69       500\n",
      "weighted avg       0.70      0.70      0.69       500\n",
      "\n",
      "\n",
      "\n",
      "########## Valid Data Accuracy ######### \n",
      "\n",
      "\n",
      "              precision    recall  f1-score   support\n",
      "\n",
      "           0       0.80      0.79      0.79       300\n",
      "           1       0.49      0.53      0.51       300\n",
      "           2       0.65      0.71      0.68       300\n",
      "           3       0.41      0.38      0.40       300\n",
      "           4       0.78      0.72      0.75       300\n",
      "\n",
      "    accuracy                           0.63      1500\n",
      "   macro avg       0.63      0.63      0.63      1500\n",
      "weighted avg       0.63      0.63      0.63      1500\n",
      "\n",
      "############# epoch 36 ############\n",
      "\n",
      "\n",
      "########## Train Data Accuracy ######### \n",
      "\n",
      "\n",
      "              precision    recall  f1-score   support\n",
      "\n",
      "           0       0.96      0.96      0.96      2000\n",
      "           1       0.87      0.87      0.87      2000\n",
      "           2       0.88      0.94      0.91      2000\n",
      "           3       0.86      0.79      0.82      2000\n",
      "           4       0.92      0.93      0.92      2000\n",
      "\n",
      "    accuracy                           0.90     10000\n",
      "   macro avg       0.90      0.90      0.90     10000\n",
      "weighted avg       0.90      0.90      0.90     10000\n",
      "\n"
     ]
    },
    {
     "data": {
      "image/png": "[encoded data removed]",
      "text/plain": [
       "<Figure size 432x288 with 4 Axes>"
      ]
     },
     "metadata": {
      "needs_background": "light"
     },
     "output_type": "display_data"
    },
    {
     "name": "stdout",
     "output_type": "stream",
     "text": [
      "\n",
      "\n",
      "########## Test Data Accuracy ######### \n",
      "\n",
      "\n",
      "              precision    recall  f1-score   support\n",
      "\n",
      "           0       0.79      0.80      0.80       100\n",
      "           1       0.71      0.57      0.63       100\n",
      "           2       0.68      0.88      0.77       100\n",
      "           3       0.50      0.43      0.46       100\n",
      "           4       0.81      0.83      0.82       100\n",
      "\n",
      "    accuracy                           0.70       500\n",
      "   macro avg       0.70      0.70      0.69       500\n",
      "weighted avg       0.70      0.70      0.69       500\n",
      "\n",
      "\n",
      "\n",
      "########## Valid Data Accuracy ######### \n",
      "\n",
      "\n",
      "              precision    recall  f1-score   support\n",
      "\n",
      "           0       0.80      0.79      0.79       300\n",
      "           1       0.49      0.53      0.51       300\n",
      "           2       0.65      0.71      0.68       300\n",
      "           3       0.42      0.38      0.40       300\n",
      "           4       0.78      0.72      0.75       300\n",
      "\n",
      "    accuracy                           0.63      1500\n",
      "   macro avg       0.63      0.63      0.63      1500\n",
      "weighted avg       0.63      0.63      0.63      1500\n",
      "\n",
      "############# epoch 37 ############\n",
      "\n",
      "\n",
      "########## Train Data Accuracy ######### \n",
      "\n",
      "\n",
      "              precision    recall  f1-score   support\n",
      "\n",
      "           0       0.96      0.96      0.96      2000\n",
      "           1       0.87      0.87      0.87      2000\n",
      "           2       0.88      0.94      0.91      2000\n",
      "           3       0.86      0.79      0.82      2000\n",
      "           4       0.91      0.93      0.92      2000\n",
      "\n",
      "    accuracy                           0.90     10000\n",
      "   macro avg       0.90      0.90      0.90     10000\n",
      "weighted avg       0.90      0.90      0.90     10000\n",
      "\n"
     ]
    },
    {
     "data": {
      "image/png": "[encoded data removed]",
      "text/plain": [
       "<Figure size 432x288 with 4 Axes>"
      ]
     },
     "metadata": {
      "needs_background": "light"
     },
     "output_type": "display_data"
    },
    {
     "name": "stdout",
     "output_type": "stream",
     "text": [
      "\n",
      "\n",
      "########## Test Data Accuracy ######### \n",
      "\n",
      "\n",
      "              precision    recall  f1-score   support\n",
      "\n",
      "           0       0.79      0.80      0.80       100\n",
      "           1       0.71      0.57      0.63       100\n",
      "           2       0.68      0.88      0.77       100\n",
      "           3       0.50      0.43      0.46       100\n",
      "           4       0.81      0.83      0.82       100\n",
      "\n",
      "    accuracy                           0.70       500\n",
      "   macro avg       0.70      0.70      0.69       500\n",
      "weighted avg       0.70      0.70      0.69       500\n",
      "\n",
      "\n",
      "\n",
      "########## Valid Data Accuracy ######### \n",
      "\n",
      "\n",
      "              precision    recall  f1-score   support\n",
      "\n",
      "           0       0.80      0.79      0.79       300\n",
      "           1       0.49      0.53      0.51       300\n",
      "           2       0.65      0.71      0.68       300\n",
      "           3       0.41      0.38      0.40       300\n",
      "           4       0.78      0.72      0.75       300\n",
      "\n",
      "    accuracy                           0.62      1500\n",
      "   macro avg       0.63      0.62      0.62      1500\n",
      "weighted avg       0.63      0.62      0.62      1500\n",
      "\n",
      "############# epoch 38 ############\n",
      "\n",
      "\n",
      "########## Train Data Accuracy ######### \n",
      "\n",
      "\n",
      "              precision    recall  f1-score   support\n",
      "\n",
      "           0       0.96      0.96      0.96      2000\n",
      "           1       0.87      0.87      0.87      2000\n",
      "           2       0.88      0.94      0.91      2000\n",
      "           3       0.86      0.79      0.82      2000\n",
      "           4       0.92      0.93      0.92      2000\n",
      "\n",
      "    accuracy                           0.90     10000\n",
      "   macro avg       0.90      0.90      0.90     10000\n",
      "weighted avg       0.90      0.90      0.90     10000\n",
      "\n"
     ]
    },
    {
     "data": {
      "image/png": "[encoded data removed]",
      "text/plain": [
       "<Figure size 432x288 with 4 Axes>"
      ]
     },
     "metadata": {
      "needs_background": "light"
     },
     "output_type": "display_data"
    },
    {
     "name": "stdout",
     "output_type": "stream",
     "text": [
      "\n",
      "\n",
      "########## Test Data Accuracy ######### \n",
      "\n",
      "\n",
      "              precision    recall  f1-score   support\n",
      "\n",
      "           0       0.79      0.80      0.80       100\n",
      "           1       0.71      0.57      0.63       100\n",
      "           2       0.68      0.88      0.77       100\n",
      "           3       0.50      0.43      0.46       100\n",
      "           4       0.81      0.83      0.82       100\n",
      "\n",
      "    accuracy                           0.70       500\n",
      "   macro avg       0.70      0.70      0.69       500\n",
      "weighted avg       0.70      0.70      0.69       500\n",
      "\n",
      "\n",
      "\n",
      "########## Valid Data Accuracy ######### \n",
      "\n",
      "\n",
      "              precision    recall  f1-score   support\n",
      "\n",
      "           0       0.80      0.79      0.79       300\n",
      "           1       0.49      0.53      0.51       300\n",
      "           2       0.65      0.71      0.68       300\n",
      "           3       0.41      0.38      0.40       300\n",
      "           4       0.78      0.72      0.75       300\n",
      "\n",
      "    accuracy                           0.63      1500\n",
      "   macro avg       0.63      0.63      0.63      1500\n",
      "weighted avg       0.63      0.63      0.63      1500\n",
      "\n",
      "############# epoch 39 ############\n",
      "\n",
      "\n",
      "########## Train Data Accuracy ######### \n",
      "\n",
      "\n",
      "              precision    recall  f1-score   support\n",
      "\n",
      "           0       0.96      0.96      0.96      2000\n",
      "           1       0.87      0.87      0.87      2000\n",
      "           2       0.88      0.94      0.91      2000\n",
      "           3       0.86      0.79      0.82      2000\n",
      "           4       0.92      0.93      0.92      2000\n",
      "\n",
      "    accuracy                           0.90     10000\n",
      "   macro avg       0.90      0.90      0.90     10000\n",
      "weighted avg       0.90      0.90      0.90     10000\n",
      "\n"
     ]
    },
    {
     "data": {
      "image/png": "[encoded data removed]",
      "text/plain": [
       "<Figure size 432x288 with 4 Axes>"
      ]
     },
     "metadata": {
      "needs_background": "light"
     },
     "output_type": "display_data"
    },
    {
     "name": "stdout",
     "output_type": "stream",
     "text": [
      "\n",
      "\n",
      "########## Test Data Accuracy ######### \n",
      "\n",
      "\n",
      "              precision    recall  f1-score   support\n",
      "\n",
      "           0       0.79      0.80      0.80       100\n",
      "           1       0.71      0.57      0.63       100\n",
      "           2       0.68      0.88      0.77       100\n",
      "           3       0.50      0.43      0.46       100\n",
      "           4       0.81      0.83      0.82       100\n",
      "\n",
      "    accuracy                           0.70       500\n",
      "   macro avg       0.70      0.70      0.69       500\n",
      "weighted avg       0.70      0.70      0.69       500\n",
      "\n",
      "\n",
      "\n",
      "########## Valid Data Accuracy ######### \n",
      "\n",
      "\n",
      "              precision    recall  f1-score   support\n",
      "\n",
      "           0       0.80      0.79      0.79       300\n",
      "           1       0.49      0.53      0.51       300\n",
      "           2       0.65      0.71      0.68       300\n",
      "           3       0.41      0.38      0.40       300\n",
      "           4       0.78      0.72      0.75       300\n",
      "\n",
      "    accuracy                           0.62      1500\n",
      "   macro avg       0.63      0.62      0.62      1500\n",
      "weighted avg       0.63      0.62      0.62      1500\n",
      "\n",
      "############# epoch 40 ############\n",
      "\n",
      "\n",
      "########## Train Data Accuracy ######### \n",
      "\n",
      "\n",
      "              precision    recall  f1-score   support\n",
      "\n",
      "           0       0.96      0.96      0.96      2000\n",
      "           1       0.87      0.87      0.87      2000\n",
      "           2       0.88      0.94      0.91      2000\n",
      "           3       0.86      0.79      0.82      2000\n",
      "           4       0.92      0.93      0.92      2000\n",
      "\n",
      "    accuracy                           0.90     10000\n",
      "   macro avg       0.90      0.90      0.90     10000\n",
      "weighted avg       0.90      0.90      0.90     10000\n",
      "\n"
     ]
    },
    {
     "data": {
      "image/png": "[encoded data removed]",
      "text/plain": [
       "<Figure size 432x288 with 4 Axes>"
      ]
     },
     "metadata": {
      "needs_background": "light"
     },
     "output_type": "display_data"
    },
    {
     "name": "stdout",
     "output_type": "stream",
     "text": [
      "\n",
      "\n",
      "########## Test Data Accuracy ######### \n",
      "\n",
      "\n",
      "              precision    recall  f1-score   support\n",
      "\n",
      "           0       0.79      0.80      0.80       100\n",
      "           1       0.71      0.57      0.63       100\n",
      "           2       0.68      0.88      0.77       100\n",
      "           3       0.50      0.43      0.46       100\n",
      "           4       0.81      0.83      0.82       100\n",
      "\n",
      "    accuracy                           0.70       500\n",
      "   macro avg       0.70      0.70      0.69       500\n",
      "weighted avg       0.70      0.70      0.69       500\n",
      "\n",
      "\n",
      "\n",
      "########## Valid Data Accuracy ######### \n",
      "\n",
      "\n",
      "              precision    recall  f1-score   support\n",
      "\n",
      "           0       0.80      0.79      0.79       300\n",
      "           1       0.49      0.53      0.51       300\n",
      "           2       0.65      0.71      0.68       300\n",
      "           3       0.41      0.38      0.40       300\n",
      "           4       0.78      0.72      0.75       300\n",
      "\n",
      "    accuracy                           0.63      1500\n",
      "   macro avg       0.63      0.63      0.63      1500\n",
      "weighted avg       0.63      0.63      0.63      1500\n",
      "\n",
      "############# epoch 41 ############\n",
      "\n",
      "\n",
      "########## Train Data Accuracy ######### \n",
      "\n",
      "\n",
      "              precision    recall  f1-score   support\n",
      "\n",
      "           0       0.96      0.96      0.96      2000\n",
      "           1       0.87      0.87      0.87      2000\n",
      "           2       0.88      0.94      0.91      2000\n",
      "           3       0.86      0.79      0.82      2000\n",
      "           4       0.92      0.93      0.92      2000\n",
      "\n",
      "    accuracy                           0.90     10000\n",
      "   macro avg       0.90      0.90      0.90     10000\n",
      "weighted avg       0.90      0.90      0.90     10000\n",
      "\n"
     ]
    },
    {
     "data": {
      "image/png": "[encoded data removed]",
      "text/plain": [
       "<Figure size 432x288 with 4 Axes>"
      ]
     },
     "metadata": {
      "needs_background": "light"
     },
     "output_type": "display_data"
    },
    {
     "name": "stdout",
     "output_type": "stream",
     "text": [
      "\n",
      "\n",
      "########## Test Data Accuracy ######### \n",
      "\n",
      "\n",
      "              precision    recall  f1-score   support\n",
      "\n",
      "           0       0.79      0.80      0.80       100\n",
      "           1       0.71      0.57      0.63       100\n",
      "           2       0.68      0.88      0.77       100\n",
      "           3       0.50      0.43      0.46       100\n",
      "           4       0.81      0.83      0.82       100\n",
      "\n",
      "    accuracy                           0.70       500\n",
      "   macro avg       0.70      0.70      0.69       500\n",
      "weighted avg       0.70      0.70      0.69       500\n",
      "\n",
      "\n",
      "\n",
      "########## Valid Data Accuracy ######### \n",
      "\n",
      "\n",
      "              precision    recall  f1-score   support\n",
      "\n",
      "           0       0.80      0.79      0.79       300\n",
      "           1       0.49      0.53      0.51       300\n",
      "           2       0.65      0.71      0.68       300\n",
      "           3       0.41      0.38      0.40       300\n",
      "           4       0.78      0.72      0.75       300\n",
      "\n",
      "    accuracy                           0.63      1500\n",
      "   macro avg       0.63      0.63      0.63      1500\n",
      "weighted avg       0.63      0.63      0.63      1500\n",
      "\n",
      "############# epoch 42 ############\n",
      "\n",
      "\n",
      "########## Train Data Accuracy ######### \n",
      "\n",
      "\n",
      "              precision    recall  f1-score   support\n",
      "\n",
      "           0       0.96      0.96      0.96      2000\n",
      "           1       0.87      0.87      0.87      2000\n",
      "           2       0.88      0.94      0.91      2000\n",
      "           3       0.86      0.79      0.82      2000\n",
      "           4       0.92      0.93      0.92      2000\n",
      "\n",
      "    accuracy                           0.90     10000\n",
      "   macro avg       0.90      0.90      0.90     10000\n",
      "weighted avg       0.90      0.90      0.90     10000\n",
      "\n"
     ]
    },
    {
     "data": {
      "image/png": "[encoded data removed]",
      "text/plain": [
       "<Figure size 432x288 with 4 Axes>"
      ]
     },
     "metadata": {
      "needs_background": "light"
     },
     "output_type": "display_data"
    },
    {
     "name": "stdout",
     "output_type": "stream",
     "text": [
      "\n",
      "\n",
      "########## Test Data Accuracy ######### \n",
      "\n",
      "\n",
      "              precision    recall  f1-score   support\n",
      "\n",
      "           0       0.79      0.80      0.80       100\n",
      "           1       0.71      0.57      0.63       100\n",
      "           2       0.68      0.88      0.77       100\n",
      "           3       0.50      0.43      0.46       100\n",
      "           4       0.81      0.83      0.82       100\n",
      "\n",
      "    accuracy                           0.70       500\n",
      "   macro avg       0.70      0.70      0.69       500\n",
      "weighted avg       0.70      0.70      0.69       500\n",
      "\n",
      "\n",
      "\n",
      "########## Valid Data Accuracy ######### \n",
      "\n",
      "\n",
      "              precision    recall  f1-score   support\n",
      "\n",
      "           0       0.80      0.79      0.79       300\n",
      "           1       0.49      0.53      0.51       300\n",
      "           2       0.65      0.71      0.68       300\n",
      "           3       0.41      0.38      0.40       300\n",
      "           4       0.78      0.72      0.75       300\n",
      "\n",
      "    accuracy                           0.63      1500\n",
      "   macro avg       0.63      0.63      0.63      1500\n",
      "weighted avg       0.63      0.63      0.63      1500\n",
      "\n",
      "############# epoch 43 ############\n",
      "\n",
      "\n",
      "########## Train Data Accuracy ######### \n",
      "\n",
      "\n",
      "              precision    recall  f1-score   support\n",
      "\n",
      "           0       0.96      0.96      0.96      2000\n",
      "           1       0.87      0.87      0.87      2000\n",
      "           2       0.88      0.94      0.91      2000\n",
      "           3       0.86      0.79      0.82      2000\n",
      "           4       0.92      0.93      0.92      2000\n",
      "\n",
      "    accuracy                           0.90     10000\n",
      "   macro avg       0.90      0.90      0.90     10000\n",
      "weighted avg       0.90      0.90      0.90     10000\n",
      "\n"
     ]
    },
    {
     "data": {
      "image/png": "[encoded data removed]",
      "text/plain": [
       "<Figure size 432x288 with 4 Axes>"
      ]
     },
     "metadata": {
      "needs_background": "light"
     },
     "output_type": "display_data"
    },
    {
     "name": "stdout",
     "output_type": "stream",
     "text": [
      "\n",
      "\n",
      "########## Test Data Accuracy ######### \n",
      "\n",
      "\n",
      "              precision    recall  f1-score   support\n",
      "\n",
      "           0       0.79      0.80      0.80       100\n",
      "           1       0.71      0.57      0.63       100\n",
      "           2       0.68      0.88      0.77       100\n",
      "           3       0.50      0.43      0.46       100\n",
      "           4       0.81      0.83      0.82       100\n",
      "\n",
      "    accuracy                           0.70       500\n",
      "   macro avg       0.70      0.70      0.69       500\n",
      "weighted avg       0.70      0.70      0.69       500\n",
      "\n",
      "\n",
      "\n",
      "########## Valid Data Accuracy ######### \n",
      "\n",
      "\n",
      "              precision    recall  f1-score   support\n",
      "\n",
      "           0       0.80      0.79      0.79       300\n",
      "           1       0.49      0.53      0.51       300\n",
      "           2       0.65      0.71      0.68       300\n",
      "           3       0.41      0.38      0.40       300\n",
      "           4       0.79      0.72      0.75       300\n",
      "\n",
      "    accuracy                           0.63      1500\n",
      "   macro avg       0.63      0.63      0.63      1500\n",
      "weighted avg       0.63      0.63      0.63      1500\n",
      "\n",
      "############# epoch 44 ############\n",
      "\n",
      "\n",
      "########## Train Data Accuracy ######### \n",
      "\n",
      "\n",
      "              precision    recall  f1-score   support\n",
      "\n",
      "           0       0.96      0.96      0.96      2000\n",
      "           1       0.87      0.87      0.87      2000\n",
      "           2       0.88      0.94      0.91      2000\n",
      "           3       0.86      0.79      0.82      2000\n",
      "           4       0.92      0.93      0.92      2000\n",
      "\n",
      "    accuracy                           0.90     10000\n",
      "   macro avg       0.90      0.90      0.90     10000\n",
      "weighted avg       0.90      0.90      0.90     10000\n",
      "\n"
     ]
    },
    {
     "data": {
      "image/png": "[encoded data removed]",
      "text/plain": [
       "<Figure size 432x288 with 4 Axes>"
      ]
     },
     "metadata": {
      "needs_background": "light"
     },
     "output_type": "display_data"
    },
    {
     "name": "stdout",
     "output_type": "stream",
     "text": [
      "\n",
      "\n",
      "########## Test Data Accuracy ######### \n",
      "\n",
      "\n",
      "              precision    recall  f1-score   support\n",
      "\n",
      "           0       0.79      0.80      0.80       100\n",
      "           1       0.71      0.57      0.63       100\n",
      "           2       0.68      0.88      0.77       100\n",
      "           3       0.50      0.43      0.46       100\n",
      "           4       0.81      0.83      0.82       100\n",
      "\n",
      "    accuracy                           0.70       500\n",
      "   macro avg       0.70      0.70      0.69       500\n",
      "weighted avg       0.70      0.70      0.69       500\n",
      "\n",
      "\n",
      "\n",
      "########## Valid Data Accuracy ######### \n",
      "\n",
      "\n",
      "              precision    recall  f1-score   support\n",
      "\n",
      "           0       0.80      0.79      0.79       300\n",
      "           1       0.49      0.53      0.51       300\n",
      "           2       0.65      0.71      0.68       300\n",
      "           3       0.41      0.38      0.40       300\n",
      "           4       0.79      0.72      0.75       300\n",
      "\n",
      "    accuracy                           0.63      1500\n",
      "   macro avg       0.63      0.63      0.63      1500\n",
      "weighted avg       0.63      0.63      0.63      1500\n",
      "\n",
      "############# epoch 45 ############\n",
      "\n",
      "\n",
      "########## Train Data Accuracy ######### \n",
      "\n",
      "\n",
      "              precision    recall  f1-score   support\n",
      "\n",
      "           0       0.96      0.96      0.96      2000\n",
      "           1       0.87      0.87      0.87      2000\n",
      "           2       0.88      0.94      0.91      2000\n",
      "           3       0.86      0.79      0.82      2000\n",
      "           4       0.92      0.93      0.92      2000\n",
      "\n",
      "    accuracy                           0.90     10000\n",
      "   macro avg       0.90      0.90      0.90     10000\n",
      "weighted avg       0.90      0.90      0.90     10000\n",
      "\n"
     ]
    },
    {
     "data": {
      "image/png": "[encoded data removed]",
      "text/plain": [
       "<Figure size 432x288 with 4 Axes>"
      ]
     },
     "metadata": {
      "needs_background": "light"
     },
     "output_type": "display_data"
    },
    {
     "name": "stdout",
     "output_type": "stream",
     "text": [
      "\n",
      "\n",
      "########## Test Data Accuracy ######### \n",
      "\n",
      "\n",
      "              precision    recall  f1-score   support\n",
      "\n",
      "           0       0.79      0.80      0.80       100\n",
      "           1       0.71      0.57      0.63       100\n",
      "           2       0.68      0.88      0.77       100\n",
      "           3       0.50      0.43      0.46       100\n",
      "           4       0.81      0.83      0.82       100\n",
      "\n",
      "    accuracy                           0.70       500\n",
      "   macro avg       0.70      0.70      0.69       500\n",
      "weighted avg       0.70      0.70      0.69       500\n",
      "\n",
      "\n",
      "\n",
      "########## Valid Data Accuracy ######### \n",
      "\n",
      "\n",
      "              precision    recall  f1-score   support\n",
      "\n",
      "           0       0.80      0.79      0.79       300\n",
      "           1       0.49      0.53      0.51       300\n",
      "           2       0.65      0.71      0.68       300\n",
      "           3       0.41      0.38      0.40       300\n",
      "           4       0.79      0.72      0.75       300\n",
      "\n",
      "    accuracy                           0.63      1500\n",
      "   macro avg       0.63      0.63      0.63      1500\n",
      "weighted avg       0.63      0.63      0.63      1500\n",
      "\n",
      "############# epoch 46 ############\n",
      "\n",
      "\n",
      "########## Train Data Accuracy ######### \n",
      "\n",
      "\n",
      "              precision    recall  f1-score   support\n",
      "\n",
      "           0       0.96      0.96      0.96      2000\n",
      "           1       0.87      0.87      0.87      2000\n",
      "           2       0.88      0.94      0.91      2000\n",
      "           3       0.86      0.79      0.82      2000\n",
      "           4       0.92      0.93      0.92      2000\n",
      "\n",
      "    accuracy                           0.90     10000\n",
      "   macro avg       0.90      0.90      0.90     10000\n",
      "weighted avg       0.90      0.90      0.90     10000\n",
      "\n"
     ]
    },
    {
     "data": {
      "image/png": "[encoded data removed]",
      "text/plain": [
       "<Figure size 432x288 with 4 Axes>"
      ]
     },
     "metadata": {
      "needs_background": "light"
     },
     "output_type": "display_data"
    },
    {
     "name": "stdout",
     "output_type": "stream",
     "text": [
      "\n",
      "\n",
      "########## Test Data Accuracy ######### \n",
      "\n",
      "\n",
      "              precision    recall  f1-score   support\n",
      "\n",
      "           0       0.79      0.80      0.80       100\n",
      "           1       0.71      0.57      0.63       100\n",
      "           2       0.68      0.88      0.77       100\n",
      "           3       0.50      0.43      0.46       100\n",
      "           4       0.81      0.83      0.82       100\n",
      "\n",
      "    accuracy                           0.70       500\n",
      "   macro avg       0.70      0.70      0.69       500\n",
      "weighted avg       0.70      0.70      0.69       500\n",
      "\n",
      "\n",
      "\n",
      "########## Valid Data Accuracy ######### \n",
      "\n",
      "\n",
      "              precision    recall  f1-score   support\n",
      "\n",
      "           0       0.80      0.79      0.79       300\n",
      "           1       0.49      0.53      0.51       300\n",
      "           2       0.65      0.71      0.68       300\n",
      "           3       0.41      0.38      0.40       300\n",
      "           4       0.79      0.72      0.75       300\n",
      "\n",
      "    accuracy                           0.63      1500\n",
      "   macro avg       0.63      0.63      0.63      1500\n",
      "weighted avg       0.63      0.63      0.63      1500\n",
      "\n",
      "############# epoch 47 ############\n",
      "\n",
      "\n",
      "########## Train Data Accuracy ######### \n",
      "\n",
      "\n",
      "              precision    recall  f1-score   support\n",
      "\n",
      "           0       0.96      0.96      0.96      2000\n",
      "           1       0.87      0.87      0.87      2000\n",
      "           2       0.88      0.94      0.91      2000\n",
      "           3       0.86      0.79      0.82      2000\n",
      "           4       0.92      0.93      0.92      2000\n",
      "\n",
      "    accuracy                           0.90     10000\n",
      "   macro avg       0.90      0.90      0.90     10000\n",
      "weighted avg       0.90      0.90      0.90     10000\n",
      "\n"
     ]
    },
    {
     "data": {
      "image/png": "[encoded data removed]",
      "text/plain": [
       "<Figure size 432x288 with 4 Axes>"
      ]
     },
     "metadata": {
      "needs_background": "light"
     },
     "output_type": "display_data"
    },
    {
     "name": "stdout",
     "output_type": "stream",
     "text": [
      "\n",
      "\n",
      "########## Test Data Accuracy ######### \n",
      "\n",
      "\n",
      "              precision    recall  f1-score   support\n",
      "\n",
      "           0       0.79      0.80      0.80       100\n",
      "           1       0.71      0.57      0.63       100\n",
      "           2       0.68      0.88      0.77       100\n",
      "           3       0.50      0.43      0.46       100\n",
      "           4       0.81      0.83      0.82       100\n",
      "\n",
      "    accuracy                           0.70       500\n",
      "   macro avg       0.70      0.70      0.69       500\n",
      "weighted avg       0.70      0.70      0.69       500\n",
      "\n",
      "\n",
      "\n",
      "########## Valid Data Accuracy ######### \n",
      "\n",
      "\n",
      "              precision    recall  f1-score   support\n",
      "\n",
      "           0       0.80      0.79      0.79       300\n",
      "           1       0.49      0.53      0.51       300\n",
      "           2       0.65      0.71      0.68       300\n",
      "           3       0.41      0.38      0.40       300\n",
      "           4       0.79      0.72      0.75       300\n",
      "\n",
      "    accuracy                           0.63      1500\n",
      "   macro avg       0.63      0.63      0.63      1500\n",
      "weighted avg       0.63      0.63      0.63      1500\n",
      "\n",
      "############# epoch 48 ############\n",
      "\n",
      "\n",
      "########## Train Data Accuracy ######### \n",
      "\n",
      "\n",
      "              precision    recall  f1-score   support\n",
      "\n",
      "           0       0.96      0.96      0.96      2000\n",
      "           1       0.87      0.87      0.87      2000\n",
      "           2       0.88      0.94      0.91      2000\n",
      "           3       0.86      0.79      0.82      2000\n",
      "           4       0.92      0.93      0.92      2000\n",
      "\n",
      "    accuracy                           0.90     10000\n",
      "   macro avg       0.90      0.90      0.90     10000\n",
      "weighted avg       0.90      0.90      0.90     10000\n",
      "\n"
     ]
    },
    {
     "data": {
      "image/png": "[encoded data removed]",
      "text/plain": [
       "<Figure size 432x288 with 4 Axes>"
      ]
     },
     "metadata": {
      "needs_background": "light"
     },
     "output_type": "display_data"
    },
    {
     "name": "stdout",
     "output_type": "stream",
     "text": [
      "\n",
      "\n",
      "########## Test Data Accuracy ######### \n",
      "\n",
      "\n",
      "              precision    recall  f1-score   support\n",
      "\n",
      "           0       0.79      0.80      0.80       100\n",
      "           1       0.71      0.57      0.63       100\n",
      "           2       0.68      0.88      0.77       100\n",
      "           3       0.50      0.43      0.46       100\n",
      "           4       0.81      0.83      0.82       100\n",
      "\n",
      "    accuracy                           0.70       500\n",
      "   macro avg       0.70      0.70      0.69       500\n",
      "weighted avg       0.70      0.70      0.69       500\n",
      "\n",
      "\n",
      "\n",
      "########## Valid Data Accuracy ######### \n",
      "\n",
      "\n",
      "              precision    recall  f1-score   support\n",
      "\n",
      "           0       0.80      0.79      0.79       300\n",
      "           1       0.49      0.53      0.51       300\n",
      "           2       0.65      0.71      0.68       300\n",
      "           3       0.41      0.38      0.40       300\n",
      "           4       0.79      0.72      0.75       300\n",
      "\n",
      "    accuracy                           0.63      1500\n",
      "   macro avg       0.63      0.63      0.63      1500\n",
      "weighted avg       0.63      0.63      0.63      1500\n",
      "\n",
      "############# epoch 49 ############\n",
      "\n",
      "\n",
      "########## Train Data Accuracy ######### \n",
      "\n",
      "\n",
      "              precision    recall  f1-score   support\n",
      "\n",
      "           0       0.96      0.96      0.96      2000\n",
      "           1       0.87      0.87      0.87      2000\n",
      "           2       0.88      0.94      0.91      2000\n",
      "           3       0.86      0.79      0.82      2000\n",
      "           4       0.92      0.93      0.92      2000\n",
      "\n",
      "    accuracy                           0.90     10000\n",
      "   macro avg       0.90      0.90      0.90     10000\n",
      "weighted avg       0.90      0.90      0.90     10000\n",
      "\n"
     ]
    },
    {
     "data": {
      "image/png": "[encoded data removed]",
      "text/plain": [
       "<Figure size 432x288 with 4 Axes>"
      ]
     },
     "metadata": {
      "needs_background": "light"
     },
     "output_type": "display_data"
    },
    {
     "name": "stdout",
     "output_type": "stream",
     "text": [
      "\n",
      "\n",
      "########## Test Data Accuracy ######### \n",
      "\n",
      "\n",
      "              precision    recall  f1-score   support\n",
      "\n",
      "           0       0.79      0.80      0.80       100\n",
      "           1       0.71      0.57      0.63       100\n",
      "           2       0.68      0.88      0.77       100\n",
      "           3       0.50      0.43      0.46       100\n",
      "           4       0.81      0.83      0.82       100\n",
      "\n",
      "    accuracy                           0.70       500\n",
      "   macro avg       0.70      0.70      0.69       500\n",
      "weighted avg       0.70      0.70      0.69       500\n",
      "\n",
      "\n",
      "\n",
      "########## Valid Data Accuracy ######### \n",
      "\n",
      "\n",
      "              precision    recall  f1-score   support\n",
      "\n",
      "           0       0.80      0.79      0.79       300\n",
      "           1       0.49      0.53      0.51       300\n",
      "           2       0.65      0.71      0.68       300\n",
      "           3       0.41      0.38      0.40       300\n",
      "           4       0.79      0.72      0.75       300\n",
      "\n",
      "    accuracy                           0.63      1500\n",
      "   macro avg       0.63      0.63      0.63      1500\n",
      "weighted avg       0.63      0.63      0.63      1500\n",
      "\n",
      "############# epoch 50 ############\n",
      "\n",
      "\n",
      "########## Train Data Accuracy ######### \n",
      "\n",
      "\n",
      "              precision    recall  f1-score   support\n",
      "\n",
      "           0       0.96      0.96      0.96      2000\n",
      "           1       0.87      0.87      0.87      2000\n",
      "           2       0.88      0.94      0.91      2000\n",
      "           3       0.86      0.79      0.82      2000\n",
      "           4       0.92      0.93      0.92      2000\n",
      "\n",
      "    accuracy                           0.90     10000\n",
      "   macro avg       0.90      0.90      0.90     10000\n",
      "weighted avg       0.90      0.90      0.90     10000\n",
      "\n"
     ]
    },
    {
     "data": {
      "image/png": "[encoded data removed]",
      "text/plain": [
       "<Figure size 432x288 with 4 Axes>"
      ]
     },
     "metadata": {
      "needs_background": "light"
     },
     "output_type": "display_data"
    },
    {
     "name": "stdout",
     "output_type": "stream",
     "text": [
      "\n",
      "\n",
      "########## Test Data Accuracy ######### \n",
      "\n",
      "\n",
      "              precision    recall  f1-score   support\n",
      "\n",
      "           0       0.79      0.80      0.80       100\n",
      "           1       0.71      0.57      0.63       100\n",
      "           2       0.68      0.88      0.77       100\n",
      "           3       0.50      0.43      0.46       100\n",
      "           4       0.81      0.83      0.82       100\n",
      "\n",
      "    accuracy                           0.70       500\n",
      "   macro avg       0.70      0.70      0.69       500\n",
      "weighted avg       0.70      0.70      0.69       500\n",
      "\n",
      "\n",
      "\n",
      "########## Valid Data Accuracy ######### \n",
      "\n",
      "\n",
      "              precision    recall  f1-score   support\n",
      "\n",
      "           0       0.80      0.79      0.79       300\n",
      "           1       0.49      0.53      0.51       300\n",
      "           2       0.65      0.71      0.68       300\n",
      "           3       0.41      0.38      0.40       300\n",
      "           4       0.79      0.72      0.75       300\n",
      "\n",
      "    accuracy                           0.63      1500\n",
      "   macro avg       0.63      0.63      0.63      1500\n",
      "weighted avg       0.63      0.63      0.63      1500\n",
      "\n"
     ]
    },
    {
     "data": {
      "image/png": "[encoded data removed]",
      "text/plain": [
       "<Figure size 432x288 with 3 Axes>"
      ]
     },
     "metadata": {
      "needs_background": "light"
     },
     "output_type": "display_data"
    }
   ],
   "source": [
    "test_acc,train_acc,valid_acc= [],[],[]\n",
    "for epoch in range(epochs):\n",
    "    print(\"############# epoch {} ############\".format(epoch+1))\n",
    "    \n",
    "    train_acc_score, test_acc_score,valid_acc_score = accuracy(train_loader,test_loader,valid_loader,models[epoch]['model'],reshape=False)\n",
    "    train_acc.append(train_acc_score)\n",
    "    test_acc.append(test_acc_score)\n",
    "    valid_acc.append(valid_acc_score)\n",
    "\n",
    "\n",
    "    "
   ]
  },
  {
   "cell_type": "code",
   "execution_count": null,
   "id": "62f4409c",
   "metadata": {},
   "outputs": [],
   "source": []
  },
  {
   "cell_type": "code",
   "execution_count": 114,
   "id": "023d7984",
   "metadata": {},
   "outputs": [
    {
     "data": {
      "text/plain": [
       "[<matplotlib.lines.Line2D at 0x2b82b0580>]"
      ]
     },
     "execution_count": 114,
     "metadata": {},
     "output_type": "execute_result"
    },
    {
     "data": {
      "image/png": "[encoded data removed]",
      "text/plain": [
       "<Figure size 1080x1440 with 1 Axes>"
      ]
     },
     "metadata": {
      "needs_background": "light"
     },
     "output_type": "display_data"
    }
   ],
   "source": [
    "fig = plt.figure(figsize=(15,20))\n",
    "plt.plot(range(epochs),train_acc,'-r')\n",
    "plt.plot(range(epochs),test_acc,'-g')\n",
    "plt.plot(range(epochs),valid_acc,'-y')"
   ]
  },
  {
   "cell_type": "code",
   "execution_count": 115,
   "id": "a1e1aa42",
   "metadata": {},
   "outputs": [
    {
     "name": "stdout",
     "output_type": "stream",
     "text": [
      "Epoch: 0\n",
      "     Validation Accracy: 0.332\n",
      "     test Accracy: 0.374\n",
      "     train Accracy: 0.3458\n",
      "Epoch: 1\n",
      "     Validation Accracy: 0.536\n",
      "     test Accracy: 0.584\n",
      "     train Accracy: 0.5725\n",
      "Epoch: 2\n",
      "     Validation Accracy: 0.5466666666666666\n",
      "     test Accracy: 0.638\n",
      "     train Accracy: 0.6036\n",
      "Epoch: 3\n",
      "     Validation Accracy: 0.5313333333333333\n",
      "     test Accracy: 0.606\n",
      "     train Accracy: 0.5915\n",
      "Epoch: 4\n",
      "     Validation Accracy: 0.598\n",
      "     test Accracy: 0.664\n",
      "     train Accracy: 0.6725\n",
      "Epoch: 5\n",
      "     Validation Accracy: 0.586\n",
      "     test Accracy: 0.646\n",
      "     train Accracy: 0.6532\n",
      "Epoch: 6\n",
      "     Validation Accracy: 0.62\n",
      "     test Accracy: 0.636\n",
      "     train Accracy: 0.6798\n",
      "Epoch: 7\n",
      "     Validation Accracy: 0.6406666666666667\n",
      "     test Accracy: 0.682\n",
      "     train Accracy: 0.738\n",
      "Epoch: 8\n",
      "     Validation Accracy: 0.6406666666666667\n",
      "     test Accracy: 0.698\n",
      "     train Accracy: 0.7486\n",
      "Epoch: 9\n",
      "     Validation Accracy: 0.648\n",
      "     test Accracy: 0.704\n",
      "     train Accracy: 0.7546\n",
      "Epoch: 10\n",
      "     Validation Accracy: 0.642\n",
      "     test Accracy: 0.686\n",
      "     train Accracy: 0.7545\n",
      "Epoch: 11\n",
      "     Validation Accracy: 0.6433333333333333\n",
      "     test Accracy: 0.702\n",
      "     train Accracy: 0.7945\n",
      "Epoch: 12\n",
      "     Validation Accracy: 0.65\n",
      "     test Accracy: 0.708\n",
      "     train Accracy: 0.803\n",
      "Epoch: 13\n",
      "     Validation Accracy: 0.6306666666666667\n",
      "     test Accracy: 0.694\n",
      "     train Accracy: 0.8229\n",
      "Epoch: 14\n",
      "     Validation Accracy: 0.6433333333333333\n",
      "     test Accracy: 0.706\n",
      "     train Accracy: 0.8425\n",
      "Epoch: 15\n",
      "     Validation Accracy: 0.638\n",
      "     test Accracy: 0.72\n",
      "     train Accracy: 0.8487\n",
      "Epoch: 16\n",
      "     Validation Accracy: 0.6373333333333333\n",
      "     test Accracy: 0.704\n",
      "     train Accracy: 0.8529\n",
      "Epoch: 17\n",
      "     Validation Accracy: 0.6333333333333333\n",
      "     test Accracy: 0.704\n",
      "     train Accracy: 0.863\n",
      "Epoch: 18\n",
      "     Validation Accracy: 0.6326666666666667\n",
      "     test Accracy: 0.7\n",
      "     train Accracy: 0.8766\n",
      "Epoch: 19\n",
      "     Validation Accracy: 0.634\n",
      "     test Accracy: 0.706\n",
      "     train Accracy: 0.8802\n",
      "Epoch: 20\n",
      "     Validation Accracy: 0.6313333333333333\n",
      "     test Accracy: 0.706\n",
      "     train Accracy: 0.8826\n",
      "Epoch: 21\n",
      "     Validation Accracy: 0.6346666666666667\n",
      "     test Accracy: 0.712\n",
      "     train Accracy: 0.8857\n",
      "Epoch: 22\n",
      "     Validation Accracy: 0.6313333333333333\n",
      "     test Accracy: 0.71\n",
      "     train Accracy: 0.8901\n",
      "Epoch: 23\n",
      "     Validation Accracy: 0.6273333333333333\n",
      "     test Accracy: 0.706\n",
      "     train Accracy: 0.8918\n",
      "Epoch: 24\n",
      "     Validation Accracy: 0.6353333333333333\n",
      "     test Accracy: 0.706\n",
      "     train Accracy: 0.8928\n",
      "Epoch: 25\n",
      "     Validation Accracy: 0.6253333333333333\n",
      "     test Accracy: 0.7\n",
      "     train Accracy: 0.8955\n",
      "Epoch: 26\n",
      "     Validation Accracy: 0.6246666666666667\n",
      "     test Accracy: 0.702\n",
      "     train Accracy: 0.8962\n",
      "Epoch: 27\n",
      "     Validation Accracy: 0.6266666666666667\n",
      "     test Accracy: 0.704\n",
      "     train Accracy: 0.8958\n",
      "Epoch: 28\n",
      "     Validation Accracy: 0.626\n",
      "     test Accracy: 0.704\n",
      "     train Accracy: 0.8957\n",
      "Epoch: 29\n",
      "     Validation Accracy: 0.6273333333333333\n",
      "     test Accracy: 0.702\n",
      "     train Accracy: 0.8967\n",
      "Epoch: 30\n",
      "     Validation Accracy: 0.6253333333333333\n",
      "     test Accracy: 0.7\n",
      "     train Accracy: 0.8963\n",
      "Epoch: 31\n",
      "     Validation Accracy: 0.626\n",
      "     test Accracy: 0.702\n",
      "     train Accracy: 0.8977\n",
      "Epoch: 32\n",
      "     Validation Accracy: 0.6246666666666667\n",
      "     test Accracy: 0.702\n",
      "     train Accracy: 0.8971\n",
      "Epoch: 33\n",
      "     Validation Accracy: 0.6266666666666667\n",
      "     test Accracy: 0.702\n",
      "     train Accracy: 0.8976\n",
      "Epoch: 34\n",
      "     Validation Accracy: 0.6253333333333333\n",
      "     test Accracy: 0.702\n",
      "     train Accracy: 0.8984\n",
      "Epoch: 35\n",
      "     Validation Accracy: 0.6253333333333333\n",
      "     test Accracy: 0.702\n",
      "     train Accracy: 0.898\n",
      "Epoch: 36\n",
      "     Validation Accracy: 0.6246666666666667\n",
      "     test Accracy: 0.702\n",
      "     train Accracy: 0.898\n",
      "Epoch: 37\n",
      "     Validation Accracy: 0.6253333333333333\n",
      "     test Accracy: 0.702\n",
      "     train Accracy: 0.898\n",
      "Epoch: 38\n",
      "     Validation Accracy: 0.6246666666666667\n",
      "     test Accracy: 0.702\n",
      "     train Accracy: 0.898\n",
      "Epoch: 39\n",
      "     Validation Accracy: 0.6253333333333333\n",
      "     test Accracy: 0.702\n",
      "     train Accracy: 0.898\n",
      "Epoch: 40\n",
      "     Validation Accracy: 0.6253333333333333\n",
      "     test Accracy: 0.702\n",
      "     train Accracy: 0.8982\n",
      "Epoch: 41\n",
      "     Validation Accracy: 0.6253333333333333\n",
      "     test Accracy: 0.702\n",
      "     train Accracy: 0.8982\n",
      "Epoch: 42\n",
      "     Validation Accracy: 0.6253333333333333\n",
      "     test Accracy: 0.702\n",
      "     train Accracy: 0.8984\n",
      "Epoch: 43\n",
      "     Validation Accracy: 0.6253333333333333\n",
      "     test Accracy: 0.702\n",
      "     train Accracy: 0.8984\n",
      "Epoch: 44\n",
      "     Validation Accracy: 0.6253333333333333\n",
      "     test Accracy: 0.702\n",
      "     train Accracy: 0.8984\n",
      "Epoch: 45\n",
      "     Validation Accracy: 0.6253333333333333\n",
      "     test Accracy: 0.702\n",
      "     train Accracy: 0.8984\n",
      "Epoch: 46\n",
      "     Validation Accracy: 0.6253333333333333\n",
      "     test Accracy: 0.702\n",
      "     train Accracy: 0.8984\n",
      "Epoch: 47\n",
      "     Validation Accracy: 0.6253333333333333\n",
      "     test Accracy: 0.702\n",
      "     train Accracy: 0.8984\n",
      "Epoch: 48\n",
      "     Validation Accracy: 0.6253333333333333\n",
      "     test Accracy: 0.702\n",
      "     train Accracy: 0.8985\n",
      "Epoch: 49\n",
      "     Validation Accracy: 0.6253333333333333\n",
      "     test Accracy: 0.702\n",
      "     train Accracy: 0.8984\n"
     ]
    }
   ],
   "source": [
    "for epoch in range(epochs):\n",
    "    print(f'Epoch: {epoch}\\n \\\n",
    "    Validation Accracy: {valid_acc[epoch]}\\n \\\n",
    "    test Accracy: {test_acc[epoch]}\\n \\\n",
    "    train Accracy: {train_acc[epoch]}')"
   ]
  },
  {
   "cell_type": "code",
   "execution_count": null,
   "id": "3307a536",
   "metadata": {},
   "outputs": [],
   "source": []
  },
  {
   "cell_type": "code",
   "execution_count": null,
   "id": "c7fb52cf",
   "metadata": {},
   "outputs": [],
   "source": []
  },
  {
   "cell_type": "code",
   "execution_count": null,
   "id": "134e35c2",
   "metadata": {},
   "outputs": [],
   "source": []
  },
  {
   "cell_type": "code",
   "execution_count": null,
   "id": "c8206808",
   "metadata": {},
   "outputs": [],
   "source": []
  },
  {
   "cell_type": "code",
   "execution_count": null,
   "id": "323bd5d3",
   "metadata": {},
   "outputs": [],
   "source": []
  },
  {
   "cell_type": "code",
   "execution_count": null,
   "id": "cdff8201",
   "metadata": {},
   "outputs": [],
   "source": []
  },
  {
   "cell_type": "code",
   "execution_count": null,
   "id": "11cbbd02",
   "metadata": {},
   "outputs": [],
   "source": []
  },
  {
   "cell_type": "code",
   "execution_count": null,
   "id": "e9c7ccb7",
   "metadata": {},
   "outputs": [],
   "source": []
  }
 ],
 "metadata": {
  "kernelspec": {
   "display_name": "Python 3 (ipykernel)",
   "language": "python",
   "name": "python3"
  },
  "language_info": {
   "codemirror_mode": {
    "name": "ipython",
    "version": 3
   },
   "file_extension": ".py",
   "mimetype": "text/x-python",
   "name": "python",
   "nbconvert_exporter": "python",
   "pygments_lexer": "ipython3",
   "version": "3.10.6"
  }
 },
 "nbformat": 4,
 "nbformat_minor": 5
}
