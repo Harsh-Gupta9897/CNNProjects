{
 "cells": [
  {
   "cell_type": "code",
   "execution_count": 14,
   "id": "1d9f33cc",
   "metadata": {},
   "outputs": [],
   "source": [
    "import torch\n",
    "import torch.optim as optim\n",
    "import torch.nn as nn\n",
    "import torch.nn.functional as F\n",
    "from torch.utils.data import DataLoader2, Dataset\n",
    "\n",
    "import torchvision\n",
    "from torchvision.datasets import FashionMNIST\n",
    "from torchvision.transforms import transforms\n",
    "\n",
    "\n",
    "import matplotlib.pyplot as plt\n",
    "import seaborn as sns\n",
    "%matplotlib inline\n",
    "\n",
    "\n",
    "from sklearn.metrics import classification_report , confusion_matrix\n",
    "import albumentations as A\n",
    "from albumentations.pytorch import ToTensorV2\n",
    "import cv2\n",
    "\n",
    "\n",
    "from pandas.core.common import flatten\n",
    "from tqdm import tqdm"
   ]
  },
  {
   "cell_type": "code",
   "execution_count": 15,
   "id": "3096baa5",
   "metadata": {},
   "outputs": [
    {
     "name": "stdout",
     "output_type": "stream",
     "text": [
      "Help on module glob:\n",
      "\n",
      "NAME\n",
      "    glob - Filename globbing utility.\n",
      "\n",
      "FUNCTIONS\n",
      "    escape(pathname)\n",
      "        Escape all special characters.\n",
      "    \n",
      "    glob(pathname, *, root_dir=None, dir_fd=None, recursive=False)\n",
      "        Return a list of paths matching a pathname pattern.\n",
      "        \n",
      "        The pattern may contain simple shell-style wildcards a la\n",
      "        fnmatch. However, unlike fnmatch, filenames starting with a\n",
      "        dot are special cases that are not matched by '*' and '?'\n",
      "        patterns.\n",
      "        \n",
      "        If recursive is true, the pattern '**' will match any files and\n",
      "        zero or more directories and subdirectories.\n",
      "    \n",
      "    iglob(pathname, *, root_dir=None, dir_fd=None, recursive=False)\n",
      "        Return an iterator which yields the paths matching a pathname pattern.\n",
      "        \n",
      "        The pattern may contain simple shell-style wildcards a la\n",
      "        fnmatch. However, unlike fnmatch, filenames starting with a\n",
      "        dot are special cases that are not matched by '*' and '?'\n",
      "        patterns.\n",
      "        \n",
      "        If recursive is true, the pattern '**' will match any files and\n",
      "        zero or more directories and subdirectories.\n",
      "\n",
      "DATA\n",
      "    __all__ = ['glob', 'iglob', 'escape']\n",
      "\n",
      "FILE\n",
      "    /opt/homebrew/Cellar/python@3.10/3.10.6_2/Frameworks/Python.framework/Versions/3.10/lib/python3.10/glob.py\n",
      "\n",
      "\n"
     ]
    }
   ],
   "source": [
    "import glob\n",
    "help(glob)"
   ]
  },
  {
   "cell_type": "code",
   "execution_count": 16,
   "id": "fa823f1a",
   "metadata": {},
   "outputs": [],
   "source": [
    "train_transforms = A.Compose(\n",
    "    [\n",
    "        A.SmallestMaxSize(max_size=350),\n",
    "        A.ShiftScaleRotate(shift_limit=0.05, scale_limit=0.05, rotate_limit=360, p=0.5),\n",
    "        A.RandomCrop(height=64, width=64),\n",
    "        A.RGBShift(r_shift_limit=15, g_shift_limit=15, b_shift_limit=15, p=0.5),\n",
    "        A.RandomBrightnessContrast(p=0.5),\n",
    "        A.MultiplicativeNoise(multiplier=[0.5,2], per_channel=True, p=0.2),\n",
    "        A.Normalize(mean=(0.485, 0.456, 0.406), std=(0.229, 0.224, 0.225)),\n",
    "        A.HueSaturationValue(hue_shift_limit=0.2, sat_shift_limit=0.2, val_shift_limit=0.2, p=0.5),\n",
    "        A.RandomBrightnessContrast(brightness_limit=(-0.1,0.1), contrast_limit=(-0.1, 0.1), p=0.5),\n",
    "        ToTensorV2(),\n",
    "    ]\n",
    ")\n",
    "\n",
    "test_transforms = A.Compose(\n",
    "    [\n",
    "        A.SmallestMaxSize(max_size=350),\n",
    "        A.CenterCrop(height=64, width=64),\n",
    "        A.Normalize(mean=(0.485, 0.456, 0.406), std=(0.229, 0.224, 0.225)),\n",
    "        ToTensorV2(),\n",
    "    ]\n",
    ")"
   ]
  },
  {
   "cell_type": "code",
   "execution_count": 17,
   "id": "9cdfb8c6",
   "metadata": {},
   "outputs": [],
   "source": [
    "batch_size = 64"
   ]
  },
  {
   "cell_type": "code",
   "execution_count": 18,
   "id": "1a20934d",
   "metadata": {},
   "outputs": [
    {
     "name": "stdout",
     "output_type": "stream",
     "text": [
      "train_image_path example:  Datasets/xray_dataset_covid19/train/NORMAL/IM-0046-0001.jpeg\n",
      "class example:  PNEUMONIA\n",
      "Train size: 148\n",
      "Test size: 40\n"
     ]
    }
   ],
   "source": [
    "import glob\n",
    "import random\n",
    "train_data_path = 'Datasets/xray_dataset_covid19/train' \n",
    "test_data_path = 'Datasets/xray_dataset_covid19/test' \n",
    "\n",
    "train_image_paths = [] #to store image paths in list\n",
    "classes = [] #to store class values\n",
    "\n",
    "#1.\n",
    "# get all the paths from train_data_path and append image paths and class to to respective lists\n",
    "# eg. train path-> 'images/train/26.Pont_du_Gard/4321ee6695c23c7b.jpg'\n",
    "# eg. class -> 26.Pont_du_Gard\n",
    "for data_path in glob.glob(train_data_path + '/*'):\n",
    "    classes.append(data_path.split('/')[-1]) \n",
    "    train_image_paths.append(glob.glob(data_path + '/*'))\n",
    "train_image_paths = list(flatten(train_image_paths))\n",
    "\n",
    "random.shuffle(train_image_paths)\n",
    "\n",
    "print('train_image_path example: ', train_image_paths[0])\n",
    "print('class example: ', classes[0])\n",
    "\n",
    "#2.\n",
    "# split train valid from train paths (80,20)\n",
    "# train_image_paths, valid_image_paths = train_image_paths[:int(0.8*len(train_image_paths))], train_image_paths[int(0.8*len(train_image_paths)):] \n",
    "\n",
    "#3.\n",
    "# create the test_image_paths\n",
    "test_image_paths = []\n",
    "for data_path in glob.glob(test_data_path + '/*'):\n",
    "    test_image_paths.append(glob.glob(data_path + '/*'))\n",
    "\n",
    "test_image_paths = list(flatten(test_image_paths))\n",
    "\n",
    "# print(\"Train size: {}\\nValid size: {}\\nTest size: {}\".format(len(train_image_paths), len(valid_image_paths), len(test_image_paths)))\n",
    "print(\"Train size: {}\\nTest size: {}\".format(len(train_image_paths),len(test_image_paths)))\n"
   ]
  },
  {
   "cell_type": "code",
   "execution_count": 19,
   "id": "9b567f4c",
   "metadata": {},
   "outputs": [
    {
     "data": {
      "text/plain": [
       "['Datasets/xray_dataset_covid19/train/NORMAL/IM-0046-0001.jpeg',\n",
       " 'Datasets/xray_dataset_covid19/train/PNEUMONIA/F4341CE7-73C9-45C6-99C8-8567A5484B63.jpeg',\n",
       " 'Datasets/xray_dataset_covid19/train/PNEUMONIA/7E335538-2F86-424E-A0AB-6397783A38D0.jpeg',\n",
       " 'Datasets/xray_dataset_covid19/train/PNEUMONIA/E1724330-1866-4581-8CD8-CEC9B8AFEDDE.jpeg',\n",
       " 'Datasets/xray_dataset_covid19/train/NORMAL/IM-0045-0001.jpeg',\n",
       " 'Datasets/xray_dataset_covid19/train/PNEUMONIA/5931B64A-7B97-485D-BE60-3F1EA76BC4F0.jpeg',\n",
       " 'Datasets/xray_dataset_covid19/train/PNEUMONIA/auntminnie-d-2020_01_28_23_51_6665_2020_01_28_Vietnam_coronavirus.jpeg',\n",
       " 'Datasets/xray_dataset_covid19/train/NORMAL/IM-0033-0001.jpeg',\n",
       " 'Datasets/xray_dataset_covid19/train/PNEUMONIA/446B2CB6-B572-40AB-B01F-1910CA07086A.jpeg',\n",
       " 'Datasets/xray_dataset_covid19/train/NORMAL/IM-0033-0001-0002.jpeg',\n",
       " 'Datasets/xray_dataset_covid19/train/PNEUMONIA/F051E018-DAD1-4506-AD43-BE4CA29E960B.jpeg',\n",
       " 'Datasets/xray_dataset_covid19/train/PNEUMONIA/7C69C012-7479-493F-8722-ABC29C60A2DD.jpeg',\n",
       " 'Datasets/xray_dataset_covid19/train/NORMAL/IM-0095-0001.jpeg',\n",
       " 'Datasets/xray_dataset_covid19/train/PNEUMONIA/7D2CF6CE-F529-4470-8356-D33FFAF98600.jpeg',\n",
       " 'Datasets/xray_dataset_covid19/train/PNEUMONIA/all14238-fig-0001-m-b.jpg',\n",
       " 'Datasets/xray_dataset_covid19/train/PNEUMONIA/7AF6C1AF-D249-4BD2-8C26-449304105D03.jpeg',\n",
       " 'Datasets/xray_dataset_covid19/train/PNEUMONIA/8FDE8DBA-CFBD-4B4C-B1A4-6F36A93B7E87.jpeg',\n",
       " 'Datasets/xray_dataset_covid19/train/PNEUMONIA/1-s2.0-S1684118220300682-main.pdf-003-b1.png',\n",
       " 'Datasets/xray_dataset_covid19/train/PNEUMONIA/2C10A413-AABE-4807-8CCE-6A2025594067.jpeg',\n",
       " 'Datasets/xray_dataset_covid19/train/NORMAL/IM-0009-0001.jpeg',\n",
       " 'Datasets/xray_dataset_covid19/train/NORMAL/IM-0059-0001.jpeg',\n",
       " 'Datasets/xray_dataset_covid19/train/NORMAL/IM-0079-0001.jpeg',\n",
       " 'Datasets/xray_dataset_covid19/train/NORMAL/IM-0071-0001.jpeg',\n",
       " 'Datasets/xray_dataset_covid19/train/NORMAL/IM-0070-0001.jpeg',\n",
       " 'Datasets/xray_dataset_covid19/train/NORMAL/IM-0015-0001.jpeg',\n",
       " 'Datasets/xray_dataset_covid19/train/NORMAL/IM-0081-0001.jpeg',\n",
       " 'Datasets/xray_dataset_covid19/train/NORMAL/IM-0022-0001.jpeg',\n",
       " 'Datasets/xray_dataset_covid19/train/NORMAL/NORMAL2-IM-0027-0001.jpeg',\n",
       " 'Datasets/xray_dataset_covid19/train/NORMAL/IM-0087-0001.jpeg',\n",
       " 'Datasets/xray_dataset_covid19/train/PNEUMONIA/93FE0BB1-022D-4F24-9727-987A07975FFB.jpeg',\n",
       " 'Datasets/xray_dataset_covid19/train/PNEUMONIA/5CBC2E94-D358-401E-8928-965CCD965C5C.jpeg',\n",
       " 'Datasets/xray_dataset_covid19/train/PNEUMONIA/CD50BA96-6982-4C80-AE7B-5F67ACDBFA56.jpeg',\n",
       " 'Datasets/xray_dataset_covid19/train/NORMAL/IM-0016-0001.jpeg',\n",
       " 'Datasets/xray_dataset_covid19/train/NORMAL/NORMAL2-IM-0012-0001.jpeg',\n",
       " 'Datasets/xray_dataset_covid19/train/PNEUMONIA/171CB377-62FF-4B76-906C-F3787A01CB2E.jpeg',\n",
       " 'Datasets/xray_dataset_covid19/train/NORMAL/IM-0023-0001.jpeg',\n",
       " 'Datasets/xray_dataset_covid19/train/NORMAL/IM-0003-0001.jpeg',\n",
       " 'Datasets/xray_dataset_covid19/train/PNEUMONIA/ryct.2020200028.fig1a.jpeg',\n",
       " 'Datasets/xray_dataset_covid19/train/PNEUMONIA/39EE8E69-5801-48DE-B6E3-BE7D1BCF3092.jpeg',\n",
       " 'Datasets/xray_dataset_covid19/train/NORMAL/IM-0043-0001.jpeg',\n",
       " 'Datasets/xray_dataset_covid19/train/NORMAL/IM-0107-0001.jpeg',\n",
       " 'Datasets/xray_dataset_covid19/train/NORMAL/NORMAL2-IM-0007-0001.jpeg',\n",
       " 'Datasets/xray_dataset_covid19/train/PNEUMONIA/covid-19-pneumonia-15-PA.jpg',\n",
       " 'Datasets/xray_dataset_covid19/train/PNEUMONIA/C6EA0BE5-B01E-4113-B194-18D956675E25.jpeg',\n",
       " 'Datasets/xray_dataset_covid19/train/PNEUMONIA/31BA3780-2323-493F-8AED-62081B9C383B.jpeg',\n",
       " 'Datasets/xray_dataset_covid19/train/PNEUMONIA/all14238-fig-0002-m-e.jpg',\n",
       " 'Datasets/xray_dataset_covid19/train/PNEUMONIA/lancet-case2a.jpg',\n",
       " 'Datasets/xray_dataset_covid19/train/NORMAL/IM-0029-0001.jpeg',\n",
       " 'Datasets/xray_dataset_covid19/train/PNEUMONIA/1B734A89-A1BF-49A8-A1D3-66FAFA4FAC5D.jpeg',\n",
       " 'Datasets/xray_dataset_covid19/train/NORMAL/IM-0006-0001.jpeg',\n",
       " 'Datasets/xray_dataset_covid19/train/NORMAL/IM-0019-0001.jpeg',\n",
       " 'Datasets/xray_dataset_covid19/train/PNEUMONIA/nejmoa2001191_f5-PA.jpeg',\n",
       " 'Datasets/xray_dataset_covid19/train/PNEUMONIA/all14238-fig-0001-m-c.jpg',\n",
       " 'Datasets/xray_dataset_covid19/train/PNEUMONIA/41591_2020_819_Fig1_HTML.webp-day10.png',\n",
       " 'Datasets/xray_dataset_covid19/train/NORMAL/IM-0007-0001.jpeg',\n",
       " 'Datasets/xray_dataset_covid19/train/NORMAL/NORMAL2-IM-0029-0001.jpeg',\n",
       " 'Datasets/xray_dataset_covid19/train/PNEUMONIA/1-s2.0-S0140673620303706-fx1_lrg.jpg',\n",
       " 'Datasets/xray_dataset_covid19/train/NORMAL/IM-0041-0001.jpeg',\n",
       " 'Datasets/xray_dataset_covid19/train/NORMAL/IM-0103-0001.jpeg',\n",
       " 'Datasets/xray_dataset_covid19/train/PNEUMONIA/5e6dd879fde9502400e58b2f.jpeg',\n",
       " 'Datasets/xray_dataset_covid19/train/NORMAL/NORMAL2-IM-0028-0001.jpeg',\n",
       " 'Datasets/xray_dataset_covid19/train/PNEUMONIA/pneumocystis-pneumonia-2-PA.png',\n",
       " 'Datasets/xray_dataset_covid19/train/PNEUMONIA/auntminnie-b-2020_01_28_23_51_6665_2020_01_28_Vietnam_coronavirus.jpeg',\n",
       " 'Datasets/xray_dataset_covid19/train/PNEUMONIA/1-s2.0-S1684118220300682-main.pdf-002-a1.png',\n",
       " 'Datasets/xray_dataset_covid19/train/PNEUMONIA/nejmoa2001191_f1-PA.jpeg',\n",
       " 'Datasets/xray_dataset_covid19/train/NORMAL/NORMAL2-IM-0023-0001.jpeg',\n",
       " 'Datasets/xray_dataset_covid19/train/NORMAL/IM-0073-0001.jpeg',\n",
       " 'Datasets/xray_dataset_covid19/train/NORMAL/NORMAL2-IM-0030-0001.jpeg',\n",
       " 'Datasets/xray_dataset_covid19/train/PNEUMONIA/B59DD164-51D5-40DF-A926-6A42DD52EBE8.jpeg',\n",
       " 'Datasets/xray_dataset_covid19/train/NORMAL/IM-0061-0001.jpeg',\n",
       " 'Datasets/xray_dataset_covid19/train/NORMAL/IM-0091-0001.jpeg',\n",
       " 'Datasets/xray_dataset_covid19/train/NORMAL/IM-0085-0001.jpeg',\n",
       " 'Datasets/xray_dataset_covid19/train/PNEUMONIA/E63574A7-4188-4C8D-8D17-9D67A18A1AFA.jpeg',\n",
       " 'Datasets/xray_dataset_covid19/train/NORMAL/IM-0031-0001.jpeg',\n",
       " 'Datasets/xray_dataset_covid19/train/PNEUMONIA/MERS-CoV-1-s2.0-S0378603X1500248X-gr4e.jpg',\n",
       " 'Datasets/xray_dataset_covid19/train/PNEUMONIA/jkms-35-e79-g001-l-b.jpg',\n",
       " 'Datasets/xray_dataset_covid19/train/PNEUMONIA/auntminnie-2020_01_31_20_24_2322_2020_01_31_x-ray_coronavirus_US.jpg',\n",
       " 'Datasets/xray_dataset_covid19/train/PNEUMONIA/1-s2.0-S1684118220300608-main.pdf-001.jpg',\n",
       " 'Datasets/xray_dataset_covid19/train/NORMAL/IM-0011-0001.jpeg',\n",
       " 'Datasets/xray_dataset_covid19/train/PNEUMONIA/7EF28E12-F628-4BEC-A8C5-E6277C2E4F60.png',\n",
       " 'Datasets/xray_dataset_covid19/train/PNEUMONIA/nejmoa2001191_f4.jpeg',\n",
       " 'Datasets/xray_dataset_covid19/train/NORMAL/IM-0086-0001.jpeg',\n",
       " 'Datasets/xray_dataset_covid19/train/NORMAL/IM-0110-0001.jpeg',\n",
       " 'Datasets/xray_dataset_covid19/train/PNEUMONIA/1312A392-67A3-4EBF-9319-810CF6DA5EF6.jpeg',\n",
       " 'Datasets/xray_dataset_covid19/train/NORMAL/IM-0011-0001-0001.jpeg',\n",
       " 'Datasets/xray_dataset_covid19/train/PNEUMONIA/kjr-21-e24-g001-l-a.jpg',\n",
       " 'Datasets/xray_dataset_covid19/train/NORMAL/NORMAL2-IM-0013-0001.jpeg',\n",
       " 'Datasets/xray_dataset_covid19/train/NORMAL/IM-0013-0001.jpeg',\n",
       " 'Datasets/xray_dataset_covid19/train/PNEUMONIA/ards-secondary-to-tiger-snake-bite.png',\n",
       " 'Datasets/xray_dataset_covid19/train/PNEUMONIA/01E392EE-69F9-4E33-BFCE-E5C968654078.jpeg',\n",
       " 'Datasets/xray_dataset_covid19/train/NORMAL/IM-0105-0001.jpeg',\n",
       " 'Datasets/xray_dataset_covid19/train/NORMAL/IM-0010-0001.jpeg',\n",
       " 'Datasets/xray_dataset_covid19/train/PNEUMONIA/80446565-E090-4187-A031-9D3CEAA586C8.jpeg',\n",
       " 'Datasets/xray_dataset_covid19/train/NORMAL/IM-0036-0001.jpeg',\n",
       " 'Datasets/xray_dataset_covid19/train/NORMAL/IM-0093-0001.jpeg',\n",
       " 'Datasets/xray_dataset_covid19/train/PNEUMONIA/nejmoa2001191_f3-PA.jpeg',\n",
       " 'Datasets/xray_dataset_covid19/train/PNEUMONIA/85E52EB3-56E9-4D67-82DA-DEA247C82886.jpeg',\n",
       " 'Datasets/xray_dataset_covid19/train/NORMAL/NORMAL2-IM-0033-0001.jpeg',\n",
       " 'Datasets/xray_dataset_covid19/train/NORMAL/IM-0063-0001.jpeg',\n",
       " 'Datasets/xray_dataset_covid19/train/NORMAL/IM-0049-0001.jpeg',\n",
       " 'Datasets/xray_dataset_covid19/train/PNEUMONIA/6CB4EFC6-68FA-4CD5-940C-BEFA8DAFE9A7.jpeg',\n",
       " 'Datasets/xray_dataset_covid19/train/PNEUMONIA/auntminnie-c-2020_01_28_23_51_6665_2020_01_28_Vietnam_coronavirus.jpeg',\n",
       " 'Datasets/xray_dataset_covid19/train/NORMAL/IM-0084-0001.jpeg',\n",
       " 'Datasets/xray_dataset_covid19/train/PNEUMONIA/41591_2020_819_Fig1_HTML.webp-day5.png',\n",
       " 'Datasets/xray_dataset_covid19/train/NORMAL/IM-0069-0001.jpeg',\n",
       " 'Datasets/xray_dataset_covid19/train/NORMAL/IM-0099-0001.jpeg',\n",
       " 'Datasets/xray_dataset_covid19/train/NORMAL/IM-0027-0001.jpeg',\n",
       " 'Datasets/xray_dataset_covid19/train/NORMAL/IM-0097-0001.jpeg',\n",
       " 'Datasets/xray_dataset_covid19/train/NORMAL/IM-0030-0001.jpeg',\n",
       " 'Datasets/xray_dataset_covid19/train/NORMAL/IM-0001-0001.jpeg',\n",
       " 'Datasets/xray_dataset_covid19/train/NORMAL/IM-0102-0001.jpeg',\n",
       " 'Datasets/xray_dataset_covid19/train/PNEUMONIA/1-s2.0-S1684118220300682-main.pdf-003-b2.png',\n",
       " 'Datasets/xray_dataset_covid19/train/PNEUMONIA/nejmc2001573_f1a.jpeg',\n",
       " 'Datasets/xray_dataset_covid19/train/PNEUMONIA/jkms-35-e79-g001-l-c.jpg',\n",
       " 'Datasets/xray_dataset_covid19/train/PNEUMONIA/F63AB6CE-1968-4154-A70F-913AF154F53D.jpeg',\n",
       " 'Datasets/xray_dataset_covid19/train/PNEUMONIA/covid-19-pneumonia-7-PA.jpg',\n",
       " 'Datasets/xray_dataset_covid19/train/NORMAL/IM-0037-0001.jpeg',\n",
       " 'Datasets/xray_dataset_covid19/train/NORMAL/IM-0101-0001.jpeg',\n",
       " 'Datasets/xray_dataset_covid19/train/PNEUMONIA/nCoV-radiol.2020200269.fig1-day7.jpeg',\n",
       " 'Datasets/xray_dataset_covid19/train/PNEUMONIA/nCoV-Snohomish-20382862_web1_M1-Lungs-EDH-200201-640x300@2x.jpg',\n",
       " 'Datasets/xray_dataset_covid19/train/NORMAL/IM-0035-0001.jpeg',\n",
       " 'Datasets/xray_dataset_covid19/train/NORMAL/IM-0025-0001.jpeg',\n",
       " 'Datasets/xray_dataset_covid19/train/PNEUMONIA/covid-19-pneumonia-14-PA.png',\n",
       " 'Datasets/xray_dataset_covid19/train/NORMAL/IM-0089-0001.jpeg',\n",
       " 'Datasets/xray_dataset_covid19/train/NORMAL/IM-0083-0001.jpeg',\n",
       " 'Datasets/xray_dataset_covid19/train/NORMAL/IM-0111-0001.jpeg',\n",
       " 'Datasets/xray_dataset_covid19/train/PNEUMONIA/kjr-21-e25-g001-l-a.jpg',\n",
       " 'Datasets/xray_dataset_covid19/train/NORMAL/IM-0077-0001.jpeg',\n",
       " 'Datasets/xray_dataset_covid19/train/NORMAL/IM-0021-0001.jpeg',\n",
       " 'Datasets/xray_dataset_covid19/train/PNEUMONIA/23E99E2E-447C-46E5-8EB2-D35D12473C39.png',\n",
       " 'Datasets/xray_dataset_covid19/train/NORMAL/IM-0017-0001.jpeg',\n",
       " 'Datasets/xray_dataset_covid19/train/NORMAL/IM-0039-0001.jpeg',\n",
       " 'Datasets/xray_dataset_covid19/train/PNEUMONIA/1-s2.0-S1684118220300608-main.pdf-002.jpg',\n",
       " 'Datasets/xray_dataset_covid19/train/PNEUMONIA/covid-19-pneumonia-12.jpg',\n",
       " 'Datasets/xray_dataset_covid19/train/PNEUMONIA/ARDSSevere.png',\n",
       " 'Datasets/xray_dataset_covid19/train/NORMAL/IM-0033-0001-0001.jpeg',\n",
       " 'Datasets/xray_dataset_covid19/train/PNEUMONIA/nejmc2001573_f1b.jpeg',\n",
       " 'Datasets/xray_dataset_covid19/train/NORMAL/IM-0075-0001.jpeg',\n",
       " 'Datasets/xray_dataset_covid19/train/NORMAL/IM-0005-0001.jpeg',\n",
       " 'Datasets/xray_dataset_covid19/train/PNEUMONIA/kjr-21-e24-g002-l-a.jpg',\n",
       " 'Datasets/xray_dataset_covid19/train/NORMAL/IM-0011-0001-0002.jpeg',\n",
       " 'Datasets/xray_dataset_covid19/train/PNEUMONIA/1-s2.0-S1684118220300682-main.pdf-002-a2.png',\n",
       " 'Datasets/xray_dataset_covid19/train/PNEUMONIA/9C34AF49-E589-44D5-92D3-168B3B04E4A6.jpeg',\n",
       " 'Datasets/xray_dataset_covid19/train/PNEUMONIA/acute-respiratory-distress-syndrome-ards-1.jpg',\n",
       " 'Datasets/xray_dataset_covid19/train/PNEUMONIA/kjr-21-e24-g003-l-a.jpg',\n",
       " 'Datasets/xray_dataset_covid19/train/PNEUMONIA/jkms-35-e79-g001-l-a.jpg',\n",
       " 'Datasets/xray_dataset_covid19/train/NORMAL/IM-0050-0001.jpeg',\n",
       " 'Datasets/xray_dataset_covid19/train/PNEUMONIA/2C26F453-AF3B-4517-BB9E-802CF2179543.jpeg']"
      ]
     },
     "execution_count": 19,
     "metadata": {},
     "output_type": "execute_result"
    }
   ],
   "source": [
    "train_image_paths"
   ]
  },
  {
   "cell_type": "code",
   "execution_count": 20,
   "id": "c0fd1bfc",
   "metadata": {},
   "outputs": [],
   "source": [
    "idx_to_class = {i:j for i, j in enumerate(classes)}\n",
    "class_to_idx = {value:key for key,value in idx_to_class.items()}\n"
   ]
  },
  {
   "cell_type": "code",
   "execution_count": 21,
   "id": "3f5880c9",
   "metadata": {},
   "outputs": [],
   "source": [
    "class XRayDataset(Dataset):\n",
    "    def __init__(self, image_paths, transform=False):\n",
    "        self.image_paths = image_paths\n",
    "#         self.transform = transform\n",
    "        \n",
    "    def __len__(self):\n",
    "        return len(self.image_paths)\n",
    "\n",
    "    def __getitem__(self, idx):\n",
    "        image_filepath = self.image_paths[idx]\n",
    "        image = cv2.imread(image_filepath)\n",
    "        image = cv2.cvtColor(image, cv2.COLOR_BGR2RGB)\n",
    "        \n",
    "        label = image_filepath.split('/')[-2]\n",
    "        label = class_to_idx[label]\n",
    "        \n",
    "#             image = A.resize(image,3,64,64) #(image=image)[\"image\"]\n",
    "        image = torch.tensor(image)\n",
    "\n",
    "        image = image.permute(2,0,1)\n",
    "        Trans = torchvision.transforms.Resize((64,64))\n",
    "        image = Trans(image)\n",
    "\n",
    "        return image, label\n",
    "    \n",
    "#######################################################\n",
    "#                  Create Dataset\n",
    "#######################################################\n",
    "\n",
    "train_dataset = XRayDataset(train_image_paths)\n",
    "# valid_dataset = XRayDataset(valid_image_paths,test_transforms) #test transforms are applied\n",
    "test_dataset = XRayDataset(test_image_paths)"
   ]
  },
  {
   "cell_type": "code",
   "execution_count": 22,
   "id": "168020e4",
   "metadata": {},
   "outputs": [
    {
     "data": {
      "text/plain": [
       "<matplotlib.image.AxesImage at 0x17d312f80>"
      ]
     },
     "execution_count": 22,
     "metadata": {},
     "output_type": "execute_result"
    },
    {
     "data": {
      "image/png": "[encoded data removed]",
      "text/plain": [
       "<Figure size 432x288 with 1 Axes>"
      ]
     },
     "metadata": {
      "needs_background": "light"
     },
     "output_type": "display_data"
    }
   ],
   "source": [
    "# img = plt.imread('tr.jpeg')\n",
    "# ar = img.reshape(28,28)\n",
    "# torch.tensor(img)\n",
    "x = train_dataset[1][0]\n",
    "x= x.permute(1,2,0)\n",
    "\n",
    "plt.imshow(x)\n",
    "# train_dataset[0][0].numpy().shape"
   ]
  },
  {
   "cell_type": "code",
   "execution_count": 23,
   "id": "bc1f80ee",
   "metadata": {},
   "outputs": [],
   "source": [
    "def plot_loss(loss):\n",
    "        '''\n",
    "        Plots the loss curve\n",
    "        '''\n",
    "        fig = plt.figure(figsize=(10,10))\n",
    "        plt.plot(loss)\n",
    "        plt.xlabel(\"Iteration\")\n",
    "        plt.ylabel(\"logloss\")\n",
    "        plt.title(\"Loss curve for training\")\n",
    "        plt.show() "
   ]
  },
  {
   "cell_type": "code",
   "execution_count": 24,
   "id": "e91c605f",
   "metadata": {},
   "outputs": [],
   "source": [
    "train_loader = DataLoader2(train_dataset,batch_size=batch_size,shuffle=True) \n",
    "test_loader = DataLoader2(test_dataset,batch_size=batch_size,shuffle=True) \n"
   ]
  },
  {
   "cell_type": "code",
   "execution_count": 25,
   "id": "857b0d64",
   "metadata": {},
   "outputs": [],
   "source": [
    "def accuracy(train_loader,test_loader,model,reshape=True):\n",
    "    model.eval()\n",
    "    r_pred=[]\n",
    "    r=[]\n",
    "    for _,(x,y) in enumerate(train_loader):\n",
    "        if reshape==True:\n",
    "            x = x.reshape(x.shape[0],-1)\n",
    "        scores = model(x)\n",
    "        _, y_pred = scores.max(1)\n",
    "        r = r + list(y.numpy())\n",
    "        r_pred = r_pred + list(y_pred.numpy())\n",
    "    \n",
    "    print(\"\\n\\n########## Train Data Accuracy ######### \\n\\n\")\n",
    "    print(classification_report(r,r_pred))\n",
    "    sns.heatmap(confusion_matrix(r,r_pred))\n",
    "    plt.show()\n",
    "    \n",
    "    \n",
    "    \n",
    "    r_pred=[]\n",
    "    r=[]\n",
    "    for _,(x,y) in enumerate(test_loader):\n",
    "        if reshape==True:\n",
    "            x = x.reshape(x.shape[0],-1)\n",
    "        scores = model(x)\n",
    "        _, y_pred = scores.max(1)\n",
    "        r = r + list(y.numpy())\n",
    "        r_pred = r_pred + list(y_pred.numpy())\n",
    "    \n",
    "    print(\"\\n\\n########## Test Data Accuracy ######### \\n\\n\") \n",
    "    print(classification_report(r,r_pred))\n",
    "    sns.heatmap(confusion_matrix(r,r_pred))\n"
   ]
  },
  {
   "cell_type": "code",
   "execution_count": 26,
   "id": "76d0c76b",
   "metadata": {},
   "outputs": [],
   "source": [
    "######### CNN Example\n",
    "class CNN(nn.Module):\n",
    "    def __init__(self,in_channels=1,num_classes=10):\n",
    "        super(CNN,self).__init__()\n",
    "        self.conv1 = nn.Conv2d(in_channels,16,kernel_size=(2,2),stride=(1,1),padding=(1,1))\n",
    "        self.conv2 = nn.Conv2d(16,8,kernel_size=(2,2),stride=(1,1),padding=(1,1))\n",
    "        self.maxpool = nn.MaxPool2d(kernel_size=(2,2),stride=(2,2))\n",
    "        self.fc1 = nn.Linear(8*16*16,32)        \n",
    "        self.fc2 = nn.Linear(32,10)        \n",
    "        self.fc3 = nn.Linear(10,2)        \n",
    "#         self.fc2 = nn.Linear(20,num_classes)\n",
    "    def forward(self,x):\n",
    "        x = x.type(dtype=torch.float32)\n",
    "        x = F.relu(self.conv1(x))\n",
    "        x = self.maxpool(x)\n",
    "        x = F.relu(self.conv2(x))\n",
    "        x = self.maxpool(x)\n",
    "        x = x.reshape(x.shape[0],-1)\n",
    "        x = F.relu(self.fc1(x))     \n",
    "        x = F.relu(self.fc2(x))     \n",
    "        x = self.fc3(x)   \n",
    "#         x = self.fc2(x)       \n",
    "#         x = self.fc2(x)\n",
    "        return x"
   ]
  },
  {
   "cell_type": "code",
   "execution_count": 27,
   "id": "5a6d7f78",
   "metadata": {},
   "outputs": [
    {
     "name": "stdout",
     "output_type": "stream",
     "text": [
      "epoch 20/1  loss=0.6347820162773132 \n",
      "epoch 20/2  loss=0.5073965191841125 \n",
      "epoch 20/3  loss=0.484799325466156 \n",
      "epoch 20/4  loss=0.43157267570495605 \n",
      "epoch 20/5  loss=0.42616352438926697 \n",
      "epoch 20/6  loss=0.2851216197013855 \n",
      "epoch 20/7  loss=0.1843494474887848 \n",
      "epoch 20/8  loss=0.20525987446308136 \n",
      "epoch 20/9  loss=0.30944907665252686 \n",
      "epoch 20/10  loss=0.1604013442993164 \n",
      "epoch 20/11  loss=0.12898336350917816 \n",
      "epoch 20/12  loss=0.1293174922466278 \n",
      "epoch 20/13  loss=0.3292697072029114 \n",
      "epoch 20/14  loss=0.11610108613967896 \n",
      "epoch 20/15  loss=0.17154532670974731 \n",
      "epoch 20/16  loss=0.32082468271255493 \n",
      "epoch 20/17  loss=0.09189753979444504 \n",
      "epoch 20/18  loss=0.10475917160511017 \n",
      "epoch 20/19  loss=0.2561893165111542 \n",
      "epoch 20/20  loss=0.08144183456897736 \n"
     ]
    },
    {
     "data": {
      "image/png": "[encoded data removed]",
      "text/plain": [
       "<Figure size 720x720 with 1 Axes>"
      ]
     },
     "metadata": {
      "needs_background": "light"
     },
     "output_type": "display_data"
    }
   ],
   "source": [
    "in_channels= 3\n",
    "num_classes= 2\n",
    "lr = 0.0001\n",
    "epochs = 20\n",
    "\n",
    "## Model Initialization\n",
    "model_cnn = CNN(in_channels,num_classes)\n",
    "\n",
    "\n",
    "## Loss Function and Optimizer\n",
    "loss_func = nn.CrossEntropyLoss()\n",
    "optimizer = optim.Adam(model_cnn.parameters(),lr=lr)\n",
    "\n",
    "\n",
    "##### Train The network ##########\n",
    "train_loss = []\n",
    "for epoch in range(epochs):\n",
    "    for batch_id,(x,y) in  enumerate(train_loader):\n",
    "        \n",
    "#         x = x.reshape(x.shape[0],-1)\n",
    "        \n",
    "        scores = model_cnn(x)\n",
    "        loss = loss_func(scores,y)\n",
    "        \n",
    "        # backward prop\n",
    "        optimizer.zero_grad()\n",
    "        loss.backward()\n",
    "        \n",
    "        optimizer.step()\n",
    "    \n",
    "    train_loss.append(loss.detach().numpy().sum())\n",
    "    print('epoch {}/{}  loss={} '.format(epochs, epoch+1,loss))\n",
    "plot_loss(train_loss)\n",
    "    \n",
    "\n",
    "\n",
    "        \n"
   ]
  },
  {
   "cell_type": "code",
   "execution_count": 28,
   "id": "c9a33443",
   "metadata": {},
   "outputs": [
    {
     "name": "stdout",
     "output_type": "stream",
     "text": [
      "\n",
      "\n",
      "########## Train Data Accuracy ######### \n",
      "\n",
      "\n",
      "              precision    recall  f1-score   support\n",
      "\n",
      "           0       0.96      0.99      0.97        74\n",
      "           1       0.99      0.96      0.97        74\n",
      "\n",
      "    accuracy                           0.97       148\n",
      "   macro avg       0.97      0.97      0.97       148\n",
      "weighted avg       0.97      0.97      0.97       148\n",
      "\n"
     ]
    },
    {
     "data": {
      "image/png": "[encoded data removed]",
      "text/plain": [
       "<Figure size 432x288 with 2 Axes>"
      ]
     },
     "metadata": {
      "needs_background": "light"
     },
     "output_type": "display_data"
    },
    {
     "name": "stdout",
     "output_type": "stream",
     "text": [
      "\n",
      "\n",
      "########## Test Data Accuracy ######### \n",
      "\n",
      "\n",
      "              precision    recall  f1-score   support\n",
      "\n",
      "           0       1.00      1.00      1.00        20\n",
      "           1       1.00      1.00      1.00        20\n",
      "\n",
      "    accuracy                           1.00        40\n",
      "   macro avg       1.00      1.00      1.00        40\n",
      "weighted avg       1.00      1.00      1.00        40\n",
      "\n"
     ]
    },
    {
     "data": {
      "image/png": "[encoded data removed]",
      "text/plain": [
       "<Figure size 432x288 with 2 Axes>"
      ]
     },
     "metadata": {
      "needs_background": "light"
     },
     "output_type": "display_data"
    }
   ],
   "source": [
    "accuracy(train_loader,test_loader,model_cnn,reshape=False)"
   ]
  },
  {
   "cell_type": "code",
   "execution_count": null,
   "id": "94047314",
   "metadata": {},
   "outputs": [],
   "source": []
  },
  {
   "cell_type": "code",
   "execution_count": null,
   "id": "fd46c70b",
   "metadata": {},
   "outputs": [],
   "source": []
  },
  {
   "cell_type": "code",
   "execution_count": null,
   "id": "4427cda2",
   "metadata": {},
   "outputs": [],
   "source": []
  }
 ],
 "metadata": {
  "kernelspec": {
   "display_name": "Python 3 (ipykernel)",
   "language": "python",
   "name": "python3"
  },
  "language_info": {
   "codemirror_mode": {
    "name": "ipython",
    "version": 3
   },
   "file_extension": ".py",
   "mimetype": "text/x-python",
   "name": "python",
   "nbconvert_exporter": "python",
   "pygments_lexer": "ipython3",
   "version": "3.10.6"
  },
  "vscode": {
   "interpreter": {
    "hash": "b0fa6594d8f4cbf19f97940f81e996739fb7646882a419484c72d19e05852a7e"
   }
  }
 },
 "nbformat": 4,
 "nbformat_minor": 5
}
