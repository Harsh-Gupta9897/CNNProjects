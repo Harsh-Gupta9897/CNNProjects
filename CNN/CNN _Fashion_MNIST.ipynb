{
 "cells": [
  {
   "cell_type": "code",
   "execution_count": 1,
   "id": "1d9f33cc",
   "metadata": {},
   "outputs": [],
   "source": [
    "import torch\n",
    "import torch.optim as optim\n",
    "import torch.nn as nn\n",
    "import torch.nn.functional as F\n",
    "from torch.utils.data import DataLoader2\n",
    "\n",
    "import torchvision\n",
    "from torchvision.datasets import FashionMNIST\n",
    "from torchvision.transforms import transforms\n",
    "\n",
    "\n",
    "import matplotlib.pyplot as plt\n",
    "import seaborn as sns\n",
    "%matplotlib inline\n",
    "\n",
    "\n",
    "from sklearn.metrics import classification_report , confusion_matrix\n"
   ]
  },
  {
   "cell_type": "code",
   "execution_count": 2,
   "id": "1a20934d",
   "metadata": {},
   "outputs": [],
   "source": [
    "batch_size = 64"
   ]
  },
  {
   "cell_type": "code",
   "execution_count": 3,
   "id": "9b567f4c",
   "metadata": {},
   "outputs": [],
   "source": [
    "train_dataset = FashionMNIST(root='Datasets/',download=True,transform=transforms.ToTensor())\n",
    "test_dataset = FashionMNIST(root='Datasets/',train=False,transform=transforms.ToTensor())"
   ]
  },
  {
   "cell_type": "code",
   "execution_count": 4,
   "id": "c0fd1bfc",
   "metadata": {},
   "outputs": [
    {
     "data": {
      "text/plain": [
       "<matplotlib.image.AxesImage at 0x16043ca60>"
      ]
     },
     "execution_count": 4,
     "metadata": {},
     "output_type": "execute_result"
    },
    {
     "data": {
      "image/png": "[encoded data removed]",
      "text/plain": [
       "<Figure size 432x288 with 1 Axes>"
      ]
     },
     "metadata": {
      "needs_background": "light"
     },
     "output_type": "display_data"
    }
   ],
   "source": [
    "plt.imshow(train_dataset[1][0][0,:,:],cmap='BrBG_r')\n"
   ]
  },
  {
   "cell_type": "code",
   "execution_count": 5,
   "id": "c0ab3f06",
   "metadata": {},
   "outputs": [],
   "source": [
    "# from PIL import Image as im\n",
    "# img = plt.imread('download.jpeg')\n",
    "# ar = img.reshape(28,28)\n",
    "# torch.tensor(img)\n",
    "# plt.imshow(img)\n",
    "# train_dataset[0][0].numpy().shape"
   ]
  },
  {
   "cell_type": "code",
   "execution_count": null,
   "id": "03f25717",
   "metadata": {},
   "outputs": [],
   "source": []
  },
  {
   "cell_type": "code",
   "execution_count": 6,
   "id": "bc1f80ee",
   "metadata": {},
   "outputs": [],
   "source": [
    "def plot_loss(loss):\n",
    "        '''\n",
    "        Plots the loss curve\n",
    "        '''\n",
    "        fig = plt.figure(figsize=(10,10))\n",
    "        plt.plot(loss)\n",
    "        plt.xlabel(\"Iteration\")\n",
    "        plt.ylabel(\"logloss\")\n",
    "        plt.title(\"Loss curve for training\")\n",
    "        plt.show() "
   ]
  },
  {
   "cell_type": "code",
   "execution_count": 7,
   "id": "9264a680",
   "metadata": {},
   "outputs": [
    {
     "data": {
      "text/plain": [
       "{'T-shirt/top': 0,\n",
       " 'Trouser': 1,\n",
       " 'Pullover': 2,\n",
       " 'Dress': 3,\n",
       " 'Coat': 4,\n",
       " 'Sandal': 5,\n",
       " 'Shirt': 6,\n",
       " 'Sneaker': 7,\n",
       " 'Bag': 8,\n",
       " 'Ankle boot': 9}"
      ]
     },
     "execution_count": 7,
     "metadata": {},
     "output_type": "execute_result"
    }
   ],
   "source": [
    "train_dataset.class_to_idx\n"
   ]
  },
  {
   "cell_type": "code",
   "execution_count": 8,
   "id": "e91c605f",
   "metadata": {},
   "outputs": [],
   "source": [
    "train_loader = DataLoader2(train_dataset,batch_size=batch_size,shuffle=True) \n",
    "test_loader = DataLoader2(test_dataset,batch_size=batch_size,shuffle=True) \n"
   ]
  },
  {
   "cell_type": "code",
   "execution_count": 9,
   "id": "857b0d64",
   "metadata": {},
   "outputs": [],
   "source": [
    "def accuracy(train_loader,test_loader,model,reshape=True):\n",
    "    model.eval()\n",
    "    r_pred=[]\n",
    "    r=[]\n",
    "    for _,(x,y) in enumerate(train_loader):\n",
    "        if reshape==True:\n",
    "            x = x.reshape(x.shape[0],-1)\n",
    "        scores = model(x)\n",
    "        _, y_pred = scores.max(1)\n",
    "        r = r + list(y.numpy())\n",
    "        r_pred = r_pred + list(y_pred.numpy())\n",
    "    \n",
    "    print(\"\\n\\n########## Train Data Accuracy ######### \\n\\n\")\n",
    "    print(classification_report(r,r_pred))\n",
    "    sns.heatmap(confusion_matrix(r,r_pred))\n",
    "    plt.show()\n",
    "    \n",
    "    \n",
    "    \n",
    "    r_pred=[]\n",
    "    r=[]\n",
    "    for _,(x,y) in enumerate(test_loader):\n",
    "        if reshape==True:\n",
    "            x = x.reshape(x.shape[0],-1)\n",
    "        scores = model(x)\n",
    "        _, y_pred = scores.max(1)\n",
    "        r = r + list(y.numpy())\n",
    "        r_pred = r_pred + list(y_pred.numpy())\n",
    "    \n",
    "    print(\"\\n\\n########## Test Data Accuracy ######### \\n\\n\") \n",
    "    print(classification_report(r,r_pred))\n",
    "    sns.heatmap(confusion_matrix(r,r_pred))\n"
   ]
  },
  {
   "cell_type": "code",
   "execution_count": 10,
   "id": "46fd600f",
   "metadata": {},
   "outputs": [],
   "source": [
    "class Network(nn.Module):\n",
    "    def __init__(self,input_size,num_classes):\n",
    "        super(Network,self).__init__()\n",
    "        self.fc1 = nn.Linear(input_size,30)        \n",
    "        self.fc2 = nn.Linear(30,num_classes)\n",
    "    def forward(self,x):\n",
    "        x = F.relu(self.fc1(x))        \n",
    "        x = self.fc2(x)       \n",
    "#         x = self.fc2(x)\n",
    "        return x\n",
    "\n",
    "\n",
    "    "
   ]
  },
  {
   "cell_type": "code",
   "execution_count": 11,
   "id": "8f90e3e5",
   "metadata": {},
   "outputs": [
    {
     "name": "stdout",
     "output_type": "stream",
     "text": [
      "epoch 100/1  loss=1.9269357919692993 \n",
      "epoch 100/2  loss=1.6295478343963623 \n",
      "epoch 100/3  loss=1.3563755750656128 \n",
      "epoch 100/4  loss=1.0515706539154053 \n",
      "epoch 100/5  loss=1.0587186813354492 \n",
      "epoch 100/6  loss=0.7834979891777039 \n",
      "epoch 100/7  loss=0.8745025396347046 \n",
      "epoch 100/8  loss=1.0112265348434448 \n",
      "epoch 100/9  loss=0.7545328736305237 \n",
      "epoch 100/10  loss=0.8443068861961365 \n",
      "epoch 100/11  loss=0.648884654045105 \n",
      "epoch 100/12  loss=0.6018937230110168 \n",
      "epoch 100/13  loss=0.5056456327438354 \n",
      "epoch 100/14  loss=0.4369675815105438 \n",
      "epoch 100/15  loss=0.7586855888366699 \n",
      "epoch 100/16  loss=0.5536524057388306 \n",
      "epoch 100/17  loss=0.8438718914985657 \n",
      "epoch 100/18  loss=0.71454918384552 \n",
      "epoch 100/19  loss=0.5110184550285339 \n",
      "epoch 100/20  loss=0.6900572776794434 \n",
      "epoch 100/21  loss=0.48054856061935425 \n",
      "epoch 100/22  loss=0.32302364706993103 \n",
      "epoch 100/23  loss=1.0240025520324707 \n",
      "epoch 100/24  loss=0.44017720222473145 \n",
      "epoch 100/25  loss=0.5925530791282654 \n",
      "epoch 100/26  loss=0.47448426485061646 \n",
      "epoch 100/27  loss=0.4851323068141937 \n",
      "epoch 100/28  loss=0.5373582243919373 \n",
      "epoch 100/29  loss=0.5368204116821289 \n",
      "epoch 100/30  loss=0.5440743565559387 \n",
      "epoch 100/31  loss=0.6030974984169006 \n",
      "epoch 100/32  loss=0.3935104012489319 \n",
      "epoch 100/33  loss=0.6704823970794678 \n",
      "epoch 100/34  loss=0.565543532371521 \n",
      "epoch 100/35  loss=0.5032171010971069 \n",
      "epoch 100/36  loss=0.4822140038013458 \n",
      "epoch 100/37  loss=0.2805754840373993 \n",
      "epoch 100/38  loss=0.654045820236206 \n",
      "epoch 100/39  loss=0.4991028308868408 \n",
      "epoch 100/40  loss=0.4637799859046936 \n",
      "epoch 100/41  loss=0.5883929133415222 \n",
      "epoch 100/42  loss=0.5752212405204773 \n",
      "epoch 100/43  loss=0.3092663586139679 \n",
      "epoch 100/44  loss=0.4396912157535553 \n",
      "epoch 100/45  loss=0.5184301137924194 \n",
      "epoch 100/46  loss=0.33826744556427 \n",
      "epoch 100/47  loss=0.4258040487766266 \n",
      "epoch 100/48  loss=0.438188374042511 \n",
      "epoch 100/49  loss=0.6697551012039185 \n",
      "epoch 100/50  loss=0.6840671896934509 \n",
      "epoch 100/51  loss=0.4360283613204956 \n",
      "epoch 100/52  loss=0.7321507334709167 \n",
      "epoch 100/53  loss=0.40546146035194397 \n",
      "epoch 100/54  loss=0.3426319360733032 \n",
      "epoch 100/55  loss=0.3859313428401947 \n",
      "epoch 100/56  loss=0.42681556940078735 \n",
      "epoch 100/57  loss=0.5673450827598572 \n",
      "epoch 100/58  loss=0.49836570024490356 \n",
      "epoch 100/59  loss=0.42833322286605835 \n",
      "epoch 100/60  loss=0.5369299054145813 \n",
      "epoch 100/61  loss=0.5451206564903259 \n",
      "epoch 100/62  loss=0.27482157945632935 \n",
      "epoch 100/63  loss=0.5475528240203857 \n",
      "epoch 100/64  loss=0.33277416229248047 \n",
      "epoch 100/65  loss=0.7392517328262329 \n",
      "epoch 100/66  loss=0.4246389865875244 \n",
      "epoch 100/67  loss=0.40351399779319763 \n",
      "epoch 100/68  loss=0.47843772172927856 \n",
      "epoch 100/69  loss=0.4739687740802765 \n",
      "epoch 100/70  loss=0.4083136022090912 \n",
      "epoch 100/71  loss=0.307165265083313 \n",
      "epoch 100/72  loss=0.3648432791233063 \n",
      "epoch 100/73  loss=0.5093286037445068 \n",
      "epoch 100/74  loss=0.4257658123970032 \n",
      "epoch 100/75  loss=0.4440901577472687 \n",
      "epoch 100/76  loss=0.3655088543891907 \n",
      "epoch 100/77  loss=0.2652980089187622 \n",
      "epoch 100/78  loss=0.47214770317077637 \n",
      "epoch 100/79  loss=0.37634602189064026 \n",
      "epoch 100/80  loss=0.2528587281703949 \n",
      "epoch 100/81  loss=0.474976509809494 \n",
      "epoch 100/82  loss=0.37167230248451233 \n",
      "epoch 100/83  loss=0.4753466844558716 \n",
      "epoch 100/84  loss=0.2966601252555847 \n",
      "epoch 100/85  loss=0.35335439443588257 \n",
      "epoch 100/86  loss=0.27971696853637695 \n",
      "epoch 100/87  loss=0.5094524621963501 \n",
      "epoch 100/88  loss=0.4559885561466217 \n",
      "epoch 100/89  loss=0.44755104184150696 \n",
      "epoch 100/90  loss=0.4220193922519684 \n",
      "epoch 100/91  loss=0.3107787072658539 \n",
      "epoch 100/92  loss=0.5582034587860107 \n",
      "epoch 100/93  loss=0.38633865118026733 \n",
      "epoch 100/94  loss=0.4062750041484833 \n",
      "epoch 100/95  loss=0.5998414754867554 \n",
      "epoch 100/96  loss=0.4764389097690582 \n",
      "epoch 100/97  loss=0.6146233081817627 \n",
      "epoch 100/98  loss=0.32760846614837646 \n",
      "epoch 100/99  loss=0.6457551121711731 \n",
      "epoch 100/100  loss=0.4025411009788513 \n"
     ]
    },
    {
     "data": {
      "image/png": "[encoded data removed]",
      "text/plain": [
       "<Figure size 720x720 with 1 Axes>"
      ]
     },
     "metadata": {
      "needs_background": "light"
     },
     "output_type": "display_data"
    }
   ],
   "source": [
    "### parameter Initialization\n",
    "\n",
    "input_size= 784\n",
    "num_classes= 10\n",
    "lr = 0.001\n",
    "\n",
    "epochs = 100\n",
    "\n",
    "\n",
    "## Model Initialization\n",
    "model = Network(input_size,num_classes)\n",
    "\n",
    "\n",
    "## Loss Function and Optimizer\n",
    "loss_func = nn.CrossEntropyLoss()\n",
    "optimizer = optim.SGD(model.parameters(),lr=lr)\n",
    "\n",
    "\n",
    "##### Train The network ##########\n",
    "train_loss = []\n",
    "for epoch in range(epochs):\n",
    "    for batch_id,(x,y) in  enumerate(train_loader):\n",
    "        \n",
    "        x = x.reshape(x.shape[0],-1)\n",
    "        scores = model(x)\n",
    "        loss = loss_func(scores,y)\n",
    "        \n",
    "        # backward prop\n",
    "        optimizer.zero_grad()\n",
    "        loss.backward()\n",
    "        optimizer.step()\n",
    "    train_loss.append(loss.detach().numpy().sum())\n",
    "    \n",
    "    print('epoch {}/{}  loss={} '.format(epochs, epoch+1,loss))\n",
    "plot_loss(train_loss)"
   ]
  },
  {
   "cell_type": "code",
   "execution_count": 12,
   "id": "78de5ee2",
   "metadata": {},
   "outputs": [
    {
     "data": {
      "text/plain": [
       "0.4025411"
      ]
     },
     "execution_count": 12,
     "metadata": {},
     "output_type": "execute_result"
    }
   ],
   "source": [
    "loss.detach().numpy().sum()"
   ]
  },
  {
   "cell_type": "code",
   "execution_count": 13,
   "id": "93e2e8bd",
   "metadata": {},
   "outputs": [
    {
     "name": "stdout",
     "output_type": "stream",
     "text": [
      "\n",
      "\n",
      "########## Train Data Accuracy ######### \n",
      "\n",
      "\n",
      "              precision    recall  f1-score   support\n",
      "\n",
      "           0       0.80      0.83      0.82      6000\n",
      "           1       0.97      0.96      0.97      6000\n",
      "           2       0.75      0.77      0.76      6000\n",
      "           3       0.86      0.87      0.86      6000\n",
      "           4       0.75      0.79      0.77      6000\n",
      "           5       0.94      0.92      0.93      6000\n",
      "           6       0.67      0.59      0.63      6000\n",
      "           7       0.91      0.91      0.91      6000\n",
      "           8       0.94      0.95      0.95      6000\n",
      "           9       0.93      0.94      0.93      6000\n",
      "\n",
      "    accuracy                           0.85     60000\n",
      "   macro avg       0.85      0.85      0.85     60000\n",
      "weighted avg       0.85      0.85      0.85     60000\n",
      "\n"
     ]
    },
    {
     "data": {
      "image/png": "[encoded data removed]",
      "text/plain": [
       "<Figure size 432x288 with 2 Axes>"
      ]
     },
     "metadata": {
      "needs_background": "light"
     },
     "output_type": "display_data"
    },
    {
     "name": "stdout",
     "output_type": "stream",
     "text": [
      "\n",
      "\n",
      "########## Test Data Accuracy ######### \n",
      "\n",
      "\n",
      "              precision    recall  f1-score   support\n",
      "\n",
      "           0       0.80      0.81      0.81      1000\n",
      "           1       0.97      0.95      0.96      1000\n",
      "           2       0.71      0.74      0.73      1000\n",
      "           3       0.83      0.86      0.85      1000\n",
      "           4       0.72      0.76      0.74      1000\n",
      "           5       0.94      0.91      0.92      1000\n",
      "           6       0.63      0.55      0.59      1000\n",
      "           7       0.90      0.91      0.91      1000\n",
      "           8       0.93      0.94      0.94      1000\n",
      "           9       0.92      0.94      0.93      1000\n",
      "\n",
      "    accuracy                           0.84     10000\n",
      "   macro avg       0.84      0.84      0.84     10000\n",
      "weighted avg       0.84      0.84      0.84     10000\n",
      "\n"
     ]
    },
    {
     "data": {
      "image/png": "[encoded data removed]",
      "text/plain": [
       "<Figure size 432x288 with 2 Axes>"
      ]
     },
     "metadata": {
      "needs_background": "light"
     },
     "output_type": "display_data"
    }
   ],
   "source": [
    "accuracy(train_loader,test_loader,model)"
   ]
  },
  {
   "cell_type": "code",
   "execution_count": 14,
   "id": "76d0c76b",
   "metadata": {},
   "outputs": [],
   "source": [
    "######### CNN Example\n",
    "class CNN(nn.Module):\n",
    "    def __init__(self,in_channels=1,num_classes=10):\n",
    "        super(CNN,self).__init__()\n",
    "        self.conv1 = nn.Conv2d(in_channels,8,kernel_size=(2,2),stride=(1,1),padding=(1,1))\n",
    "        self.conv2 = nn.Conv2d(8,16,kernel_size=(2,2),stride=(1,1),padding=(1,1))\n",
    "        self.maxpool = nn.MaxPool2d(kernel_size=(2,2),stride=(2,2))\n",
    "        self.fc1 = nn.Linear(16*7*7,10)        \n",
    "#         self.fc2 = nn.Linear(20,num_classes)\n",
    "    def forward(self,x):\n",
    "        x = F.relu(self.conv1(x))\n",
    "        x = self.maxpool(x)\n",
    "        x = F.relu(self.conv2(x))\n",
    "        x = self.maxpool(x)\n",
    "        x = x.reshape(x.shape[0],-1)\n",
    "#         print(x.shape)\n",
    "        x = self.fc1(x)     \n",
    "#         x = self.fc2(x)       \n",
    "#         x = self.fc2(x)\n",
    "        return x"
   ]
  },
  {
   "cell_type": "code",
   "execution_count": null,
   "id": "5a6d7f78",
   "metadata": {},
   "outputs": [
    {
     "name": "stdout",
     "output_type": "stream",
     "text": [
      "epoch 100/1  loss=0.8723046779632568 \n",
      "epoch 100/2  loss=0.6816059350967407 \n",
      "epoch 100/3  loss=0.321475088596344 \n"
     ]
    }
   ],
   "source": [
    "in_channels= 1\n",
    "num_classes= 10\n",
    "lr = 0.0001\n",
    "epochs = 100\n",
    "\n",
    "## Model Initialization\n",
    "model_cnn = CNN(in_channels,num_classes)\n",
    "\n",
    "\n",
    "## Loss Function and Optimizer\n",
    "loss_func = nn.CrossEntropyLoss()\n",
    "optimizer = optim.Adam(model_cnn.parameters(),lr=lr)\n",
    "\n",
    "\n",
    "##### Train The network ##########\n",
    "train_loss = []\n",
    "for epoch in range(epochs):\n",
    "    for batch_id,(x,y) in  enumerate(train_loader):\n",
    "        \n",
    "#         x = x.reshape(x.shape[0],-1)\n",
    "        scores = model_cnn(x)\n",
    "        loss = loss_func(scores,y)\n",
    "        \n",
    "        # backward prop\n",
    "        optimizer.zero_grad()\n",
    "        loss.backward()\n",
    "        \n",
    "        optimizer.step()\n",
    "    \n",
    "    train_loss.append(loss.detach().numpy().sum())\n",
    "    print('epoch {}/{}  loss={} '.format(epochs, epoch+1,loss))\n",
    "plot_loss(train_loss)\n",
    "    \n",
    "\n",
    "\n",
    "        \n"
   ]
  },
  {
   "cell_type": "code",
   "execution_count": null,
   "id": "c9a33443",
   "metadata": {},
   "outputs": [],
   "source": [
    "accuracy(train_loader,test_loader,model_cnn,reshape=False)"
   ]
  },
  {
   "cell_type": "code",
   "execution_count": null,
   "id": "39b1ae39",
   "metadata": {},
   "outputs": [],
   "source": []
  },
  {
   "cell_type": "code",
   "execution_count": null,
   "id": "26ec9808",
   "metadata": {},
   "outputs": [],
   "source": [
    "import cv2"
   ]
  },
  {
   "cell_type": "code",
   "execution_count": null,
   "id": "b01f132a",
   "metadata": {},
   "outputs": [],
   "source": [
    "img = cv2.imread('download.jpeg')\n",
    "cv2.imshow('Image',img)"
   ]
  },
  {
   "cell_type": "code",
   "execution_count": null,
   "id": "1256e601",
   "metadata": {},
   "outputs": [],
   "source": []
  },
  {
   "cell_type": "code",
   "execution_count": null,
   "id": "a39b382c",
   "metadata": {},
   "outputs": [],
   "source": []
  },
  {
   "cell_type": "code",
   "execution_count": null,
   "id": "a2097d3e",
   "metadata": {},
   "outputs": [],
   "source": []
  }
 ],
 "metadata": {
  "kernelspec": {
   "display_name": "Python 3 (ipykernel)",
   "language": "python",
   "name": "python3"
  },
  "language_info": {
   "codemirror_mode": {
    "name": "ipython",
    "version": 3
   },
   "file_extension": ".py",
   "mimetype": "text/x-python",
   "name": "python",
   "nbconvert_exporter": "python",
   "pygments_lexer": "ipython3",
   "version": "3.10.6"
  },
  "vscode": {
   "interpreter": {
    "hash": "b0fa6594d8f4cbf19f97940f81e996739fb7646882a419484c72d19e05852a7e"
   }
  }
 },
 "nbformat": 4,
 "nbformat_minor": 5
}
